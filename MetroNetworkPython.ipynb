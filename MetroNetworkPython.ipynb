{
 "metadata": {
  "name": "",
  "signature": "sha256:e84f7cb8fa767c8cc1b8e0bd33a4ac97f7a29d494293f28c564f1b60c31fb5db"
 },
 "nbformat": 3,
 "nbformat_minor": 0,
 "worksheets": [
  {
   "cells": [
    {
     "cell_type": "code",
     "collapsed": false,
     "input": [
      "import igraph\n",
      "import pylab"
     ],
     "language": "python",
     "metadata": {},
     "outputs": [],
     "prompt_number": 16
    },
    {
     "cell_type": "code",
     "collapsed": false,
     "input": [
      "Stations_Lines = [20, 24, 21, 10, 13, 11, 14, 19, 12, 10, 21, 20]\n",
      "Lines = len(Stations_Lines)\n",
      "N = sum(Stations_Lines);"
     ],
     "language": "python",
     "metadata": {},
     "outputs": [],
     "prompt_number": 17
    },
    {
     "cell_type": "code",
     "collapsed": false,
     "input": [
      "g = igraph.Graph(195)\n",
      "s = 0\n",
      "for l in range(0, len(Stations_Lines)):\n",
      "    for station in range(s, Stations_Lines[l] + s - 1):\n",
      "        g.add_edges([(station, station + 1)])\n",
      "        #print station, station + 1\n",
      "        s += 1\n",
      "    s += 1"
     ],
     "language": "python",
     "metadata": {},
     "outputs": [],
     "prompt_number": 18
    },
    {
     "cell_type": "code",
     "collapsed": false,
     "input": [
      "g.add_edges([(1, 35)])\n",
      "g.add_edges([(8, 53)])\n",
      "g.add_edges([(13, 72)])\n",
      "g.add_edges([(20, 88)])\n",
      "g.add_edges([(2, 109)])\n",
      "g.add_edges([(9, 117)])\n",
      "g.add_edges([(2, 133)])\n",
      "g.add_edges([(20, 144)])\n",
      "g.add_edges([(14, 161)])\n",
      "g.add_edges([(30, 51)])\n",
      "g.add_edges([(23, 104)])\n",
      "g.add_edges([(31, 115)])\n",
      "g.add_edges([(36, 138)])\n",
      "g.add_edges([(42, 182)])\n",
      "g.add_edges([(48, 79)])\n",
      "g.add_edges([(46, 97)])\n",
      "g.add_edges([(56, 136)])\n",
      "g.add_edges([(50, 156)])\n",
      "g.add_edges([(69, 82)])\n",
      "g.add_edges([(66, 99)])\n",
      "g.add_edges([(75, 122)])\n",
      "g.add_edges([(74, 139)])\n",
      "g.add_edges([(71, 159)])\n",
      "g.add_edges([(77, 95)])\n",
      "g.add_edges([(88, 144)])\n",
      "g.add_edges([(88, 145)])\n",
      "g.add_edges([(85, 164)])\n",
      "g.add_edges([(89, 100)])\n",
      "g.add_edges([(112, 176)])\n",
      "g.add_edges([(120, 138)])\n",
      "g.add_edges([(114, 157)])\n",
      "g.add_edges([(128, 184)])\n",
      "g.add_edges([(144, 145)])"
     ],
     "language": "python",
     "metadata": {},
     "outputs": [],
     "prompt_number": 19
    },
    {
     "cell_type": "code",
     "collapsed": false,
     "input": [
      "print(g)"
     ],
     "language": "python",
     "metadata": {},
     "outputs": [
      {
       "output_type": "stream",
       "stream": "stdout",
       "text": [
        "IGRAPH U--- 195 216 --\n",
        "+ edges:\n",
        "0--1 1--2 2--3 3--4 4--5 5--6 6--7 7--8 8--9 9--10 10--11 11--12 12--13 13--14\n",
        "14--15 15--16 16--17 17--18 18--19 20--21 21--22 22--23 23--24 24--25 25--26\n",
        "26--27 27--28 28--29 29--30 30--31 31--32 32--33 33--34 34--35 35--36 36--37\n",
        "37--38 38--39 39--40 40--41 41--42 42--43 44--45 45--46 46--47 47--48 48--49\n",
        "49--50 50--51 51--52 52--53 53--54 54--55 55--56 56--57 57--58 58--59 59--60\n",
        "60--61 61--62 62--63 63--64 65--66 66--67 67--68 68--69 69--70 70--71 71--72\n",
        "72--73 73--74 75--76 76--77 77--78 78--79 79--80 80--81 81--82 82--83 83--84\n",
        "84--85 85--86 86--87 88--89 89--90 90--91 91--92 92--93 93--94 94--95 95--96\n",
        "96--97 97--98 99--100 100--101 101--102 102--103 103--104 104--105 105--106\n",
        "106--107 107--108 108--109 109--110 110--111 111--112 113--114 114--115\n",
        "115--116 116--117 117--118 118--119 119--120 120--121 121--122 122--123\n",
        "123--124 124--125 125--126 126--127 127--128 128--129 129--130 130--131\n",
        "132--133 133--134 134--135 135--136 136--137 137--138 138--139 139--140\n",
        "140--141 141--142 142--143 144--145 145--146 146--147 147--148 148--149\n",
        "149--150 150--151 151--152 152--153 154--155 155--156 156--157 157--158\n",
        "158--159 159--160 160--161 161--162 162--163 163--164 164--165 165--166\n",
        "166--167 167--168 168--169 169--170 170--171 171--172 172--173 173--174\n",
        "175--176 176--177 177--178 178--179 179--180 180--181 181--182 182--183\n",
        "183--184 184--185 185--186 186--187 187--188 188--189 189--190 190--191\n",
        "191--192 192--193 193--194 1--35 8--53 13--72 20--88 2--109 9--117 2--133\n",
        "20--144 14--161 30--51 23--104 31--115 36--138 42--182 48--79 46--97 56--136\n",
        "50--156 69--82 66--99 75--122 74--139 71--159 77--95 88--144 88--145 85--164\n",
        "89--100 112--176 120--138 114--157 128--184 144--145\n"
       ]
      }
     ],
     "prompt_number": 20
    },
    {
     "cell_type": "code",
     "collapsed": false,
     "input": [
      "betw = g.betweenness()"
     ],
     "language": "python",
     "metadata": {},
     "outputs": [],
     "prompt_number": 22
    },
    {
     "cell_type": "code",
     "collapsed": false,
     "input": [
      "pylab.hist(betw, bins = 100)\n",
      "pylab.show()"
     ],
     "language": "python",
     "metadata": {},
     "outputs": [],
     "prompt_number": 23
    },
    {
     "cell_type": "code",
     "collapsed": false,
     "input": [
      "max(betw)"
     ],
     "language": "python",
     "metadata": {},
     "outputs": [
      {
       "metadata": {},
       "output_type": "pyout",
       "prompt_number": 15,
       "text": [
        "4538.9833333333345"
       ]
      }
     ],
     "prompt_number": 15
    },
    {
     "cell_type": "code",
     "collapsed": false,
     "input": [
      "function ConnectLines(g)\n",
      "    add_edge!(g, 2, 109)\n",
      "    add_edge!(g, 9, 117)\n",
      "    add_edge!(g, 2, 133)\n",
      "    add_edge!(g, 20, 144)\n",
      "    add_edge!(g, 14, 161)\n",
      "    add_edge!(g, 30, 51)\n",
      "    add_edge!(g, 23, 104)\n",
      "    add_edge!(g, 31, 115)\n",
      "    add_edge!(g, 36, 138)\n",
      "    add_edge!(g, 42, 182)\n",
      "    add_edge!(g, 48, 79)\n",
      "    add_edge!(g, 46, 97)\n",
      "    add_edge!(g, 56, 136)\n",
      "    add_edge!(g, 50, 156)\n",
      "    add_edge!(g, 69, 82)\n",
      "    add_edge!(g, 66, 99)\n",
      "    add_edge!(g, 75, 122)\n",
      "    add_edge!(g, 74, 139)\n",
      "    add_edge!(g, 71, 159)\n",
      "    add_edge!(g, 77, 95)\n",
      "    add_edge!(g, 88, 144)\n",
      "    add_edge!(g, 88, 145)\n",
      "    add_edge!(g, 85, 164)\n",
      "    add_edge!(g, 89, 100)\n",
      "    add_edge!(g, 112, 176)\n",
      "    add_edge!(g, 120, 138)\n",
      "    add_edge!(g, 114, 157)\n",
      "    add_edge!(g, 128, 184)\n",
      "    add_edge!(g, 144, 145)\n",
      "    return g\n",
      "end"
     ],
     "language": "python",
     "metadata": {},
     "outputs": []
    },
    {
     "cell_type": "code",
     "collapsed": false,
     "input": [
      "get.edgelist(g)"
     ],
     "language": "python",
     "metadata": {},
     "outputs": [
      {
       "ename": "NameError",
       "evalue": "name 'get' is not defined",
       "output_type": "pyerr",
       "traceback": [
        "\u001b[1;31m---------------------------------------------------------------------------\u001b[0m\n\u001b[1;31mNameError\u001b[0m                                 Traceback (most recent call last)",
        "\u001b[1;32m<ipython-input-27-6933f27ebcb0>\u001b[0m in \u001b[0;36m<module>\u001b[1;34m()\u001b[0m\n\u001b[1;32m----> 1\u001b[1;33m \u001b[0mget\u001b[0m\u001b[1;33m.\u001b[0m\u001b[0medgelist\u001b[0m\u001b[1;33m(\u001b[0m\u001b[0mg\u001b[0m\u001b[1;33m)\u001b[0m\u001b[1;33m\u001b[0m\u001b[0m\n\u001b[0m",
        "\u001b[1;31mNameError\u001b[0m: name 'get' is not defined"
       ]
      }
     ],
     "prompt_number": 27
    },
    {
     "cell_type": "code",
     "collapsed": false,
     "input": [
      "MetroNetwork = igraph.graph(10)"
     ],
     "language": "python",
     "metadata": {},
     "outputs": [
      {
       "ename": "AttributeError",
       "evalue": "'module' object has no attribute 'graph'",
       "output_type": "pyerr",
       "traceback": [
        "\u001b[1;31m---------------------------------------------------------------------------\u001b[0m\n\u001b[1;31mAttributeError\u001b[0m                            Traceback (most recent call last)",
        "\u001b[1;32m<ipython-input-3-f14fe834a91e>\u001b[0m in \u001b[0;36m<module>\u001b[1;34m()\u001b[0m\n\u001b[1;32m----> 1\u001b[1;33m \u001b[0mMetroNetwork\u001b[0m \u001b[1;33m=\u001b[0m \u001b[0migraph\u001b[0m\u001b[1;33m.\u001b[0m\u001b[0mgraph\u001b[0m\u001b[1;33m(\u001b[0m\u001b[1;36m10\u001b[0m\u001b[1;33m)\u001b[0m\u001b[1;33m\u001b[0m\u001b[0m\n\u001b[0m",
        "\u001b[1;31mAttributeError\u001b[0m: 'module' object has no attribute 'graph'"
       ]
      }
     ],
     "prompt_number": 3
    },
    {
     "cell_type": "code",
     "collapsed": false,
     "input": [
      "MetroNetwork = simple_graph(N, is_directed=false)\n",
      "function ConnectNetwork(g, stations_lines)\n",
      "    s = 1\n",
      "    for l = 1:length(stations_lines)\n",
      "        for station in s:stations_lines[l] + s - 2\n",
      "            add_edge!(g, station, station + 1)\n",
      "            s += 1\n",
      "        end\n",
      "        s += 1\n",
      "    end\n",
      "    return g\n",
      "end"
     ],
     "language": "python",
     "metadata": {},
     "outputs": []
    }
   ],
   "metadata": {}
  }
 ]
}