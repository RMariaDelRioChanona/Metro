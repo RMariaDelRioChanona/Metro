{
 "cells": [
  {
   "cell_type": "markdown",
   "metadata": {},
   "source": [
    "# Creando y manipulando las líneas..."
   ]
  },
  {
   "cell_type": "markdown",
   "metadata": {},
   "source": [
    "Construimos la red de metro del D.F definiendo a cada línea como un `Array` de `Strings`. Unimos cada línea en un `Array` que contengo como elemento a cada una de las líneas. "
   ]
  },
  {
   "cell_type": "markdown",
   "metadata": {},
   "source": [
    "<img src=\"Mexico_City_metro.png\"> "
   ]
  },
  {
   "cell_type": "code",
   "execution_count": 1,
   "metadata": {
    "collapsed": true
   },
   "outputs": [],
   "source": [
    "#Nombre de las estaciones para cada línea\n",
    "\n",
    "Linea1 = String[\"Observatorio\", \"Tacubaya\", \"Juanacatlán\", \"Chapultepec\", \"Sevilla\", \"Insurgentes\", \"Cuauhtémoc\", \"Balderas\", \n",
    "\"Salto del Agua\", \"Isabel la Católica\", \"Pino Suárez\", \"Merced\", \"Candelaria\", \"San Lázaro\", \"Moctezuma\", \"Balbuena\",\n",
    "    \"Boulevard Puerto Aéreo\", \"Gómez Farías\", \"Zaragoza\", \"Pantitlán\" ];\n",
    "\n",
    "Linea2 = String[\"Cuatro Caminos\", \"Panteones\", \"Tacuba\", \"Cuitlahuac\", \"Popotla\", \"Colegio Militar\", \"Normal\", \"San Cosme\", \n",
    "    \"Revolución\", \"Hidalgo\", \"Bellas Artes\", \"Allende\", \"Zócalo\", \"Pino Suárez\", \"San Antonio Abad\", \"Chabacano\", \"Viaducto\",\n",
    "    \"Xola\", \"Villa de Cortés\", \"Nativitas\", \"Portales\", \"Ermita\", \"General Anaya\", \"Tasqueña\"]\n",
    "\n",
    "Linea3 = String[\"Indios Verdes\", \"Deportivo 18 de Marzo\", \"Potrero\", \"La Raza\", \"Tlatelolco\", \"Guerrero\", \"Hidalgo\", \"Juárez\",\n",
    "\"Balderas\", \"Niños Héroes\", \"Hospital General\", \"Centro Médico\", \"Etiopía\", \"Eugenia\", \"División del Norte\", \"Zapata\", \n",
    "\"Coyoacán\", \"Viveros\", \"Miguel Angel de Quevedo\", \"Copilco\", \"Universidad\"]\n",
    "\n",
    "Linea4 = String[\"Martín Carrera\", \"Talismán\", \"Bondojito\", \"Consulado\", \"Canal del Norte\", \"Morelos\", \"Candelaria\",\n",
    "    \"Fray Servando\", \"Jamaica\", \"Santa Anita\"]\n",
    "\n",
    "Linea5 = String[\"Pantitlán\", \"Hangares\", \"Terminal Aérea\", \"Oceanía\", \"Aragón\", \"Eduardo Molina\", \"Consulado\", \"Valle Gómez\",\n",
    "\"Misterios\", \"La Raza\", \"Autobuses del Norte\", \"Instituto del Petróleo\", \"Politécnico\"]\n",
    "\n",
    "Linea6 = String[\"El Rosario\", \"Tezozomoc\", \"Azcapotzalco\", \"Ferrería\", \"Norte 45\", \"Vallejo\", \"Instituto del Petróleo\", \n",
    "    \"Lindavista\", \"Deportivo 18 de Marzo\", \"La Villa-Basílica\", \"Martín Carrera\"]\n",
    "\n",
    "Linea7 = String[\"El Rosario\", \"Aquiles Sedán\", \"Camarones\", \"Refinería\", \"Tacuba\", \"San Joaquín\", \"Polanco\", \"Auditorio\",\n",
    "\"Constituyentes\", \"Tacubaya\", \"San Pedro de los Pinos\", \"San Antonio\", \"Mixcoac\", \"Barranca del Muerto\"]\n",
    "\n",
    "Linea8 = String[\"Garibaldi\", \"Bellas Artes\", \"San Juan de Letrán\", \"Salto del Agua\", \"Doctores\", \"Obrera\", \"Chabacano\",\n",
    "    \"La Viga\", \"Santa Anita\", \"Coyuya\", \"Iztacalco\", \"Apatlaco\", \"Aculco\", \"Escuadrón 201\", \"Atlalilco\", \"Iztapalapa\",\n",
    "\"Cerro de la Estrella\", \"UAM-I\", \"Constitución de 1917\"];\n",
    "\n",
    "Linea9 = String[\"Tacubaya\", \"Patriotismo\", \"Chilpancingo\", \"Centro Médico\",  \"Lázaro Cárdenas\", \"Chabacano\", \"Jamaica\", \"Mixiuhca\"\n",
    ", \"Velódromo\", \"Ciudad Deportiva\", \"Puebla\", \"Pantitlán\"]\n",
    "\n",
    "LineaA = String[\"Pantitlán\", \"Agrícola Oriental\", \"Canal de San Juan\", \"Tepalcates\", \"Guelatao\", \"Peñón Viejo\", \"Acatitla\",\n",
    "\"Santa Marta\", \"Los Reyes\", \"La Paz\" ]\n",
    "\n",
    "LineaB = String[\"Ciudad Azteca\", \"Plaza Aragón\", \"Olímpica\", \"Ecatepec\", \"Muzquiz\", \"Río de los Remedios\", \"Impulsora\", \n",
    "    \"Nezahualcóyotl\", \"Villa de Aragón\", \"Bosque de Aragón\", \"Deportivo Oceanía\", \"Oceanía\", \"Romero Rubio\", \"R. Flores Magón\",\n",
    "    \"San Lázaro\", \"Morelos\", \"Tepito\", \"Lagunilla\", \"Garibaldi\", \"Guerrero\", \"Buenavista\" ];\n",
    "\n",
    "Linea12 = String[\"Mixcoac\", \"Insurgentes Sur\", \"Hospital 20 de Noviembre\", \"Zapata\", \"Parque de los Venados\", \"Eje Central\",\n",
    "\"Ermita\", \"Mexicaltzingo\", \"Atlalilco\", \"Culhuacán\", \"San Andrés Tomatlán\", \"Lomas Estrella\", \"Calle 11\", \"Periférico Oriente\"\n",
    "    , \"Tezonco\", \"Olivos\", \"Nopalera\", \"Zapotitlán\", \"Tlaltenco\", \"Tláhuac\"];"
   ]
  },
  {
   "cell_type": "code",
   "execution_count": 1,
   "metadata": {
    "collapsed": true
   },
   "outputs": [],
   "source": [
    "# Líneas Express\n",
    "Express_Linea1  = String[\"Tacubaya\",\"Balderas\",\"Salto del Agua\",\"Pino Suárez\",\"Candelaria\",\"San Lázaro\",\"Oceanía\"]\n",
    "\n",
    "Express_Linea2  = String[\"Tacuba\",\"Hidalgo\",\"Bellas Artes\",\"Pino Suárez\",\"Chabacano\",\"Ermita\"]\n",
    "\n",
    "Express_Linea3  = String[\"Deportivo 18 de Marzo\",\"La Raza\",\"Guerrero\",\"Hidalgo\",\"Balderas\",\"Centro Médico\",\"Zapata\"]\n",
    "\n",
    "Express_Linea4  = String[\"Martín Carrera\",\"Consulado\",\"Morelos\",\"Candelaria\",\"Santa Anita\"]\n",
    "\n",
    "Express_Linea5  = String[\"Pantitlán\",\"Oceanía\",\"Consulado\",\"La Raza\",\"Instituto del Petróleo\"]\n",
    "\n",
    "Express_Linea6  = String[\"El Rosario\",\"Instituto del Petróleo\",\"Deportivo 18 de Marzo\",\"Martín Carrera\"]\n",
    "\n",
    "Express_Linea7  = String[\"El Rosario\",\"Tacuba\",\"Tacubaya\",\"Mixcoac\"]\n",
    "\n",
    "Express_Linea8  = String[\"Garibaldi\",\"Bellas Artes\",\"Salto del Agua\",\"Chabacano\",\"Santa Anita\",\"Atlalilco\"]\n",
    "\n",
    "Express_Linea9  = String[\"Tacubaya\",\"Centro Médico\",\"Chabacano\",\"Jamaica\",\"Pantitlán\"]\n",
    "\n",
    "Express_LineaA  = String[\"Pantitlán\",\"Peñón Viejo\"]\n",
    "\n",
    "Express_LineaB  = String[\"Ciudad Azteca\",\"Río de los Remedios\",\"Oceanía\",\"San Lázaro\",\"Morelos\",\"Garibaldi\",\"Guerrero\"]\n",
    "\n",
    "Express_Linea12 = String[\"Mixcoac\",\"Zapata\",\"Ermita\",\"Atlalilco\",\"Periférico Oriente\",\"Tláhuac\"];"
   ]
  },
  {
   "cell_type": "code",
   "execution_count": 23,
   "metadata": {
    "collapsed": false
   },
   "outputs": [],
   "source": [
    "#Linea Madre: contiene a cada línea como un elemento de un arreglo\n",
    "Todas_Lineas = Array{String}[]\n",
    "    push!(Todas_Lineas,Linea1,Linea2,Linea3,Linea4,Linea5,Linea6,Linea7,Linea8,Linea9,LineaA,LineaB,Linea12);\n",
    "\n",
    "#Línea MadrePlus = Línea Express + Línea Madre\n",
    "Todas_LineasPlus = Array{String}[]\n",
    "for i in 1:12\n",
    "    push!(Todas_LineasPlus,Todas_Lineas[i])\n",
    "end\n",
    "push!(Todas_LineasPlus,Express_Linea1,Express_Linea2,Express_Linea3,Express_Linea4,Express_Linea5,Express_Linea6,Express_Linea7,Express_Linea8,Express_Linea9,Express_LineaA,Express_LineaB,Express_Linea12);"
   ]
  },
  {
   "cell_type": "markdown",
   "metadata": {},
   "source": [
    "Ahora las funciones:"
   ]
  },
  {
   "cell_type": "code",
   "execution_count": 4,
   "metadata": {
    "collapsed": false
   },
   "outputs": [
    {
     "data": {
      "text/plain": [
       "Length_Lineas (generic function with 2 methods)"
      ]
     },
     "execution_count": 4,
     "metadata": {},
     "output_type": "execute_result"
    }
   ],
   "source": [
    "# Tamaño de cada línea, respectivamente\n",
    "function Length_Lineas(total_lines=Todas_Lineas)\n",
    "    length_lines = zeros(length(total_lines))\n",
    "    for i in 1:length(total_lines)\n",
    "        length_lines[i] = length(total_lines[i])\n",
    "    end\n",
    "    int(length_lines)\n",
    "end "
   ]
  },
  {
   "cell_type": "code",
   "execution_count": 5,
   "metadata": {
    "collapsed": false
   },
   "outputs": [
    {
     "data": {
      "text/plain": [
       "195"
      ]
     },
     "execution_count": 5,
     "metadata": {},
     "output_type": "execute_result"
    }
   ],
   "source": [
    "# número total de estaciones\n",
    "Length_Estaciones(total_lines=Todas_Lineas) = int(sum(Length_Lineas(total_lines)))\n",
    "N = Length_Estaciones()"
   ]
  },
  {
   "cell_type": "code",
   "execution_count": 6,
   "metadata": {
    "collapsed": false
   },
   "outputs": [
    {
     "data": {
      "text/plain": [
       "GetStationNumber (generic function with 2 methods)"
      ]
     },
     "execution_count": 6,
     "metadata": {},
     "output_type": "execute_result"
    }
   ],
   "source": [
    "#Dada la estación N de la línea M, nos dice que la estación N es la número N de esa línea\n",
    "function GetStationNumber(station_name, line_num, total_lines=Todas_Lineas)\n",
    "    line = total_lines[line_num]\n",
    "    if station_name in line\n",
    "    else\n",
    "       # println(\"Error, la estación no está en esa línea\")\n",
    "        return 0\n",
    "    end\n",
    "    ##Acabamos de verificar que la estación esté en la línea\n",
    "    num_1 = 0 \n",
    "    for l in total_lines[1:line_num - 1]\n",
    "        num_1 += length(l)\n",
    "    end\n",
    "    ##Hasta aquí llegamos a una estación antes de la primera de la lista\n",
    "    num_2 = 0\n",
    "    for station in line\n",
    "        num_2 += 1\n",
    "        if station == station_name\n",
    "            break\n",
    "        end\n",
    "    end\n",
    "    ##Sumamos estaciones de la misma línea hasta llegar a la que queremos\n",
    "    return num_1 + num_2\n",
    "end"
   ]
  },
  {
   "cell_type": "code",
   "execution_count": 20,
   "metadata": {
    "collapsed": false
   },
   "outputs": [
    {
     "data": {
      "text/plain": [
       "GetStationName (generic function with 3 methods)"
      ]
     },
     "execution_count": 20,
     "metadata": {},
     "output_type": "execute_result"
    }
   ],
   "source": [
    "#Dada un número de estación N de la línea M, nos dice cuál es la estación N de la línea M.\n",
    "function GetStationName(station_number, total_lines=Todas_Lineas,station_length=Length_Lineas(total_lines))\n",
    "\n",
    "    num = station_length[1]\n",
    "    l = 0\n",
    "    stations_so_far = 0\n",
    "    for i = 1:length(total_lines) #12 pues tenemos 12 líneas\n",
    "        if  station_number <= num\n",
    "            l = i\n",
    "            break \n",
    "        end\n",
    "        num += station_length[i + 1]\n",
    "    end\n",
    "    dif =  station_number - num + station_length[l]\n",
    "    #println(dif)\n",
    "    return total_lines[l][dif]   \n",
    "end"
   ]
  },
  {
   "cell_type": "code",
   "execution_count": 22,
   "metadata": {
    "collapsed": true
   },
   "outputs": [],
   "source": [
    "### Arreglo de Trasbordos totales\n",
    "function Transfer_List(total_lines=Todas_Lineas)\n",
    "    transfer_list = Int[]\n",
    "    N = Length_Estaciones(total_lines)\n",
    "    for i = 1:N\n",
    "        for j = 1:N\n",
    "            if i == j\n",
    "                continue\n",
    "                elseif GetStationName(i,total_lines) == GetStationName(j,total_lines)\n",
    "                    if i in transfer_list\n",
    "                        continue\n",
    "                    else\n",
    "                        push!(transfer_list,i)\n",
    "                    end\n",
    "            end\n",
    "        end\n",
    "    end\n",
    "    transfer_list\n",
    "end\n",
    "\n",
    "transfer_list = Transfer_List() \n",
    "transfer_listplus = Transfer_List(Todas_LineasPlus);"
   ]
  },
  {
   "cell_type": "code",
   "execution_count": 18,
   "metadata": {
    "collapsed": true
   },
   "outputs": [
    {
     "name": "stdout",
     "output_type": "stream",
     "text": [
      "2 = Tacubaya\n",
      "8 = Balderas\n",
      "9 = Salto del Agua\n",
      "11 = Pino Suárez\n",
      "13 = Candelaria\n",
      "14 = San Lázaro\n",
      "20 = Pantitlán\n",
      "23 = Tacuba\n",
      "30 = Hidalgo\n",
      "31 = Bellas Artes\n",
      "34 = Pino Suárez\n",
      "36 = Chabacano\n",
      "42 = Ermita\n",
      "46 = Deportivo 18 de Marzo\n",
      "48 = La Raza\n",
      "50 = Guerrero\n",
      "51 = Hidalgo\n",
      "53 = Balderas\n",
      "56 = Centro Médico\n",
      "60 = Zapata\n",
      "66 = Martín Carrera\n",
      "69 = Consulado\n",
      "71 = Morelos\n",
      "72 = Candelaria\n",
      "74 = Jamaica\n",
      "75 = Santa Anita\n",
      "76 = Pantitlán\n",
      "79 = Oceanía\n",
      "82 = Consulado\n",
      "85 = La Raza\n",
      "87 = Instituto del Petróleo\n",
      "89 = El Rosario\n",
      "95 = Instituto del Petróleo\n",
      "97 = Deportivo 18 de Marzo\n",
      "99 = Martín Carrera\n",
      "100 = El Rosario\n",
      "104 = Tacuba\n",
      "109 = Tacubaya\n",
      "112 = Mixcoac\n",
      "114 = Garibaldi\n",
      "115 = Bellas Artes\n",
      "117 = Salto del Agua\n",
      "120 = Chabacano\n",
      "122 = Santa Anita\n",
      "128 = Atlalilco\n",
      "133 = Tacubaya\n",
      "136 = Centro Médico\n",
      "138 = Chabacano\n",
      "139 = Jamaica\n",
      "144 = Pantitlán\n",
      "145 = Pantitlán\n",
      "166 = Oceanía\n",
      "169 = San Lázaro\n",
      "170 = Morelos\n",
      "173 = Garibaldi\n",
      "174 = Guerrero\n",
      "176 = Mixcoac\n",
      "179 = Zapata\n",
      "182 = Ermita\n",
      "184 = Atlalilco\n"
     ]
    }
   ],
   "source": [
    "#Transbordos línea normal\n",
    "for i in transfer_list\n",
    "    a = GetStationName(i)\n",
    "    println(\"$i = $a\")\n",
    "end"
   ]
  },
  {
   "cell_type": "code",
   "execution_count": 26,
   "metadata": {
    "collapsed": true
   },
   "outputs": [
    {
     "name": "stdout",
     "output_type": "stream",
     "text": [
      "2 = Tacubaya\n",
      "8 = Balderas\n",
      "9 = Salto del Agua\n",
      "11 = Pino Suárez\n",
      "13 = Candelaria\n",
      "14 = San Lázaro\n",
      "20 = Pantitlán\n",
      "23 = Tacuba\n",
      "30 = Hidalgo\n",
      "31 = Bellas Artes\n",
      "34 = Pino Suárez\n",
      "36 = Chabacano\n",
      "42 = Ermita\n",
      "46 = Deportivo 18 de Marzo\n",
      "48 = La Raza\n",
      "50 = Guerrero\n",
      "51 = Hidalgo\n",
      "53 = Balderas\n",
      "56 = Centro Médico\n",
      "60 = Zapata\n",
      "66 = Martín Carrera\n",
      "69 = Consulado\n",
      "71 = Morelos\n",
      "72 = Candelaria\n",
      "74 = Jamaica\n",
      "75 = Santa Anita\n",
      "76 = Pantitlán\n",
      "79 = Oceanía\n",
      "82 = Consulado\n",
      "85 = La Raza\n",
      "87 = Instituto del Petróleo\n",
      "89 = El Rosario\n",
      "95 = Instituto del Petróleo\n",
      "97 = Deportivo 18 de Marzo\n",
      "99 = Martín Carrera\n",
      "100 = El Rosario\n",
      "104 = Tacuba\n",
      "109 = Tacubaya\n",
      "112 = Mixcoac\n",
      "114 = Garibaldi\n",
      "115 = Bellas Artes\n",
      "117 = Salto del Agua\n",
      "120 = Chabacano\n",
      "122 = Santa Anita\n",
      "128 = Atlalilco\n",
      "133 = Tacubaya\n",
      "136 = Centro Médico\n",
      "138 = Chabacano\n",
      "139 = Jamaica\n",
      "144 = Pantitlán\n",
      "145 = Pantitlán\n",
      "150 = Peñón Viejo\n",
      "155 = Ciudad Azteca\n",
      "160 = Río de los Remedios\n",
      "166 = Oceanía\n",
      "169 = San Lázaro\n",
      "170 = Morelos\n",
      "173 = Garibaldi\n",
      "174 = Guerrero\n",
      "176 = Mixcoac\n",
      "179 = Zapata\n",
      "182 = Ermita\n",
      "184 = Atlalilco\n",
      "189 = Periférico Oriente\n",
      "195 = Tláhuac\n",
      "196 = Tacubaya\n",
      "197 = Balderas\n",
      "198 = Salto del Agua\n",
      "199 = Pino Suárez\n",
      "200 = Candelaria\n",
      "201 = San Lázaro\n",
      "202 = Oceanía\n",
      "203 = Tacuba\n",
      "204 = Hidalgo\n",
      "205 = Bellas Artes\n",
      "206 = Pino Suárez\n",
      "207 = Chabacano\n",
      "208 = Ermita\n",
      "209 = Deportivo 18 de Marzo\n",
      "210 = La Raza\n",
      "211 = Guerrero\n",
      "212 = Hidalgo\n",
      "213 = Balderas\n",
      "214 = Centro Médico\n",
      "215 = Zapata\n",
      "216 = Martín Carrera\n",
      "217 = Consulado\n",
      "218 = Morelos\n",
      "219 = Candelaria\n",
      "220 = Chabacano\n",
      "221 = Santa Anita\n",
      "222 = Pantitlán\n",
      "223 = Oceanía\n",
      "224 = Consulado\n",
      "225 = La Raza\n",
      "226 = Instituto del Petróleo\n",
      "227 = El Rosario\n",
      "228 = Instituto del Petróleo\n",
      "229 = Deportivo 18 de Marzo\n",
      "230 = Martín Carrera\n",
      "231 = El Rosario\n",
      "232 = Tacuba\n",
      "233 = Tacubaya\n",
      "234 = Mixcoac\n",
      "235 = Garibaldi\n",
      "236 = Bellas Artes\n",
      "237 = Salto del Agua\n",
      "238 = Chabacano\n",
      "239 = Santa Anita\n",
      "240 = Atlalilco\n",
      "241 = Tacubaya\n",
      "242 = Centro Médico\n",
      "243 = Chabacano\n",
      "244 = Jamaica\n",
      "245 = Pantitlán\n",
      "246 = Pantitlán\n",
      "247 = Peñón Viejo\n",
      "248 = Ciudad Azteca\n",
      "249 = Río de los Remedios\n",
      "250 = Oceanía\n",
      "251 = San Lázaro\n",
      "252 = Morelos\n",
      "253 = Garibaldi\n",
      "254 = Guerrero\n",
      "255 = Mixcoac\n",
      "256 = Zapata\n",
      "257 = Ermita\n",
      "258 = Atlalilco\n",
      "259 = Periférico Oriente\n",
      "260 = Tláhuac\n"
     ]
    },
    {
     "ename": "LoadError",
     "evalue": "BoundsError()\nwhile loading In[26], in expression starting on line 2",
     "output_type": "error",
     "traceback": [
      "BoundsError()\nwhile loading In[26], in expression starting on line 2",
      "",
      " in GetStationName at In[20]:12",
      " in anonymous at no file:3"
     ]
    }
   ],
   "source": [
    "#Lista trasbordos normales+express\n",
    "for i in transfer_listplus\n",
    "    b = GetStationName(i,Todas_LineasPlus)\n",
    "    println(\"$i = $b\")\n",
    "end"
   ]
  }
 ],
 "metadata": {
  "kernelspec": {
   "display_name": "Julia 0.3.7",
   "language": "julia",
   "name": "julia 0.3"
  },
  "language_info": {
   "name": "julia",
   "version": "0.3.7"
  }
 },
 "nbformat": 4,
 "nbformat_minor": 0
}
