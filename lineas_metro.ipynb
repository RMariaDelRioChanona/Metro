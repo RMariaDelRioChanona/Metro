{
 "cells": [
  {
   "cell_type": "markdown",
   "metadata": {},
   "source": [
    "# Creando y manipulando las líneas..."
   ]
  },
  {
   "cell_type": "markdown",
   "metadata": {},
   "source": [
    "Construimos la red de metro del D.F definiendo a cada línea como un `Array` de `Strings`. Unimos cada línea en un `Array` que contengo como elemento a cada una de las líneas. "
   ]
  },
  {
   "cell_type": "markdown",
   "metadata": {},
   "source": [
    "<img src=\"Mexico_City_metro.png\"> "
   ]
  },
  {
   "cell_type": "code",
   "execution_count": 6,
   "metadata": {
    "collapsed": true
   },
   "outputs": [],
   "source": [
    "#Nombre de las estaciones para cada línea\n",
    "\n",
    "Linea1 = String[\"Observatorio\", \"Tacubaya\", \"Juanacatlán\", \"Chapultepec\", \"Sevilla\", \"Insurgentes\", \"Cuauhtémoc\", \"Balderas\", \n",
    "\"Salto del Agua\", \"Isabel la Católica\", \"Pino Suárez\", \"Merced\", \"Candelaria\", \"San Lázaro\", \"Moctezuma\", \"Balbuena\",\n",
    "    \"Boulevard Puerto Aéreo\", \"Gómez Farías\", \"Zaragoza\", \"Pantitlán\" ];\n",
    "\n",
    "Linea2 = String[\"Cuatro Caminos\", \"Panteones\", \"Tacuba\", \"Cuitlahuac\", \"Popotla\", \"Colegio Militar\", \"Normal\", \"San Cosme\", \n",
    "    \"Revolución\", \"Hidalgo\", \"Bellas Artes\", \"Allende\", \"Zócalo\", \"Pino Suárez\", \"San Antonio Abad\", \"Chabacano\", \"Viaducto\",\n",
    "    \"Xola\", \"Villa de Cortés\", \"Nativitas\", \"Portales\", \"Ermita\", \"General Anaya\", \"Tasqueña\"]\n",
    "\n",
    "Linea3 = String[\"Indios Verdes\", \"Deportivo 18 de Marzo\", \"Potrero\", \"La Raza\", \"Tlatelolco\", \"Guerrero\", \"Hidalgo\", \"Juárez\",\n",
    "\"Balderas\", \"Niños Héroes\", \"Hospital General\", \"Centro Médico\", \"Etiopía\", \"Eugenia\", \"División del Norte\", \"Zapata\", \n",
    "\"Coyoacán\", \"Viveros\", \"Miguel Angel de Quevedo\", \"Copilco\", \"Universidad\"]\n",
    "\n",
    "Linea4 = String[\"Martín Carrera\", \"Talismán\", \"Bondojito\", \"Consulado\", \"Canal del Norte\", \"Morelos\", \"Candelaria\",\n",
    "    \"Fray Servando\", \"Jamaica\", \"Santa Anita\"]\n",
    "\n",
    "Linea5 = String[\"Pantitlán\", \"Hangares\", \"Terminal Aérea\", \"Oceanía\", \"Aragón\", \"Eduardo Molina\", \"Consulado\", \"Valle Gómez\",\n",
    "\"Misterios\", \"La Raza\", \"Autobuses del Norte\", \"Instituto del Petróleo\", \"Politécnico\"]\n",
    "\n",
    "Linea6 = String[\"El Rosario\", \"Tezozomoc\", \"Azcapotzalco\", \"Ferrería\", \"Norte 45\", \"Vallejo\", \"Instituto del Petróleo\", \n",
    "    \"Lindavista\", \"Deportivo 18 de Marzo\", \"La Villa-Basílica\", \"Martín Carrera\"]\n",
    "\n",
    "Linea7 = String[\"El Rosario\", \"Aquiles Sedán\", \"Camarones\", \"Refinería\", \"Tacuba\", \"San Joaquín\", \"Polanco\", \"Auditorio\",\n",
    "\"Constituyentes\", \"Tacubaya\", \"San Pedro de los Pinos\", \"San Antonio\", \"Mixcoac\", \"Barranca del Muerto\"]\n",
    "\n",
    "Linea8 = String[\"Garibaldi\", \"Bellas Artes\", \"San Juan de Letrán\", \"Salto del Agua\", \"Doctores\", \"Obrera\", \"Chabacano\",\n",
    "    \"La Viga\", \"Santa Anita\", \"Coyuya\", \"Iztacalco\", \"Apatlaco\", \"Aculco\", \"Escuadrón 201\", \"Atlalilco\", \"Iztapalapa\",\n",
    "\"Cerro de la Estrella\", \"UAM-I\", \"Constitución de 1917\"];\n",
    "\n",
    "Linea9 = String[\"Tacubaya\", \"Patriotismo\", \"Chilpancingo\", \"Centro Médico\",  \"Lázaro Cárdenas\", \"Chabacano\", \"Jamaica\", \"Mixiuhca\"\n",
    ", \"Velódromo\", \"Ciudad Deportiva\", \"Puebla\", \"Pantitlán\"]\n",
    "\n",
    "LineaA = String[\"Pantitlán\", \"Agrícola Oriental\", \"Canal de San Juan\", \"Tepalcates\", \"Guelatao\", \"Peñón Viejo\", \"Acatitla\",\n",
    "\"Santa Marta\", \"Los Reyes\", \"La Paz\" ]\n",
    "\n",
    "LineaB = String[\"Ciudad Azteca\", \"Plaza Aragón\", \"Olímpica\", \"Ecatepec\", \"Muzquiz\", \"Río de los Remedios\", \"Impulsora\", \n",
    "    \"Nezahualcóyotl\", \"Villa de Aragón\", \"Bosque de Aragón\", \"Deportivo Oceanía\", \"Oceanía\", \"Romero Rubio\", \"R. Flores Magón\",\n",
    "    \"San Lázaro\", \"Morelos\", \"Tepito\", \"Lagunilla\", \"Garibaldi\", \"Guerrero\", \"Buenavista\" ];\n",
    "\n",
    "Linea12 = String[\"Mixcoac\", \"Insurgentes Sur\", \"Hospital 20 de Noviembre\", \"Zapata\", \"Parque de los Venados\", \"Eje Central\",\n",
    "\"Ermita\", \"Mexicaltzingo\", \"Atlalilco\", \"Culhuacán\", \"San Andrés Tomatlán\", \"Lomas Estrella\", \"Calle 11\", \"Perfiférico Oriente\"\n",
    "    , \"Tezonco\", \"Olivos\", \"Nopalera\", \"Zapotitlán\", \"Tlaltenco\", \"Tláhuac\"];"
   ]
  },
  {
   "cell_type": "code",
   "execution_count": 58,
   "metadata": {
    "collapsed": false
   },
   "outputs": [],
   "source": [
    "#Linea Madre: contiene a cada línea como un elemento de un arreglo\n",
    "Todas_Lineas = Array{String}[]\n",
    "    push!(Todas_Lineas,Linea1,Linea2,Linea3,Linea4,Linea5,Linea6,Linea7,Linea8,Linea9,LineaA,LineaB,Linea12);\n",
    "\n",
    "#Línea MadrePlus = Línea Express + Línea Madre\n",
    "Todas_LineasPlus = Array{String}[]\n",
    "for i in 1:12\n",
    "    push!(Todas_LineasPlus,Todas_Lineas[i])\n",
    "end\n",
    "push!(Todas_LineasPlus,Express_Linea1,Express_Linea2,Express_Linea3,Express_Linea4,Express_Linea5,Express_Linea6,Express_Linea7,Express_Linea8,Express_Linea8,Express_Linea9,Express_LineaA,Express_LineaB,Express_Linea12);"
   ]
  },
  {
   "cell_type": "markdown",
   "metadata": {},
   "source": [
    "Ahora las funciones:"
   ]
  },
  {
   "cell_type": "code",
   "execution_count": 8,
   "metadata": {
    "collapsed": false
   },
   "outputs": [
    {
     "data": {
      "text/plain": [
       "Length_Lineas (generic function with 2 methods)"
      ]
     },
     "execution_count": 8,
     "metadata": {},
     "output_type": "execute_result"
    }
   ],
   "source": [
    "# Tamaño de cada línea, respectivamente\n",
    "function Length_Lineas(total_lines=Todas_Lineas)\n",
    "    length_lines = zeros(length(total_lines))\n",
    "    for i in 1:length(total_lines)\n",
    "        length_lines[i] = length(total_lines[i])\n",
    "    end\n",
    "    int(length_lines)\n",
    "end"
   ]
  },
  {
   "cell_type": "code",
   "execution_count": 9,
   "metadata": {
    "collapsed": false
   },
   "outputs": [
    {
     "data": {
      "text/plain": [
       "195"
      ]
     },
     "execution_count": 9,
     "metadata": {},
     "output_type": "execute_result"
    }
   ],
   "source": [
    "# número total de estaciones\n",
    "Length_Estaciones(total_lines=Todas_Lineas) = int(sum(Length_Lineas(total_lines)))\n",
    "N = Length_Estaciones()"
   ]
  },
  {
   "cell_type": "code",
   "execution_count": 10,
   "metadata": {
    "collapsed": false
   },
   "outputs": [
    {
     "data": {
      "text/plain": [
       "GetStationNumber (generic function with 2 methods)"
      ]
     },
     "execution_count": 10,
     "metadata": {},
     "output_type": "execute_result"
    }
   ],
   "source": [
    "#Dada la estación N de la línea M, nos dice que la estación N es la número N de esa línea\n",
    "function GetStationNumber(station_name, line_num, total_lines=Todas_Lineas)\n",
    "    line = total_lines[line_num]\n",
    "    if station_name in line\n",
    "    else\n",
    "       # println(\"Error, la estación no está en esa línea\")\n",
    "        return 0\n",
    "    end\n",
    "    ##Acabamos de verificar que la estación esté en la línea\n",
    "    num_1 = 0 \n",
    "    for l in total_lines[1:line_num - 1]\n",
    "        num_1 += length(l)\n",
    "    end\n",
    "    ##Hasta aquí llegamos a una estación antes de la primera de la lista\n",
    "    num_2 = 0\n",
    "    for station in line\n",
    "        num_2 += 1\n",
    "        if station == station_name\n",
    "            break\n",
    "        end\n",
    "    end\n",
    "    ##Sumamos estaciones de la misma línea hasta llegar a la que queremos\n",
    "    return num_1 + num_2\n",
    "end"
   ]
  },
  {
   "cell_type": "code",
   "execution_count": 11,
   "metadata": {
    "collapsed": false
   },
   "outputs": [
    {
     "data": {
      "text/plain": [
       "true"
      ]
     },
     "execution_count": 11,
     "metadata": {},
     "output_type": "execute_result"
    }
   ],
   "source": [
    "0 == GetStationNumber(\"Tacubaya\",2)"
   ]
  },
  {
   "cell_type": "code",
   "execution_count": 12,
   "metadata": {
    "collapsed": false
   },
   "outputs": [
    {
     "data": {
      "text/plain": [
       "GetStationName (generic function with 2 methods)"
      ]
     },
     "execution_count": 12,
     "metadata": {},
     "output_type": "execute_result"
    }
   ],
   "source": [
    "#Dada un número de estación N de la línea M, nos dice cuál es la estación N de la línea M.\n",
    "function GetStationName(station_number, total_lines=Todas_Lineas)\n",
    "    station_length = Length_Lineas(total_lines)\n",
    "    num = station_length[1]\n",
    "    l = 0\n",
    "    stations_so_far = 0\n",
    "    for i = 1:12 #12 pues tenemos 12 líneas\n",
    "        if  station_number <= num\n",
    "            l = i\n",
    "            break\n",
    "        end\n",
    "        num += station_length[i + 1]\n",
    "    end\n",
    "    dif =  station_number - num + station_length[l]\n",
    "    #println(dif)\n",
    "    return total_lines[l][dif]   \n",
    "end"
   ]
  },
  {
   "cell_type": "markdown",
   "metadata": {},
   "source": [
    "Querremos optimizar el flujo de movimientos en el sistema de metro.\n",
    "Proponemos, para cada línea existente, una línea express que pare únicamente en las estaciones con trasbordo y con largas distancias entre estaciones."
   ]
  },
  {
   "cell_type": "code",
   "execution_count": 13,
   "metadata": {
    "collapsed": true
   },
   "outputs": [],
   "source": [
    "# Líneas Express\n",
    "Express_Linea1  = String[\"Tacubaya\",\"Centro Médico\",\"Chabacano\",\"Jamaica\",\"Pantitlán\"]\n",
    "\n",
    "Express_Linea2  = String[\"Tacuba\",\"Hidalgo\",\"Bellas Artes\",\"Pino Suárez\",\"Chabacano\",\"Ermita\"]\n",
    "\n",
    "Express_Linea3  = String[\"Deportivo 18 de Marzo\",\"La Raza\",\"Guerrero\",\"Hidalgo\",\"Balderas\",\"Centro Médico\",\"Zapata\"]\n",
    "\n",
    "Express_Linea4  = String[\"Martín Carrera\",\"Consulado\",\"Morelos\",\"Candelaria\",\"Chabacano\",\"Santa Anita\"]\n",
    "\n",
    "Express_Linea5  = String[\"Pantitlán\",\"Oceanía\",\"Consulado\",\"La Raza\",\"Instituto del Petróleo\"]\n",
    "\n",
    "Express_Linea6  = String[\"El Rosario\",\"Instituto del Petróleo\",\"Deportivo 18 de Marzo\",\"Martín Carrera\"]\n",
    "\n",
    "Express_Linea7  = String[\"El Rosario\",\"Tacuba\",\"Tacubaya\",\"Mixcoac\"]\n",
    "\n",
    "Express_Linea8  = String[\"Garibaldi\",\"Bellas Artes\",\"Salto del Agua\",\"Chabacano\",\"Santa Anita\",\"Atlalilco\"]\n",
    "\n",
    "Express_Linea9  = String[\"Tacubaya\",\"Centro Médico\",\"Chabacano\",\"Jamaica\",\"Pantitlán\"]\n",
    "\n",
    "Express_LineaA  = String[\"Pantitlán\",\"Peñón Viejo\"]\n",
    "\n",
    "Express_LineaB  = String[\"Ciudad Azteca\",\"Río de los Remedios\",\"Oceanía\",\"San Lázaro\",\"Morelos\",\"Garibaldi\",\"Guerrero\"]\n",
    "\n",
    "Express_Linea12 = String[\"Mixcoac\",\"Zapata\",\"Ermita\",\"Atlalilco\",\"Periférico Oriente\",\"Tlahuac\"];"
   ]
  },
  {
   "cell_type": "code",
   "execution_count": 37,
   "metadata": {
    "collapsed": false
   },
   "outputs": [],
   "source": [
    "#Arreglo de Trasbordos totales\n",
    "Transfer_List = Int[]\n",
    "for i in 1:N\n",
    "    for j in 1:N\n",
    "        if i == j\n",
    "            continue\n",
    "            elseif GetStationName(i) == GetStationName(j)\n",
    "            push!(Transfer_List,i)\n",
    "        end\n",
    "    end\n",
    "end\n",
    "Transfer_List;"
   ]
  }
 ],
 "metadata": {
  "kernelspec": {
   "display_name": "Julia 0.3.7",
   "language": "julia",
   "name": "julia 0.3"
  },
  "language_info": {
   "name": "julia",
   "version": "0.3.7"
  }
 },
 "nbformat": 4,
 "nbformat_minor": 0
}
