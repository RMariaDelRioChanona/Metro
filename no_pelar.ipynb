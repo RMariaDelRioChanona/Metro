{
 "cells": [
  {
   "cell_type": "markdown",
   "metadata": {},
   "source": [
    "# Usando las gráficas "
   ]
  },
  {
   "cell_type": "markdown",
   "metadata": {},
   "source": [
    "El espíritu de este script será convertir las líneas de arreglos a gráficas (como aristas) y unir los trasbordos al conectar dichas aristas."
   ]
  },
  {
   "cell_type": "code",
   "execution_count": 3,
   "metadata": {
    "collapsed": false
   },
   "outputs": [],
   "source": [
    "include(\"nombres_lineas.txt\");"
   ]
  },
  {
   "cell_type": "code",
   "execution_count": 4,
   "metadata": {
    "collapsed": false
   },
   "outputs": [
    {
     "name": "stderr",
     "output_type": "stream",
     "text": [
      "Warning: using LightGraphs.Graph in module Main conflicts with an existing identifier.\n",
      "Warning: using LightGraphs.blkdiag in module Main conflicts with an existing identifier.\n"
     ]
    }
   ],
   "source": [
    "using LightGraphs\n",
    "#using GraphLayout"
   ]
  },
  {
   "cell_type": "code",
   "execution_count": 5,
   "metadata": {
    "collapsed": false
   },
   "outputs": [
    {
     "ename": "LoadError",
     "evalue": "Graph not defined\nwhile loading In[5], in expression starting on line 2",
     "output_type": "error",
     "traceback": [
      "Graph not defined\nwhile loading In[5], in expression starting on line 2",
      "",
      " in anonymous at no file:3"
     ]
    }
   ],
   "source": [
    "SimpleNetwork = Any[] \n",
    "for i in 1:length(Todas_Lineas)\n",
    "    push!(SimpleNetwork,Graph(length(Todas_Lineas[i])))\n",
    "end\n",
    "SimpleNetwork"
   ]
  },
  {
   "cell_type": "code",
   "execution_count": 26,
   "metadata": {
    "collapsed": false
   },
   "outputs": [
    {
     "data": {
      "text/plain": [
       "20"
      ]
     },
     "execution_count": 26,
     "metadata": {},
     "output_type": "execute_result"
    }
   ],
   "source": [
    "#function SimpleNetwork(station_lines)\n",
    "#    for i in 1:length(station_lines)\n",
    "        \n",
    "vertices(SimpleNetwork[2])[20]"
   ]
  },
  {
   "cell_type": "markdown",
   "metadata": {},
   "source": [
    "Para agregar los vértices, necesitamos numerar las estaciones independientemente de las líneas, así podemos agregar los vértices (trasbordos) entre las aristas (estaciones). <br>\n",
    "**Obs**: Esto deberá ser en general, ya que ampliaremos la red de metro, así que haremos una función."
   ]
  },
  {
   "cell_type": "code",
   "execution_count": 47,
   "metadata": {
    "collapsed": false
   },
   "outputs": [
    {
     "data": {
      "text/plain": [
       "Estacion_a_Numero (generic function with 1 method)"
      ]
     },
     "execution_count": 47,
     "metadata": {},
     "output_type": "execute_result"
    }
   ],
   "source": [
    "#función auxiliar para asignar un número a cada estación\n",
    "function Estacion_a_Numero(station_lines,line,station::String)\n",
    "    est_a_num = 0\n",
    "    if typeof(line) != Int\n",
    "        print(\"Pon sólo el número de la línea\")\n",
    "    else\n",
    "        for i in 1:length(station_lines[line])\n",
    "            if station_lines[line][i] == station\n",
    "                est_a_num = i \n",
    "            else\n",
    "                continue\n",
    "            end\n",
    "        end\n",
    "    end\n",
    "    est_a_num\n",
    "end"
   ]
  },
  {
   "cell_type": "code",
   "execution_count": 53,
   "metadata": {
    "collapsed": false
   },
   "outputs": [
    {
     "data": {
      "text/plain": [
       "3"
      ]
     },
     "execution_count": 53,
     "metadata": {},
     "output_type": "execute_result"
    }
   ],
   "source": [
    "Estacion_a_Numero(Todas_Lineas,2,\"Tacuba\")"
   ]
  },
  {
   "cell_type": "code",
   "execution_count": null,
   "metadata": {
    "collapsed": true
   },
   "outputs": [],
   "source": [
    "#función auxiliar para poder conectar en MetroNetwork\n",
    "function Numero_Estacion_Total(station_lines,line::Int64,station::String)\n",
    "    \n",
    "    "
   ]
  },
  {
   "cell_type": "code",
   "execution_count": 57,
   "metadata": {
    "collapsed": false
   },
   "outputs": [
    {
     "data": {
      "text/plain": [
       "MetroNetwork (generic function with 3 methods)"
      ]
     },
     "execution_count": 57,
     "metadata": {},
     "output_type": "execute_result"
    }
   ],
   "source": [
    "function MetroNetwork(simple_network=SimpleNetwork,station_lines=Todas_Lineas)\n",
    "    for i in 1:length(station_lines)        # número de líneas\n",
    "    for j in 1:length(station_lines[i])     # número de estación en línea \"i\"\n",
    "             for h in 1:length(station_lines)\n",
    "                for k in 1:length(station_lines[h])\n",
    "                if (i,j) == (h,k)\n",
    "                continue\n",
    "                    elseif Todas_Lineas[i][j] == Todas_Lineas[h][k] \n",
    "                    add_edge!(simple_network[i],vertices(simple_network[i])[j],vertices(simple_network[h])[k])\n",
    "                        add_edge!(simple_network[h],vertices(simple_network[h])[k],vertices(simple_network[i])[j])\n",
    "                end\n",
    "            end\n",
    "            end\n",
    "    end\n",
    "    end\n",
    "    simple_network\n",
    "end"
   ]
  },
  {
   "cell_type": "code",
   "execution_count": 64,
   "metadata": {
    "collapsed": false
   },
   "outputs": [
    {
     "data": {
      "text/plain": [
       "12-element Array{Any,1}:\n",
       " {20, 6} undirected graph\n",
       " {24, 1} undirected graph\n",
       " {21, 1} undirected graph\n",
       " {10, 0} undirected graph\n",
       " {13, 0} undirected graph\n",
       " {11, 0} undirected graph\n",
       " {14, 1} undirected graph\n",
       " {19, 1} undirected graph\n",
       " {12, 1} undirected graph\n",
       " {10, 0} undirected graph\n",
       " {21, 0} undirected graph\n",
       " {20, 0} undirected graph"
      ]
     },
     "execution_count": 64,
     "metadata": {},
     "output_type": "execute_result"
    }
   ],
   "source": [
    "SimpleNetwork"
   ]
  },
  {
   "cell_type": "code",
   "execution_count": 63,
   "metadata": {
    "collapsed": false,
    "scrolled": true
   },
   "outputs": [
    {
     "ename": "LoadError",
     "evalue": "Edge edge 2 - 10 is already in graph\nwhile loading In[63], in expression starting on line 1",
     "output_type": "error",
     "traceback": [
      "Edge edge 2 - 10 is already in graph\nwhile loading In[63], in expression starting on line 1",
      "",
      " in error at error.jl:21",
      " in add_edge! at /Users/blaskolic/.julia/v0.3/LightGraphs/src/graph.jl:68",
      " in add_edge! at /Users/blaskolic/.julia/v0.3/LightGraphs/src/core.jl:90",
      " in MetroNetwork at In[57]:9"
     ]
    }
   ],
   "source": [
    "MetroNetwork(SimpleNetwork,Todas_Lineas)"
   ]
  },
  {
   "cell_type": "code",
   "execution_count": 10,
   "metadata": {
    "collapsed": false
   },
   "outputs": [
    {
     "name": "stdout",
     "output_type": "stream",
     "text": [
      "1 1,1 2,1 3,1 4,1 5,1 6,1 7,1 8,1 9,1 10,1 11,1 12,1 13,1 14,1 15,1 16,1 17,1 18,1 19,1 20,2 1,2 2,2 3,2 4,2 5,2 6,2 7,2 8,2 9,2 10,2 11,2 12,2 13,2 14,2 15,2 16,2 17,2 18,2 19,2 20,2 21,2 22,2 23,2 24,3 1,3 2,3 3,3 4,3 5,3 6,3 7,3 8,3 9,3 10,3 11,3 12,3 13,3 14,3 15,3 16,3 17,3 18,3 19,3 20,3 21,4 1,4 2,4 3,4 4,4 5,4 6,4 7,4 8,4 9,4 10,5 1,5 2,5 3,5 4,5 5,5 6,5 7,5 8,5 9,5 10,5 11,5 12,5 13,6 1,6 2,6 3,6 4,6 5,6 6,6 7,6 8,6 9,6 10,6 11,7 1,7 2,7 3,7 4,7 5,7 6,7 7,7 8,7 9,7 10,7 11,7 12,7 13,7 14,8 1,8 2,8 3,8 4,8 5,8 6,8 7,8 8,8 9,8 10,8 11,8 12,8 13,8 14,8 15,8 16,8 17,8 18,8 19,9 1,9 2,9 3,9 4,9 5,9 6,9 7,9 8,9 9,9 10,9 11,9 12,10 1,10 2,10 3,10 4,10 5,10 6,10 7,10 8,10 9,10 10,11 1,11 2,11 3,11 4,11 5,11 6,11 7,11 8,11 9,11 10,11 11,11 12,11 13,11 14,11 15,11 16,11 17,11 18,11 19,11 20,11 21,12 1,12 2,12 3,12 4,12 5,12 6,12 7,12 8,12 9,12 10,12 11,12 12,12 13,12 14,12 15,12 16,12 17,12 18,12 19,12 20,"
     ]
    },
    {
     "ename": "LoadError",
     "evalue": "syntax: unexpected end\nwhile loading In[10], in expression starting on line 7",
     "output_type": "error",
     "traceback": [
      "syntax: unexpected end\nwhile loading In[10], in expression starting on line 7",
      ""
     ]
    }
   ],
   "source": [
    "for i in 1:length(Todas_Lineas)\n",
    "    for j in 1:length(Todas_Lineas[i])\n",
    "            print(\"$i $j,\")\n",
    "        end\n",
    "    end\n",
    "            \n",
    "end"
   ]
  },
  {
   "cell_type": "code",
   "execution_count": 7,
   "metadata": {
    "collapsed": false
   },
   "outputs": [
    {
     "data": {
      "text/plain": [
       "12-element Array{Float64,1}:\n",
       " 20.0\n",
       " 24.0\n",
       " 21.0\n",
       " 10.0\n",
       " 13.0\n",
       " 11.0\n",
       " 14.0\n",
       " 19.0\n",
       " 12.0\n",
       " 10.0\n",
       " 21.0\n",
       " 20.0"
      ]
     },
     "execution_count": 7,
     "metadata": {},
     "output_type": "execute_result"
    }
   ],
   "source": [
    "Length_Lineas"
   ]
  },
  {
   "cell_type": "code",
   "execution_count": null,
   "metadata": {
    "collapsed": true
   },
   "outputs": [],
   "source": []
  }
 ],
 "metadata": {
  "kernelspec": {
   "display_name": "Julia 0.3.7",
   "language": "julia",
   "name": "julia 0.3"
  },
  "language_info": {
   "name": "julia",
   "version": "0.3.7"
  }
 },
 "nbformat": 4,
 "nbformat_minor": 0
}
