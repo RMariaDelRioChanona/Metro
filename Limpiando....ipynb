{
 "cells": [
  {
   "cell_type": "markdown",
   "metadata": {},
   "source": [
    "# Limpiando MetroNetwork "
   ]
  },
  {
   "cell_type": "code",
   "execution_count": 1,
   "metadata": {
    "collapsed": false
   },
   "outputs": [],
   "source": [
    "include(\"graphs_metro.txt\");"
   ]
  },
  {
   "cell_type": "markdown",
   "metadata": {},
   "source": [
    "### `lineas_metro.txt`\n",
    "\n",
    "Contiene las *variables*: <br>\n",
    "**`LineaN:`** N-ésima línea con el nombre de las estaciónes. <br>\n",
    "**`Express_LíneaN:`** N-ésima línea Express (línea de sólo transbordos)<br>\n",
    "**`Todas_Lineas:`** Arreglo donde cada entrada es una línea entera; así `Todas_Lineas[i][j]` nos dará la estación `j` de la línea `i`. <br>\n",
    "**`transfer_list:`** Arreglo de todos los transbordos de `Todas_Líneas`. <br>\n",
    "**`transfer_listplus:`** Arreglo de todos los transbordos de `Todas_LíneasPlus`.\n",
    "\n",
    "y las  *funciones*: <br>\n",
    "**`Length_Lineas(total_lines):`** Número de estaciones de cada línea, en orden de línea. <br>\n",
    "**`Length_Estaciones(total_lines):`** Número total de estaciones en toda la red <br>\n",
    "**`GetStationNumber(station_name, line_number, total_lines) :`** Se da el nombre de una estación y la línea en donde se encuentra, y regresa el número de estación que le corresponde de la red. <br>\n",
    "**`GetStationName(station_number, total_lines) :`** Dado el número de estación en la red, te regresa el nombre de estación que le corresponde. <br>\n",
    "**`Transfer_List(total_lines):`** Dada una *red* de Metro, nos regresa una lista con todos los números de tranbordo.\n",
    "\n",
    "**Obs:** El default es siempre `Todas_Lineas`."
   ]
  },
  {
   "cell_type": "markdown",
   "metadata": {
    "collapsed": true
   },
   "source": [
    "### `graphs_metro.txt`\n",
    "\n",
    "Contiene las *variables*: <br>\n",
    "**`D_norm:`** Matriz con todas las distancias mínimas entre estaciones de `Todas_Lineas`.<br>\n",
    "**`D_plus:`** Matriz con todas las distancias mínimas entre estaciones de `Todas_LineasPlus`.\n",
    "\n",
    "y las *funciones*: <br>\n",
    "**`MetroNetwork(total_lines):`** Hace una red tipo `Graph` con el número de estaciones totales en el arreglo de líneas. <br>\n",
    "**`ConnectSimpleNetwork(total_lines):`** Une las estaciones de cada línea con aristas, sin considerar transbordos.\n",
    "**`ConnectLines(total_lines):`** Une con aristas los transbordos de la red. <br>\n",
    "**`ConnectFullNetwork_Weighted(normal_edge, transit_edge,total_lines):`** Crea la *red* de todas las líneas, dándole un peso `normal_edge`entre estaciones y `transit_edge` entre transbordos. <br>\n",
    "**`NormalesyTrasbordos(matrix_dist, est_init, est_final,transit_edge_dist, normal_edge_dist):`** : Regresa una tupla con el número de estaciones recorridas y el número de transbordos efectuados. <br>\n",
    "**`NormalesTrasbordosyExpress(matrix_dist, est_init, est_final,transit_edge_dist, normal_edge_dist, express_edge_dist):`** Nos da una tupla con número de estaciones, número de transbordos y número de estaciones express recorridas. <br>\n",
    "**`MatrixDist(transfer_list, total_lines):`** Crea una matriz `D` con las **distancias mínimas** entre estaciones.<br> *Ej: `D[i,j]` = distancia mínima entre i-ésima y j-ésima estación.* \n",
    "\n",
    "**Obs_1:** Falta incluir el \"peso\" de cada arista, dependiendo de su tipo. <br>\n",
    "**Obs_2:** El default es siempre `Todas_Lineas`."
   ]
  },
  {
   "cell_type": "markdown",
   "metadata": {},
   "source": [
    "<img src=\"Mexico_City_metro.png\"> "
   ]
  },
  {
   "cell_type": "markdown",
   "metadata": {},
   "source": [
    " que obtengamos el número de estaciones normales recorridas y los trasbordos. Lo que queremos es lo siguiente: <br>\n",
    "* Tomamos aletoriamente dos estaciones $inicio = rand(0, N)$ $ fin = rand(0, N)$, pedimos $inicio != fin$ con un if.\n",
    "* Calculamos el número de estaciones normale y el número de trasbordos y después hacemos lo siguiente\n",
    "* Cuando un pasajero se sube al metro espera un tiempo $t_{espera}$ a que pase el metro, suponemos que máximo el metro tarda en pasar $t_{max}$ (ej. a lo más tarda 15 minutos, entonces $t_{max} = 15\\times60 s$). Suponemos que la distribución es uniforme (aunque después sería bueno asumir distribución gaussiana o poisson... pero después vemos eso).\n",
    "Entonces $t_{espera} = rand()*t_{max}$. <br>\n",
    "* Cuando el metro se detiene en una estación se detiene a lo menos $t_{parada_min}$ y a lo más $t_{parada_max}$. Entonces por cada estación que pare el metro se debe de tomar en cuenta $t_{parada} = rand(t_{parada_min}, t_{parada_max})$ (o como sea que se ponga en la función) <br>\n",
    "* Cuando el pasajero hace un trasbordo entonces tarda en caminar un tiempo $t_{trasbordo}$ y además debe de esperar a que vuelva a pasar el camión. Volvemos a calcular un $t_{espera} = rand()*t_{max}$.\n",
    "* Finalmente sumamos todo el tiempo y vemos total de estaciones que recorrio y lo guardamos en una lista apropiada. Después vamos con el siguiente pasajero y hacemos lo mismo."
   ]
  },
  {
   "cell_type": "code",
   "execution_count": 2,
   "metadata": {
    "collapsed": false
   },
   "outputs": [
    {
     "name": "stderr",
     "output_type": "stream",
     "text": [
      "INFO: Loading help data...\n"
     ]
    }
   ],
   "source": [
    "using PyPlot\n",
    "using Distributions"
   ]
  },
  {
   "cell_type": "code",
   "execution_count": 3,
   "metadata": {
    "collapsed": false
   },
   "outputs": [
    {
     "data": {
      "text/plain": [
       "120.0"
      ]
     },
     "execution_count": 3,
     "metadata": {},
     "output_type": "execute_result"
    }
   ],
   "source": [
    "#Peso de las aristas\n",
    "normal_edge_dist=1\n",
    "transit_edge_dist=1.1\n",
    "\n",
    "#Constantes de tiempos\n",
    "tprom_espera = 4*60.\n",
    "t_viaje = normal_edge_dist*60 #- tprom_parada \n",
    "tprom_parada = 15.\n",
    "t_tras = 2*60."
   ]
  },
  {
   "cell_type": "code",
   "execution_count": 4,
   "metadata": {
    "collapsed": false
   },
   "outputs": [
    {
     "data": {
      "text/plain": [
       "PasajerosGaussiana (generic function with 1 method)"
      ]
     },
     "execution_count": 4,
     "metadata": {},
     "output_type": "execute_result"
    }
   ],
   "source": [
    "#Simula N pasajeros de estaciones iniciales y finales aleatorias.\n",
    "#Regresa Estaciones viajadas, Tiempo transcurrido, Velocidad media\n",
    "function PasajerosGaussiana(DistMatrix, tprom_espera, t_viaje, tprom_parada, t_tras, N_pasajeros, transit_edge_dist, normal_edge_dist)\n",
    "    N_est = length(DistMatrix[1, :])\n",
    "    Stations_traveled = zeros(N_pasajeros)\n",
    "    Time_traveled = zeros(N_pasajeros)\n",
    "    Velocidad = zeros(N_pasajeros)\n",
    "    for pasajero = 1:N_pasajeros\n",
    "        initial_station = rand(1:N_est)\n",
    "        end_station = rand(1:N_est)\n",
    "        while GetStationName(initial_station) == GetStationName(end_station)\n",
    "            initial_station = rand(1:N_est)\n",
    "            end_station = rand(1:N_est) \n",
    "        end\n",
    "        num_est, num_tras = NormalesyTrasbordos(DistMatrix, initial_station, end_station, transit_edge_dist, normal_edge_dist)\n",
    "        Stations_traveled[pasajero] = num_est\n",
    "        tiempo_tras = 0\n",
    "        for tras = 1:num_tras\n",
    "            tiempo_tras += tprom_espera*rand() + t_tras\n",
    "        end\n",
    "        tiempo_paradas = 0\n",
    "        for parada = 1:num_est\n",
    "            tiempo_paradas += tprom_parada*rand() + t_viaje\n",
    "        end\n",
    "        tiempito = tprom_espera*rand() + tiempo_tras + tiempo_paradas\n",
    "        Time_traveled[pasajero] = tiempito\n",
    "        Velocidad[pasajero] = num_est/tiempito\n",
    "        \n",
    "    end\n",
    "    return Stations_traveled, Time_traveled, Velocidad\n",
    "end"
   ]
  },
  {
   "cell_type": "code",
   "execution_count": 5,
   "metadata": {
    "collapsed": false
   },
   "outputs": [
    {
     "ename": "LoadError",
     "evalue": "NormalesyTrasbordos not defined\nwhile loading In[5], in expression starting on line 1",
     "output_type": "error",
     "traceback": [
      "NormalesyTrasbordos not defined\nwhile loading In[5], in expression starting on line 1",
      "",
      " in PasajerosGaussiana at In[4]:15"
     ]
    }
   ],
   "source": [
    "ESTg,TIMEg,VELg = PasajerosGaussiana(D_norm, tprom_espera, t_viaje, tprom_parada, t_tras, 100_000, transit_edge_dist, normal_edge_dist);"
   ]
  },
  {
   "cell_type": "code",
   "execution_count": 6,
   "metadata": {
    "collapsed": false
   },
   "outputs": [
    {
     "ename": "LoadError",
     "evalue": "VELg not defined\nwhile loading In[6], in expression starting on line 1",
     "output_type": "error",
     "traceback": [
      "VELg not defined\nwhile loading In[6], in expression starting on line 1",
      ""
     ]
    }
   ],
   "source": [
    "plt.hist(VELg,bins=100,normed=true)"
   ]
  },
  {
   "cell_type": "code",
   "execution_count": 7,
   "metadata": {
    "collapsed": false
   },
   "outputs": [
    {
     "data": {
      "text/plain": [
       "PasajerosPoisson (generic function with 1 method)"
      ]
     },
     "execution_count": 7,
     "metadata": {},
     "output_type": "execute_result"
    }
   ],
   "source": [
    "function PasajerosPoisson(DistMatrix, tprom_espera, t_viaje, tprom_parada, t_tras, N_pasajeros, transit_edge_dist, normal_edge_dist)\n",
    "    N_est = length(DistMatrix[1, :])\n",
    "    Stations_traveled = zeros(N_pasajeros)\n",
    "    Time_traveled = zeros(N_pasajeros)\n",
    "    Velocidad = zeros(N_pasajeros)\n",
    "    for pasajero = 1:N_pasajeros\n",
    "        initial_station = rand(1:N_est)\n",
    "        end_station = rand(1:N_est)\n",
    "        while GetStationName(initial_station) == GetStationName(end_station)\n",
    "            initial_station = rand(1:N_est)\n",
    "            end_station = rand(1:N_est) \n",
    "        end\n",
    "        num_est, num_tras = NormalesyTrasbordos(DistMatrix, initial_station, end_station, transit_edge_dist, normal_edge_dist)\n",
    "        Stations_traveled[pasajero] = num_est\n",
    "        tiempo_tras = 0\n",
    "        for tras = 1:num_tras\n",
    "            tiempo_tras += tprom_espera*rand(Distributions.Poisson()) + t_tras\n",
    "        end\n",
    "        tiempo_paradas = 0\n",
    "        for parada = 1:num_est\n",
    "            tiempo_paradas += tprom_parada*rand(Distributions.Poisson()) + t_viaje\n",
    "        end\n",
    "        tiempito = tprom_espera*rand(Distributions.Poisson()) + tiempo_tras + tiempo_paradas\n",
    "        Time_traveled[pasajero] = tiempito\n",
    "        Velocidad[pasajero] = num_est/tiempito\n",
    "        \n",
    "    end\n",
    "    return Stations_traveled, Time_traveled, Velocidad\n",
    "end"
   ]
  },
  {
   "cell_type": "code",
   "execution_count": 8,
   "metadata": {
    "collapsed": false
   },
   "outputs": [
    {
     "ename": "LoadError",
     "evalue": "NormalesyTrasbordos not defined\nwhile loading In[8], in expression starting on line 1",
     "output_type": "error",
     "traceback": [
      "NormalesyTrasbordos not defined\nwhile loading In[8], in expression starting on line 1",
      "",
      " in PasajerosPoisson at In[7]:13"
     ]
    }
   ],
   "source": [
    "ESTp,TIMEp,VELp = PasajerosPoisson(D_norm, tprom_espera, t_viaje, tprom_parada, t_tras, 100_000, transit_edge_dist, normal_edge_dist);"
   ]
  },
  {
   "cell_type": "code",
   "execution_count": 9,
   "metadata": {
    "collapsed": false
   },
   "outputs": [
    {
     "ename": "LoadError",
     "evalue": "VELp not defined\nwhile loading In[9], in expression starting on line 1",
     "output_type": "error",
     "traceback": [
      "VELp not defined\nwhile loading In[9], in expression starting on line 1",
      ""
     ]
    }
   ],
   "source": [
    "plt.hist(VELp,bins=100,normed=true);"
   ]
  },
  {
   "cell_type": "markdown",
   "metadata": {},
   "source": [
    "## MonteCarlo\n",
    "\n",
    "Se simulan $N$ caminantes con estaciones iniciales y finales aleatorias (uniformemente distribuidas).\n",
    "Se le dará también una distribución de `Rayleigh` a cada tiempo de espera.\n",
    "Es decir, una distribución para tiempo de espera entre cada parada, para tiempo de espera entre trasbordos.\n",
    "\n",
    "Se escoje la distribución de `Rayleigh` porque es lo más cercano a la realidad en los tiempos de espera del metro del DF; es decir, no se distribuye el tiempo uniformemente alrededor de la media."
   ]
  },
  {
   "cell_type": "code",
   "execution_count": 10,
   "metadata": {
    "collapsed": false
   },
   "outputs": [
    {
     "data": {
      "text/plain": [
       "(4.462287981937607,0.012435987997060069,1.247854082903053,0.648884227360248)"
      ]
     },
     "execution_count": 10,
     "metadata": {},
     "output_type": "execute_result"
    }
   ],
   "source": [
    "# LogNormal\n",
    "# Pareto(a,b)\n",
    "# Rayleigh() <- ¡es la mejor!\n",
    "# Weibull(2,1)\n",
    "a = zeros(10000)\n",
    "for i in 1:10000\n",
    "    a[i] = rand(Rayleigh())\n",
    "end\n",
    "maximum(a),minimum(a),mean(a),std(a)"
   ]
  },
  {
   "cell_type": "code",
   "execution_count": 11,
   "metadata": {
    "collapsed": false
   },
   "outputs": [
    {
     "data": {
      "image/png": "[encoded data removed]",
      "text/plain": [
       "Figure(PyObject <matplotlib.figure.Figure object at 0x11cfc6790>)"
      ]
     },
     "metadata": {},
     "output_type": "display_data"
    }
   ],
   "source": [
    "plt.hist(a,bins=100);"
   ]
  },
  {
   "cell_type": "code",
   "execution_count": 12,
   "metadata": {
    "collapsed": false
   },
   "outputs": [
    {
     "data": {
      "text/plain": [
       "140.001"
      ]
     },
     "execution_count": 12,
     "metadata": {},
     "output_type": "execute_result"
    }
   ],
   "source": [
    "tprom_espera = 4*60. #En promedio esperas 4 min a que pase el metro\n",
    "t_viaje = 1*60 #El metro tarda 1 minuto en pasar de una estación a otra\n",
    "tprom_parada = 20. #El metro se para 20 segundos en promedio en cada estación\n",
    "t_tras = 1*60. #Tardas 1 minuto en hacer el trasbordo (parte a pie)\n",
    "normal_edge = t_viaje + tprom_parada\n",
    "transit_edge = t_tras + tprom_espera + 0.1 #los puntos flotantes nos van a ayudar a distinguir\n",
    "express_edge = 2*t_viaje + tprom_parada + 0.001"
   ]
  },
  {
   "cell_type": "code",
   "execution_count": 13,
   "metadata": {
    "collapsed": false
   },
   "outputs": [
    {
     "data": {
      "text/plain": [
       "259"
      ]
     },
     "execution_count": 13,
     "metadata": {},
     "output_type": "execute_result"
    }
   ],
   "source": [
    "length(D_plus[1,:])"
   ]
  },
  {
   "cell_type": "code",
   "execution_count": 14,
   "metadata": {
    "collapsed": false
   },
   "outputs": [
    {
     "data": {
      "text/plain": [
       "Pasajeros_Rayleigh (generic function with 8 methods)"
      ]
     },
     "execution_count": 14,
     "metadata": {},
     "output_type": "execute_result"
    }
   ],
   "source": [
    "function Pasajeros_Rayleigh(N_pasajeros, total_lines=Todas_LineasPlus, D_normal=D_norm, D_express=D_plus, tprom_espera=tprom_espera, t_viaje=t_viaje, tprom_parada=tprom_parada, t_tras=t_tras)\n",
    "    \n",
    "    normal_edge  = t_viaje + tprom_parada\n",
    "    transit_edge = t_tras + tprom_espera + 0.1  \n",
    "    express_edge = 2*t_viaje + tprom_parada + 0.001\n",
    "    \n",
    "    N_est = length(D_express[1,:])\n",
    "    Stations_traveled  = zeros(N_pasajeros) #Esta es la misma para ambas\n",
    "    Time_traveled_norm = zeros(N_pasajeros)\n",
    "    Time_traveled_exp = zeros(N_pasajeros)\n",
    "    Velocidad_norm = zeros(N_pasajeros)\n",
    "    Velocidad_exp = zeros(N_pasajeros)\n",
    "    \n",
    "    M = Length_Lineas(total_lines)\n",
    "    \n",
    "    for pasajero = 1:N_pasajeros\n",
    "        initial_station = rand(1:N_est)\n",
    "        end_station = rand(1:N_est)\n",
    "        while GetStationName(initial_station,total_lines,M) == GetStationName(end_station,total_lines,M)\n",
    "            initial_station = rand(1:N_est)\n",
    "            end_station = rand(1:N_est) \n",
    "        end\n",
    "        \n",
    "        num_est, num_tras_norm, num_exp, num_tras_exp = NormalesTrasbordosyExpress(initial_station, end_station, D_normal, D_express)\n",
    "        \n",
    "        #Parte del Metro normal\n",
    "        tiempo_tras_norm = 0\n",
    "        for tras = 1:num_tras_norm\n",
    "            tiempo_tras_norm += tprom_espera*rand(Rayleigh()) + t_tras\n",
    "        end\n",
    "        tiempo_paradas_norm = 0\n",
    "        for parada = 1:num_est\n",
    "            tiempo_paradas_norm += tprom_parada*rand(Rayleigh()) + t_viaje\n",
    "        end\n",
    "        tiempito_norm = tprom_espera*rand(Rayleigh()) + tiempo_tras_norm + tiempo_paradas_norm\n",
    "        Time_traveled_norm[pasajero] = tiempito_norm\n",
    "        Velocidad_norm[pasajero] = num_est/tiempito_norm\n",
    "        \n",
    "        #Parte del Metro Express\n",
    "        tiempo_tras_exp = 0\n",
    "        for tras = 1:num_tras_exp\n",
    "            tiempo_tras_exp += tprom_espera*rand(Rayleigh()) + t_tras\n",
    "        end\n",
    "        tiempo_paradas_exp = 0\n",
    "        for parada = 1:num_exp\n",
    "            tiempo_paradas_exp += tprom_parada*rand(Rayleigh()) + 2*t_viaje #Pues el express tarda el doble en un viaje\n",
    "        end\n",
    "        tiempito_exp = tprom_espera*rand(Rayleigh()) + tiempo_tras_exp + tiempo_paradas_exp\n",
    "        Time_traveled_norm[pasajero] = tiempito_exp\n",
    "        Velocidad_norm[pasajero] = num_est/tiempito_exp\n",
    "        \n",
    "    end\n",
    "    return Stations_traveled, Time_traveled_norm, Velocidad_norm, Time_traveled_exp, Velocidad_exp\n",
    "end"
   ]
  },
  {
   "cell_type": "code",
   "execution_count": 20,
   "metadata": {
    "collapsed": false
   },
   "outputs": [
    {
     "name": "stdout",
     "output_type": "stream",
     "text": [
      "elapsed time: 16.80431007 seconds (3596666136 bytes allocated, 22.67% gc time)\n"
     ]
    },
    {
     "data": {
      "text/plain": [
       "([0.0,0.0,0.0,0.0,0.0,0.0,0.0,0.0,0.0,0.0  …  0.0,0.0,0.0,0.0,0.0,0.0,0.0,0.0,0.0,0.0],[2299.93,2394.81,1181.93,599.164,3378.03,2008.14,1761.26,1633.65,1316.43,1301.25  …  1682.32,1140.87,863.608,1839.74,2036.41,1285.7,764.049,791.563,1987.83,2285.83],[0.0100003,0.00876895,0.00592253,0.00166899,0.00592061,0.00298784,0.00397443,0.0067334,0.00911557,0.0146014  …  0.0106995,0.00438263,0.0069476,0.00924041,0.00343743,0.00311113,0.00392645,0.0050533,0.00704286,0.00481226],[0.0,0.0,0.0,0.0,0.0,0.0,0.0,0.0,0.0,0.0  …  0.0,0.0,0.0,0.0,0.0,0.0,0.0,0.0,0.0,0.0],[0.0,0.0,0.0,0.0,0.0,0.0,0.0,0.0,0.0,0.0  …  0.0,0.0,0.0,0.0,0.0,0.0,0.0,0.0,0.0,0.0])"
      ]
     },
     "execution_count": 20,
     "metadata": {},
     "output_type": "execute_result"
    }
   ],
   "source": [
    "@time PASSENGER = Pasajeros_Rayleigh(1_000_000)"
   ]
  }
 ],
 "metadata": {
  "kernelspec": {
   "display_name": "Julia 0.3.7",
   "language": "julia",
   "name": "julia 0.3"
  },
  "language_info": {
   "name": "julia",
   "version": "0.3.7"
  }
 },
 "nbformat": 4,
 "nbformat_minor": 0
}
