{
 "cells": [
  {
   "cell_type": "markdown",
   "metadata": {},
   "source": [
    "# Limpiando MetroNetwork "
   ]
  },
  {
   "cell_type": "code",
   "execution_count": 1,
   "metadata": {
    "collapsed": false
   },
   "outputs": [],
   "source": [
    "include(\"graphs_metro.txt\");"
   ]
  },
  {
   "cell_type": "markdown",
   "metadata": {},
   "source": [
    "### `lineas_metro.txt`\n",
    "\n",
    "Contiene las *variables* <br>\n",
    "**`LineaN:`** N-ésima línea con el nombre de las estaciónes. <br>\n",
    "**`Todas_Lineas:`** Arreglo donde cada entrada es una línea entera; así `Todas_Lineas[i][j]` nos dará la estación `j` de la línea `i`. <br>\n",
    "\n",
    "y las  *funciones*: <br>\n",
    "**`Length_Lineas(total_lines):`** Número de estaciones de cada línea, en orden de línea. <br>\n",
    "**`Length_Estaciones(total_lines):`** Número total de estaciones en toda la red <br>\n",
    "**`GetStationNumber(station_name, line_number, total_lines) :`** Se da el nombre de una estación y la línea en donde se encuentra, y regresa el número de estación que le corresponde de la red. <br>\n",
    "**`GetStationName(station_number, total_lines) :`** Dado el número de estación en la red, te regresa el nombre de estación que le corresponde. <br>\n",
    "\n",
    "**Obs:** El default es siempre `Todas_Lineas`."
   ]
  },
  {
   "cell_type": "markdown",
   "metadata": {
    "collapsed": true
   },
   "source": [
    "### `graphs_metro.txt`\n",
    "\n",
    "Contiene las *funciones* <br>\n",
    "**`MetroNetwork(total_lines):`** Hace una red tipo `Graph` con el número de estaciones totales en el arreglo de líneas. <br>\n",
    "**`ConnectSimpleNetwork(total_lines):`** Une las estaciones de cada línea con aristas, sin considerar transbordos.\n",
    "**`ConnectLines(total_lines):`** Une con aristas los transbordos de la red.\n",
    "\n",
    "**Obs_1:** Falta incluir el \"peso\" de cada arista, dependiendo de su tipo. <br>\n",
    "**Obs_2:** El default es siempre `Todas_Lineas`."
   ]
  },
  {
   "cell_type": "markdown",
   "metadata": {},
   "source": [
    "<img src=\"Mexico_City_metro.png\"> "
   ]
  },
  {
   "cell_type": "code",
   "execution_count": 2,
   "metadata": {
    "collapsed": false
   },
   "outputs": [
    {
     "data": {
      "text/plain": [
       "{195, 220} undirected graph"
      ]
     },
     "execution_count": 2,
     "metadata": {},
     "output_type": "execute_result"
    }
   ],
   "source": [
    "metro_network_transfer = ConnectLines()"
   ]
  },
  {
   "cell_type": "code",
   "execution_count": 16,
   "metadata": {
    "collapsed": false
   },
   "outputs": [
    {
     "data": {
      "text/plain": [
       "20-element Array{String,1}:\n",
       " \"Observatorio\"          \n",
       " \"Tacubaya\"              \n",
       " \"Juanacatlán\"           \n",
       " \"Chapultepec\"           \n",
       " \"Sevilla\"               \n",
       " \"Insurgentes\"           \n",
       " \"Cuauhtémoc\"            \n",
       " \"Balderas\"              \n",
       " \"Salto del Agua\"        \n",
       " \"Isabel la Católica\"    \n",
       " \"Pino Suárez\"           \n",
       " \"Merced\"                \n",
       " \"Candelaria\"            \n",
       " \"San Lázaro\"            \n",
       " \"Moctezuma\"             \n",
       " \"Balbuena\"              \n",
       " \"Boulevard Puerto Aéreo\"\n",
       " \"Gómez Farías\"          \n",
       " \"Zaragoza\"              \n",
       " \"Pantitlán\"             "
      ]
     },
     "execution_count": 16,
     "metadata": {},
     "output_type": "execute_result"
    }
   ],
   "source": [
    "Linea1 "
   ]
  },
  {
   "cell_type": "code",
   "execution_count": 18,
   "metadata": {
    "collapsed": false
   },
   "outputs": [
    {
     "data": {
      "text/plain": [
       "14-element Array{String,1}:\n",
       " \"El Rosario\"            \n",
       " \"Aquiles Sedán\"         \n",
       " \"Camarones\"             \n",
       " \"Refinería\"             \n",
       " \"Tacuba\"                \n",
       " \"San Joaquín\"           \n",
       " \"Polanco\"               \n",
       " \"Auditorio\"             \n",
       " \"Constituyentes\"        \n",
       " \"Tacubaya\"              \n",
       " \"San Pedro de los Pinos\"\n",
       " \"San Antonio\"           \n",
       " \"Mixcoac\"               \n",
       " \"Barranca del Muerto\"   "
      ]
     },
     "execution_count": 18,
     "metadata": {},
     "output_type": "execute_result"
    }
   ],
   "source": [
    "Linea7 "
   ]
  },
  {
   "cell_type": "code",
   "execution_count": 34,
   "metadata": {
    "collapsed": false
   },
   "outputs": [
    {
     "data": {
      "text/plain": [
       "\"Tacubaya\""
      ]
     },
     "execution_count": 34,
     "metadata": {},
     "output_type": "execute_result"
    }
   ],
   "source": [
    "GetStationName(2)"
   ]
  },
  {
   "cell_type": "code",
   "execution_count": 30,
   "metadata": {
    "collapsed": false
   },
   "outputs": [
    {
     "name": "stdout",
     "output_type": "stream",
     "text": [
      "1 : true\n",
      "3 : true\n",
      "109 : true\n",
      "133 : true\n"
     ]
    }
   ],
   "source": [
    "for i in 1:Length_Estaciones()\n",
    "    if has_edge(metro_network_transfer,2,i)\n",
    "        println(\"$i : true\")\n",
    "    end\n",
    "end     "
   ]
  },
  {
   "cell_type": "code",
   "execution_count": 35,
   "metadata": {
    "collapsed": false
   },
   "outputs": [
    {
     "data": {
      "text/plain": [
       "(\"Tacubaya\",\"Tacubaya\")"
      ]
     },
     "execution_count": 35,
     "metadata": {},
     "output_type": "execute_result"
    }
   ],
   "source": [
    "#trasbordos\n",
    "GetStationName(109),GetStationName(133)"
   ]
  },
  {
   "cell_type": "code",
   "execution_count": 36,
   "metadata": {
    "collapsed": false
   },
   "outputs": [
    {
     "data": {
      "text/plain": [
       "(\"Observatorio\",\"Juanacatlán\")"
      ]
     },
     "execution_count": 36,
     "metadata": {},
     "output_type": "execute_result"
    }
   ],
   "source": [
    "#estaciones consecutivas\n",
    "GetStationName(1),GetStationName(3)"
   ]
  },
  {
   "cell_type": "code",
   "execution_count": null,
   "metadata": {
    "collapsed": true
   },
   "outputs": [],
   "source": []
  }
 ],
 "metadata": {
  "kernelspec": {
   "display_name": "Julia 0.3.7",
   "language": "julia",
   "name": "julia 0.3"
  },
  "language_info": {
   "name": "julia",
   "version": "0.3.7"
  }
 },
 "nbformat": 4,
 "nbformat_minor": 0
}
