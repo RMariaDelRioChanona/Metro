{
 "cells": [
  {
   "cell_type": "markdown",
   "metadata": {},
   "source": [
    "# Limpiando MetroNetwork "
   ]
  },
  {
   "cell_type": "code",
   "execution_count": 1,
   "metadata": {
    "collapsed": false
   },
   "outputs": [],
   "source": [
    "include(\"graphs_metro.txt\");"
   ]
  },
  {
   "cell_type": "markdown",
   "metadata": {},
   "source": [
    "### `lineas_metro.txt`\n",
    "\n",
    "Contiene las *variables* <br>\n",
    "**`LineaN:`** N-ésima línea con el nombre de las estaciónes. <br>\n",
    "**`Express_LíneaN:`** N-ésima línea Express (línea de sólo transbordos)<br>\n",
    "**`Todas_Lineas:`** Arreglo donde cada entrada es una línea entera; así `Todas_Lineas[i][j]` nos dará la estación `j` de la línea `i`. <br>\n",
    "**`Transfer_List:`** Arreglo de todos los transbordos de `Todas_Líneas`.\n",
    "\n",
    "y las  *funciones*: <br>\n",
    "**`Length_Lineas(total_lines):`** Número de estaciones de cada línea, en orden de línea. <br>\n",
    "**`Length_Estaciones(total_lines):`** Número total de estaciones en toda la red <br>\n",
    "**`GetStationNumber(station_name, line_number, total_lines) :`** Se da el nombre de una estación y la línea en donde se encuentra, y regresa el número de estación que le corresponde de la red. <br>\n",
    "**`GetStationName(station_number, total_lines) :`** Dado el número de estación en la red, te regresa el nombre de estación que le corresponde. <br>\n",
    "\n",
    "**Obs:** El default es siempre `Todas_Lineas`."
   ]
  },
  {
   "cell_type": "markdown",
   "metadata": {
    "collapsed": true
   },
   "source": [
    "### `graphs_metro.txt`\n",
    "\n",
    "Contiene las *funciones* <br>\n",
    "**`MetroNetwork(total_lines):`** Hace una red tipo `Graph` con el número de estaciones totales en el arreglo de líneas. <br>\n",
    "**`ConnectSimpleNetwork(total_lines):`** Une las estaciones de cada línea con aristas, sin considerar transbordos.\n",
    "**`ConnectLines(total_lines):`** Une con aristas los transbordos de la red. <br>\n",
    "**`ConnectFullNetwork_Weighted(normal_edge, transit_edge,total_lines):`** Crea la *red* de todas las líneas, dándole un peso `normal_edge`entre estaciones y `transit_edge` entre transbordos. <br>\n",
    "**`MatrixDist(transfer_list, total_lines):`** Crea una matriz `D` de todas las distancias entre estaciones. *Ej: `D[i,j]` = distancia entre i-ésima y j-ésima estación.* \n",
    "\n",
    "**Obs_1:** Falta incluir el \"peso\" de cada arista, dependiendo de su tipo. <br>\n",
    "**Obs_2:** El default es siempre `Todas_Lineas`."
   ]
  },
  {
   "cell_type": "markdown",
   "metadata": {},
   "source": [
    "<img src=\"Mexico_City_metro.png\"> "
   ]
  }
 ],
 "metadata": {
  "kernelspec": {
   "display_name": "Julia 0.3.7",
   "language": "julia",
   "name": "julia 0.3"
  },
  "language_info": {
   "name": "julia",
   "version": "0.3.7"
  }
 },
 "nbformat": 4,
 "nbformat_minor": 0
}
