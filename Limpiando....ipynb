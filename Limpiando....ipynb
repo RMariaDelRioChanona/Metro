{
 "cells": [
  {
   "cell_type": "markdown",
   "metadata": {},
   "source": [
    "# Limpiando MetroNetwork "
   ]
  },
  {
   "cell_type": "code",
   "execution_count": 1,
   "metadata": {
    "collapsed": false
   },
   "outputs": [],
   "source": [
    "include(\"graphs_metro.txt\");"
   ]
  },
  {
   "cell_type": "markdown",
   "metadata": {},
   "source": [
    "### `lineas_metro.txt`\n",
    "\n",
    "Contiene las *variables*: <br>\n",
    "**`LineaN:`** N-ésima línea con el nombre de las estaciónes. <br>\n",
    "**`Express_LíneaN:`** N-ésima línea Express (línea de sólo transbordos)<br>\n",
    "**`Todas_Lineas:`** Arreglo donde cada entrada es una línea entera; así `Todas_Lineas[i][j]` nos dará la estación `j` de la línea `i`. <br>\n",
    "**`transfer_list:`** Arreglo de todos los transbordos de `Todas_Líneas`. <br>\n",
    "**`transfer_listplus:`** Arreglo de todos los transbordos de `Todas_LíneasPlus`.\n",
    "\n",
    "y las  *funciones*: <br>\n",
    "**`Length_Lineas(total_lines):`** Número de estaciones de cada línea, en orden de línea. <br>\n",
    "**`Length_Estaciones(total_lines):`** Número total de estaciones en toda la red <br>\n",
    "**`GetStationNumber(station_name, line_number, total_lines) :`** Se da el nombre de una estación y la línea en donde se encuentra, y regresa el número de estación que le corresponde de la red. <br>\n",
    "**`GetStationName(station_number, total_lines) :`** Dado el número de estación en la red, te regresa el nombre de estación que le corresponde. <br>\n",
    "**`Transfer_List(total_lines):`** Dada una *red* de Metro, nos regresa una lista con todos los números de tranbordo.\n",
    "\n",
    "**Obs:** El default es siempre `Todas_Lineas`."
   ]
  },
  {
   "cell_type": "markdown",
   "metadata": {
    "collapsed": true
   },
   "source": [
    "### `graphs_metro.txt`\n",
    "\n",
    "Contiene las *variables*: <br>\n",
    "**`D_norm:`** Matriz con todas las distancias mínimas entre estaciones de `Todas_Lineas`.<br>\n",
    "**`D_plus:`** Matriz con todas las distancias mínimas entre estaciones de `Todas_LineasPlus`.\n",
    "\n",
    "y las *funciones*: <br>\n",
    "**`MetroNetwork(total_lines):`** Hace una red tipo `Graph` con el número de estaciones totales en el arreglo de líneas. <br>\n",
    "**`ConnectSimpleNetwork(total_lines):`** Une las estaciones de cada línea con aristas, sin considerar transbordos.\n",
    "**`ConnectLines(total_lines):`** Une con aristas los transbordos de la red. <br>\n",
    "**`ConnectFullNetwork_Weighted(normal_edge, transit_edge,total_lines):`** Crea la *red* de todas las líneas, dándole un peso `normal_edge`entre estaciones y `transit_edge` entre transbordos. <br>\n",
    "**`NormalesyTrasbordos(matrix_dist, est_init, est_final,transit_edge_dist, normal_edge_dist):`** : Regresa una tupla con el número de estaciones recorridas y el número de transbordos efectuados. <br>\n",
    "**`NormalesTrasbordosyExpress(matrix_dist, est_init, est_final,transit_edge_dist, normal_edge_dist, express_edge_dist):`** Nos da una tupla con número de estaciones, número de transbordos y número de estaciones express recorridas. <br>\n",
    "**`MatrixDist(transfer_list, total_lines):`** Crea una matriz `D` con las **distancias mínimas** entre estaciones.<br> *Ej: `D[i,j]` = distancia mínima entre i-ésima y j-ésima estación.* \n",
    "\n",
    "**Obs_1:** Falta incluir el \"peso\" de cada arista, dependiendo de su tipo. <br>\n",
    "**Obs_2:** El default es siempre `Todas_Lineas`."
   ]
  },
  {
   "cell_type": "markdown",
   "metadata": {},
   "source": [
    "<img src=\"Mexico_City_metro.png\"> "
   ]
  },
  {
   "cell_type": "markdown",
   "metadata": {},
   "source": [
    " que obtengamos el número de estaciones normales recorridas y los trasbordos. Lo que queremos es lo siguiente: <br>\n",
    "* Tomamos aletoriamente dos estaciones $inicio = rand(0, N)$ $ fin = rand(0, N)$, pedimos $inicio != fin$ con un if.\n",
    "* Calculamos el número de estaciones normale y el número de trasbordos y después hacemos lo siguiente\n",
    "* Cuando un pasajero se sube al metro espera un tiempo $t_{espera}$ a que pase el metro, suponemos que máximo el metro tarda en pasar $t_{max}$ (ej. a lo más tarda 15 minutos, entonces $t_{max} = 15\\times60 s$). Suponemos que la distribución es uniforme (aunque después sería bueno asumir distribución gaussiana o poisson... pero después vemos eso).\n",
    "Entonces $t_{espera} = rand()*t_{max}$. <br>\n",
    "* Cuando el metro se detiene en una estación se detiene a lo menos $t_{parada_min}$ y a lo más $t_{parada_max}$. Entonces por cada estación que pare el metro se debe de tomar en cuenta $t_{parada} = rand(t_{parada_min}, t_{parada_max})$ (o como sea que se ponga en la función) <br>\n",
    "* Cuando el pasajero hace un trasbordo entonces tarda en caminar un tiempo $t_{trasbordo}$ y además debe de esperar a que vuelva a pasar el camión. Volvemos a calcular un $t_{espera} = rand()*t_{max}$.\n",
    "* Finalmente sumamos todo el tiempo y vemos total de estaciones que recorrio y lo guardamos en una lista apropiada. Después vamos con el siguiente pasajero y hacemos lo mismo."
   ]
  },
  {
   "cell_type": "code",
   "execution_count": 2,
   "metadata": {
    "collapsed": false
   },
   "outputs": [
    {
     "name": "stderr",
     "output_type": "stream",
     "text": [
      "INFO: Loading help data...\n"
     ]
    }
   ],
   "source": [
    "using PyPlot\n",
    "using Distributions"
   ]
  },
  {
   "cell_type": "code",
   "execution_count": 3,
   "metadata": {
    "collapsed": false
   },
   "outputs": [
    {
     "data": {
      "text/plain": [
       "120.0"
      ]
     },
     "execution_count": 3,
     "metadata": {},
     "output_type": "execute_result"
    }
   ],
   "source": [
    "#Peso de las aristas\n",
    "normal_edge_dist=1\n",
    "transit_edge_dist=1.1\n",
    "\n",
    "#Constantes de tiempos\n",
    "tprom_espera = 4*60.\n",
    "t_viaje = normal_edge_dist*60 #- tprom_parada \n",
    "tprom_parada = 15.\n",
    "t_tras = 2*60."
   ]
  },
  {
   "cell_type": "code",
   "execution_count": 4,
   "metadata": {
    "collapsed": false
   },
   "outputs": [
    {
     "data": {
      "text/plain": [
       "PasajerosGaussiana (generic function with 1 method)"
      ]
     },
     "execution_count": 4,
     "metadata": {},
     "output_type": "execute_result"
    }
   ],
   "source": [
    "#Simula N pasajeros de estaciones iniciales y finales aleatorias.\n",
    "#Regresa Estaciones viajadas, Tiempo transcurrido, Velocidad media\n",
    "function PasajerosGaussiana(DistMatrix, tprom_espera, t_viaje, tprom_parada, t_tras, N_pasajeros, transit_edge_dist, normal_edge_dist)\n",
    "    N_est = length(DistMatrix[1, :])\n",
    "    Stations_traveled = zeros(N_pasajeros)\n",
    "    Time_traveled = zeros(N_pasajeros)\n",
    "    Velocidad = zeros(N_pasajeros)\n",
    "    for pasajero = 1:N_pasajeros\n",
    "        initial_station = rand(1:N_est)\n",
    "        end_station = rand(1:N_est)\n",
    "        while GetStationName(initial_station) == GetStationName(end_station)\n",
    "            initial_station = rand(1:N_est)\n",
    "            end_station = rand(1:N_est) \n",
    "        end\n",
    "        num_est, num_tras = NormalesyTrasbordos(DistMatrix, initial_station, end_station, transit_edge_dist, normal_edge_dist)\n",
    "        Stations_traveled[pasajero] = num_est\n",
    "        tiempo_tras = 0\n",
    "        for tras = 1:num_tras\n",
    "            tiempo_tras += tprom_espera*rand() + t_tras\n",
    "        end\n",
    "        tiempo_paradas = 0\n",
    "        for parada = 1:num_est\n",
    "            tiempo_paradas += tprom_parada*rand() + t_viaje\n",
    "        end\n",
    "        tiempito = tprom_espera*rand() + tiempo_tras + tiempo_paradas\n",
    "        Time_traveled[pasajero] = tiempito\n",
    "        Velocidad[pasajero] = num_est/tiempito\n",
    "        \n",
    "    end\n",
    "    return Stations_traveled, Time_traveled, Velocidad\n",
    "end"
   ]
  },
  {
   "cell_type": "code",
   "execution_count": 13,
   "metadata": {
    "collapsed": false
   },
   "outputs": [],
   "source": [
    "ESTg,TIMEg,VELg = PasajerosGaussiana(D_norm, tprom_espera, t_viaje, tprom_parada, t_tras, 100_000, transit_edge_dist, normal_edge_dist);"
   ]
  },
  {
   "cell_type": "code",
   "execution_count": 14,
   "metadata": {
    "collapsed": false
   },
   "outputs": [
    {
     "data": {
      "image/png": "[encoded data removed]",
      "text/plain": [
       "Figure(PyObject <matplotlib.figure.Figure object at 0x11841f550>)"
      ]
     },
     "metadata": {},
     "output_type": "display_data"
    },
    {
     "data": {
      "text/plain": [
       "([1.51297,1.73991,2.79899,6.65706,9.75865,10.2125,9.5317,10.1369,11.0447,15.8105  …  9.98559,7.94309,4.8415,3.25288,1.13473,1.21038,0.605188,0.151297,0.378242,0.226945],[0.00278755,0.00291974,0.00305193,0.00318412,0.00331631,0.0034485,0.00358069,0.00371288,0.00384507,0.00397726  …  0.0148169,0.0149491,0.0150813,0.0152134,0.0153456,0.0154778,0.01561,0.0157422,0.0158744,0.0160066],{PyObject <matplotlib.patches.Rectangle object at 0x1187791d0>,PyObject <matplotlib.patches.Rectangle object at 0x118779850>,PyObject <matplotlib.patches.Rectangle object at 0x118779ed0>,PyObject <matplotlib.patches.Rectangle object at 0x11878f590>,PyObject <matplotlib.patches.Rectangle object at 0x11878fc10>,PyObject <matplotlib.patches.Rectangle object at 0x11879c2d0>,PyObject <matplotlib.patches.Rectangle object at 0x11879c950>,PyObject <matplotlib.patches.Rectangle object at 0x11879cfd0>,PyObject <matplotlib.patches.Rectangle object at 0x1187aa690>,PyObject <matplotlib.patches.Rectangle object at 0x1187aad10>  …  PyObject <matplotlib.patches.Rectangle object at 0x11a041f90>,PyObject <matplotlib.patches.Rectangle object at 0x11a04e650>,PyObject <matplotlib.patches.Rectangle object at 0x11a04ecd0>,PyObject <matplotlib.patches.Rectangle object at 0x11a05c390>,PyObject <matplotlib.patches.Rectangle object at 0x11a05ca10>,PyObject <matplotlib.patches.Rectangle object at 0x11a05cf10>,PyObject <matplotlib.patches.Rectangle object at 0x11a067750>,PyObject <matplotlib.patches.Rectangle object at 0x11a067dd0>,PyObject <matplotlib.patches.Rectangle object at 0x11a075490>,PyObject <matplotlib.patches.Rectangle object at 0x11a075b10>})"
      ]
     },
     "execution_count": 14,
     "metadata": {},
     "output_type": "execute_result"
    }
   ],
   "source": [
    "plt.hist(VELg,bins=100,normed=true)"
   ]
  },
  {
   "cell_type": "code",
   "execution_count": 7,
   "metadata": {
    "collapsed": false
   },
   "outputs": [
    {
     "data": {
      "text/plain": [
       "PasajerosPoisson (generic function with 1 method)"
      ]
     },
     "execution_count": 7,
     "metadata": {},
     "output_type": "execute_result"
    }
   ],
   "source": [
    "function PasajerosPoisson(DistMatrix, tprom_espera, t_viaje, tprom_parada, t_tras, N_pasajeros, transit_edge_dist, normal_edge_dist)\n",
    "    N_est = length(DistMatrix[1, :])\n",
    "    Stations_traveled = zeros(N_pasajeros)\n",
    "    Time_traveled = zeros(N_pasajeros)\n",
    "    Velocidad = zeros(N_pasajeros)\n",
    "    for pasajero = 1:N_pasajeros\n",
    "        initial_station = rand(1:N_est)\n",
    "        end_station = rand(1:N_est)\n",
    "        while GetStationName(initial_station) == GetStationName(end_station)\n",
    "            initial_station = rand(1:N_est)\n",
    "            end_station = rand(1:N_est) \n",
    "        end\n",
    "        num_est, num_tras = NormalesyTrasbordos(DistMatrix, initial_station, end_station, transit_edge_dist, normal_edge_dist)\n",
    "        Stations_traveled[pasajero] = num_est\n",
    "        tiempo_tras = 0\n",
    "        for tras = 1:num_tras\n",
    "            tiempo_tras += tprom_espera*rand(Distributions.Poisson()) + t_tras\n",
    "        end\n",
    "        tiempo_paradas = 0\n",
    "        for parada = 1:num_est\n",
    "            tiempo_paradas += tprom_parada*rand(Distributions.Poisson()) + t_viaje\n",
    "        end\n",
    "        tiempito = tprom_espera*rand(Distributions.Poisson()) + tiempo_tras + tiempo_paradas\n",
    "        Time_traveled[pasajero] = tiempito\n",
    "        Velocidad[pasajero] = num_est/tiempito\n",
    "        \n",
    "    end\n",
    "    return Stations_traveled, Time_traveled, Velocidad\n",
    "end"
   ]
  },
  {
   "cell_type": "code",
   "execution_count": 8,
   "metadata": {
    "collapsed": false
   },
   "outputs": [
    {
     "ename": "LoadError",
     "evalue": "D not defined\nwhile loading In[8], in expression starting on line 1",
     "output_type": "error",
     "traceback": [
      "D not defined\nwhile loading In[8], in expression starting on line 1",
      ""
     ]
    }
   ],
   "source": [
    "ESTp,TIMEp,VELp = PasajerosPoisson(D, tprom_espera, t_viaje, tprom_parada, t_tras, 100_000, transit_edge_dist, normal_edge_dist);"
   ]
  },
  {
   "cell_type": "code",
   "execution_count": 9,
   "metadata": {
    "collapsed": false
   },
   "outputs": [
    {
     "ename": "LoadError",
     "evalue": "VELp not defined\nwhile loading In[9], in expression starting on line 1",
     "output_type": "error",
     "traceback": [
      "VELp not defined\nwhile loading In[9], in expression starting on line 1",
      ""
     ]
    }
   ],
   "source": [
    "plt.hist(VELp,bins=100,normed=true);"
   ]
  },
  {
   "cell_type": "code",
   "execution_count": 10,
   "metadata": {
    "collapsed": false
   },
   "outputs": [
    {
     "ename": "LoadError",
     "evalue": "transfer_edge_dist not defined\nwhile loading In[10], in expression starting on line 1",
     "output_type": "error",
     "traceback": [
      "transfer_edge_dist not defined\nwhile loading In[10], in expression starting on line 1",
      ""
     ]
    }
   ],
   "source": [
    "ConnectFullNetwork_Weighted(normal_edge_dist,transfer_edge_dist,Todas_LineasPlus);"
   ]
  }
 ],
 "metadata": {
  "kernelspec": {
   "display_name": "Julia 0.3.7",
   "language": "julia",
   "name": "julia 0.3"
  },
  "language_info": {
   "name": "julia",
   "version": "0.3.7"
  }
 },
 "nbformat": 4,
 "nbformat_minor": 0
}
