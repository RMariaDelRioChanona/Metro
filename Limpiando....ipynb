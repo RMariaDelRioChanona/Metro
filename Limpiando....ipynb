{
 "cells": [
  {
   "cell_type": "markdown",
   "metadata": {},
   "source": [
    "# Limpiando MetroNetwork "
   ]
  },
  {
   "cell_type": "code",
   "execution_count": 1,
   "metadata": {
    "collapsed": false
   },
   "outputs": [],
   "source": [
    "include(\"graphs_metro.txt\");"
   ]
  },
  {
   "cell_type": "markdown",
   "metadata": {},
   "source": [
    "### `lineas_metro.txt`\n",
    "\n",
    "Contiene las *variables*: <br>\n",
    "**`LineaN:`** N-ésima línea con el nombre de las estaciónes. <br>\n",
    "**`Express_LíneaN:`** N-ésima línea Express (línea de sólo transbordos)<br>\n",
    "**`Todas_Lineas:`** Arreglo donde cada entrada es una línea entera; así `Todas_Lineas[i][j]` nos dará la estación `j` de la línea `i`. <br>\n",
    "**`transfer_list:`** Arreglo de todos los transbordos de `Todas_Líneas`. <br>\n",
    "**`transfer_listplus:`** Arreglo de todos los transbordos de `Todas_LíneasPlus`.\n",
    "\n",
    "y las  *funciones*: <br>\n",
    "**`Length_Lineas(total_lines):`** Número de estaciones de cada línea, en orden de línea. <br>\n",
    "**`Length_Estaciones(total_lines):`** Número total de estaciones en toda la red <br>\n",
    "**`GetStationNumber(station_name, line_number, total_lines) :`** Se da el nombre de una estación y la línea en donde se encuentra, y regresa el número de estación que le corresponde de la red. <br>\n",
    "**`GetStationName(station_number, total_lines) :`** Dado el número de estación en la red, te regresa el nombre de estación que le corresponde. <br>\n",
    "**`Transfer_List(total_lines):`** Dada una *red* de Metro, nos regresa una lista con todos los números de tranbordo.\n",
    "\n",
    "**Obs:** El default es siempre `Todas_Lineas`."
   ]
  },
  {
   "cell_type": "markdown",
   "metadata": {
    "collapsed": true
   },
   "source": [
    "### `graphs_metro.txt`\n",
    "\n",
    "Contiene las *variables*: <br>\n",
    "**`D_norm:`** Matriz con todas las distancias mínimas entre estaciones de `Todas_Lineas`.<br>\n",
    "**`D_plus:`** Matriz con todas las distancias mínimas entre estaciones de `Todas_LineasPlus`.\n",
    "\n",
    "y las *funciones*: <br>\n",
    "**`MetroNetwork(total_lines):`** Hace una red tipo `Graph` con el número de estaciones totales en el arreglo de líneas. <br>\n",
    "**`ConnectSimpleNetwork(total_lines):`** Une las estaciones de cada línea con aristas, sin considerar transbordos.\n",
    "**`ConnectLines(total_lines):`** Une con aristas los transbordos de la red. <br>\n",
    "**`ConnectFullNetwork_Weighted(normal_edge, transit_edge,total_lines):`** Crea la *red* de todas las líneas, dándole un peso `normal_edge`entre estaciones y `transit_edge` entre transbordos. <br>\n",
    "**`NormalesyTrasbordos(matrix_dist, est_init, est_final,transit_edge_dist, normal_edge_dist):`** : Regresa una tupla con el número de estaciones recorridas y el número de transbordos efectuados. <br>\n",
    "**`NormalesTrasbordosyExpress(matrix_dist, est_init, est_final,transit_edge_dist, normal_edge_dist, express_edge_dist):`** Nos da una tupla con número de estaciones, número de transbordos y número de estaciones express recorridas. <br>\n",
    "**`MatrixDist(transfer_list, total_lines):`** Crea una matriz `D` con las **distancias mínimas** entre estaciones.<br> *Ej: `D[i,j]` = distancia mínima entre i-ésima y j-ésima estación.* \n",
    "\n",
    "**Obs_1:** Falta incluir el \"peso\" de cada arista, dependiendo de su tipo. <br>\n",
    "**Obs_2:** El default es siempre `Todas_Lineas`."
   ]
  },
  {
   "cell_type": "markdown",
   "metadata": {},
   "source": [
    "<img src=\"Mexico_City_metro.png\"> "
   ]
  },
  {
   "cell_type": "markdown",
   "metadata": {},
   "source": [
    " que obtengamos el número de estaciones normales recorridas y los trasbordos. Lo que queremos es lo siguiente: <br>\n",
    "* Tomamos aletoriamente dos estaciones $inicio = rand(0, N)$ $ fin = rand(0, N)$, pedimos $inicio != fin$ con un if.\n",
    "* Calculamos el número de estaciones normale y el número de trasbordos y después hacemos lo siguiente\n",
    "* Cuando un pasajero se sube al metro espera un tiempo $t_{espera}$ a que pase el metro, suponemos que máximo el metro tarda en pasar $t_{max}$ (ej. a lo más tarda 15 minutos, entonces $t_{max} = 15\\times60 s$). Suponemos que la distribución es uniforme (aunque después sería bueno asumir distribución gaussiana o poisson... pero después vemos eso).\n",
    "Entonces $t_{espera} = rand()*t_{max}$. <br>\n",
    "* Cuando el metro se detiene en una estación se detiene a lo menos $t_{parada_min}$ y a lo más $t_{parada_max}$. Entonces por cada estación que pare el metro se debe de tomar en cuenta $t_{parada} = rand(t_{parada_min}, t_{parada_max})$ (o como sea que se ponga en la función) <br>\n",
    "* Cuando el pasajero hace un trasbordo entonces tarda en caminar un tiempo $t_{trasbordo}$ y además debe de esperar a que vuelva a pasar el camión. Volvemos a calcular un $t_{espera} = rand()*t_{max}$.\n",
    "* Finalmente sumamos todo el tiempo y vemos total de estaciones que recorrio y lo guardamos en una lista apropiada. Después vamos con el siguiente pasajero y hacemos lo mismo."
   ]
  },
  {
   "cell_type": "code",
   "execution_count": 2,
   "metadata": {
    "collapsed": false
   },
   "outputs": [
    {
     "name": "stderr",
     "output_type": "stream",
     "text": [
      "INFO: Loading help data...\n"
     ]
    }
   ],
   "source": [
    "using PyPlot\n",
    "using Distributions"
   ]
  },
  {
   "cell_type": "code",
   "execution_count": 3,
   "metadata": {
    "collapsed": false
   },
   "outputs": [
    {
     "data": {
      "text/plain": [
       "120.0"
      ]
     },
     "execution_count": 3,
     "metadata": {},
     "output_type": "execute_result"
    }
   ],
   "source": [
    "#Peso de las aristas\n",
    "normal_edge_dist=1\n",
    "transit_edge_dist=1.1\n",
    "\n",
    "#Constantes de tiempos\n",
    "tprom_espera = 4*60.\n",
    "t_viaje = normal_edge_dist*60 #- tprom_parada \n",
    "tprom_parada = 15.\n",
    "t_tras = 2*60."
   ]
  },
  {
   "cell_type": "code",
   "execution_count": 4,
   "metadata": {
    "collapsed": false
   },
   "outputs": [
    {
     "data": {
      "text/plain": [
       "PasajerosGaussiana (generic function with 1 method)"
      ]
     },
     "execution_count": 4,
     "metadata": {},
     "output_type": "execute_result"
    }
   ],
   "source": [
    "#Simula N pasajeros de estaciones iniciales y finales aleatorias.\n",
    "#Regresa Estaciones viajadas, Tiempo transcurrido, Velocidad media\n",
    "function PasajerosGaussiana(DistMatrix, tprom_espera, t_viaje, tprom_parada, t_tras, N_pasajeros, transit_edge_dist, normal_edge_dist)\n",
    "    N_est = length(DistMatrix[1, :])\n",
    "    Stations_traveled = zeros(N_pasajeros)\n",
    "    Time_traveled = zeros(N_pasajeros)\n",
    "    Velocidad = zeros(N_pasajeros)\n",
    "    for pasajero = 1:N_pasajeros\n",
    "        initial_station = rand(1:N_est)\n",
    "        end_station = rand(1:N_est)\n",
    "        while GetStationName(initial_station) == GetStationName(end_station)\n",
    "            initial_station = rand(1:N_est)\n",
    "            end_station = rand(1:N_est) \n",
    "        end\n",
    "        num_est, num_tras = NormalesyTrasbordos(DistMatrix, initial_station, end_station, transit_edge_dist, normal_edge_dist)\n",
    "        Stations_traveled[pasajero] = num_est\n",
    "        tiempo_tras = 0\n",
    "        for tras = 1:num_tras\n",
    "            tiempo_tras += tprom_espera*rand() + t_tras\n",
    "        end\n",
    "        tiempo_paradas = 0\n",
    "        for parada = 1:num_est\n",
    "            tiempo_paradas += tprom_parada*rand() + t_viaje\n",
    "        end\n",
    "        tiempito = tprom_espera*rand() + tiempo_tras + tiempo_paradas\n",
    "        Time_traveled[pasajero] = tiempito\n",
    "        Velocidad[pasajero] = num_est/tiempito\n",
    "        \n",
    "    end\n",
    "    return Stations_traveled, Time_traveled, Velocidad\n",
    "end"
   ]
  },
  {
   "cell_type": "code",
   "execution_count": 5,
   "metadata": {
    "collapsed": false
   },
   "outputs": [],
   "source": [
    "ESTg,TIMEg,VELg = PasajerosGaussiana(D_norm, tprom_espera, t_viaje, tprom_parada, t_tras, 100_000, transit_edge_dist, normal_edge_dist);"
   ]
  },
  {
   "cell_type": "code",
   "execution_count": 6,
   "metadata": {
    "collapsed": false
   },
   "outputs": [
    {
     "data": {
      "image/png": "[encoded data removed]",
      "text/plain": [
       "Figure(PyObject <matplotlib.figure.Figure object at 0x1187ba410>)"
      ]
     },
     "metadata": {},
     "output_type": "display_data"
    },
    {
     "data": {
      "text/plain": [
       "([0.945733,1.74597,2.5462,5.31065,10.6941,10.0393,10.6213,11.7853,11.2033,12.8765  …  1.96421,1.38223,0.872984,0.363743,0.218246,0.145497,0.145497,0.0727487,0.0,0.218246],[0.00273183,0.00286929,0.00300675,0.00314421,0.00328167,0.00341913,0.00355659,0.00369405,0.00383151,0.00396897  …  0.0152406,0.0153781,0.0155156,0.015653,0.0157905,0.0159279,0.0160654,0.0162029,0.0163403,0.0164778],{PyObject <matplotlib.patches.Rectangle object at 0x1191e2d10>,PyObject <matplotlib.patches.Rectangle object at 0x1191f73d0>,PyObject <matplotlib.patches.Rectangle object at 0x1191f7a50>,PyObject <matplotlib.patches.Rectangle object at 0x1191f7f50>,PyObject <matplotlib.patches.Rectangle object at 0x119206790>,PyObject <matplotlib.patches.Rectangle object at 0x119206e10>,PyObject <matplotlib.patches.Rectangle object at 0x1192144d0>,PyObject <matplotlib.patches.Rectangle object at 0x119214b50>,PyObject <matplotlib.patches.Rectangle object at 0x119220210>,PyObject <matplotlib.patches.Rectangle object at 0x119220890>  …  PyObject <matplotlib.patches.Rectangle object at 0x11c95de90>,PyObject <matplotlib.patches.Rectangle object at 0x11c96a550>,PyObject <matplotlib.patches.Rectangle object at 0x11c96abd0>,PyObject <matplotlib.patches.Rectangle object at 0x11c977290>,PyObject <matplotlib.patches.Rectangle object at 0x11c977910>,PyObject <matplotlib.patches.Rectangle object at 0x11c977f90>,PyObject <matplotlib.patches.Rectangle object at 0x11c983650>,PyObject <matplotlib.patches.Rectangle object at 0x11c983cd0>,PyObject <matplotlib.patches.Rectangle object at 0x11c991390>,PyObject <matplotlib.patches.Rectangle object at 0x11c991890>})"
      ]
     },
     "execution_count": 6,
     "metadata": {},
     "output_type": "execute_result"
    }
   ],
   "source": [
    "plt.hist(VELg,bins=100,normed=true)"
   ]
  },
  {
   "cell_type": "code",
   "execution_count": 7,
   "metadata": {
    "collapsed": false
   },
   "outputs": [
    {
     "data": {
      "text/plain": [
       "PasajerosPoisson (generic function with 1 method)"
      ]
     },
     "execution_count": 7,
     "metadata": {},
     "output_type": "execute_result"
    }
   ],
   "source": [
    "function PasajerosPoisson(DistMatrix, tprom_espera, t_viaje, tprom_parada, t_tras, N_pasajeros, transit_edge_dist, normal_edge_dist)\n",
    "    N_est = length(DistMatrix[1, :])\n",
    "    Stations_traveled = zeros(N_pasajeros)\n",
    "    Time_traveled = zeros(N_pasajeros)\n",
    "    Velocidad = zeros(N_pasajeros)\n",
    "    for pasajero = 1:N_pasajeros\n",
    "        initial_station = rand(1:N_est)\n",
    "        end_station = rand(1:N_est)\n",
    "        while GetStationName(initial_station) == GetStationName(end_station)\n",
    "            initial_station = rand(1:N_est)\n",
    "            end_station = rand(1:N_est) \n",
    "        end\n",
    "        num_est, num_tras = NormalesyTrasbordos(DistMatrix, initial_station, end_station, transit_edge_dist, normal_edge_dist)\n",
    "        Stations_traveled[pasajero] = num_est\n",
    "        tiempo_tras = 0\n",
    "        for tras = 1:num_tras\n",
    "            tiempo_tras += tprom_espera*rand(Distributions.Poisson()) + t_tras\n",
    "        end\n",
    "        tiempo_paradas = 0\n",
    "        for parada = 1:num_est\n",
    "            tiempo_paradas += tprom_parada*rand(Distributions.Poisson()) + t_viaje\n",
    "        end\n",
    "        tiempito = tprom_espera*rand(Distributions.Poisson()) + tiempo_tras + tiempo_paradas\n",
    "        Time_traveled[pasajero] = tiempito\n",
    "        Velocidad[pasajero] = num_est/tiempito\n",
    "        \n",
    "    end\n",
    "    return Stations_traveled, Time_traveled, Velocidad\n",
    "end"
   ]
  },
  {
   "cell_type": "code",
   "execution_count": 8,
   "metadata": {
    "collapsed": false
   },
   "outputs": [],
   "source": [
    "ESTp,TIMEp,VELp = PasajerosPoisson(D_norm, tprom_espera, t_viaje, tprom_parada, t_tras, 100_000, transit_edge_dist, normal_edge_dist);"
   ]
  },
  {
   "cell_type": "code",
   "execution_count": 9,
   "metadata": {
    "collapsed": false
   },
   "outputs": [
    {
     "data": {
      "image/png": "[encoded data removed]",
      "text/plain": [
       "Figure(PyObject <matplotlib.figure.Figure object at 0x117fe24d0>)"
      ]
     },
     "metadata": {},
     "output_type": "display_data"
    }
   ],
   "source": [
    "plt.hist(VELp,bins=100,normed=true);"
   ]
  },
  {
   "cell_type": "markdown",
   "metadata": {},
   "source": [
    "## MonteCarlo\n",
    "\n",
    "Se simulan $N$ caminantes con estaciones iniciales y finales aleatorias (uniformemente distribuidas).\n",
    "Se le dará también una distribución de `Rayleigh` a cada tiempo de espera.\n",
    "Es decir, una distribución para tiempo de espera entre cada parada, para tiempo de espera entre trasbordos.\n",
    "\n",
    "Se escoje la distribución de `Rayleigh` porque es lo más cercano a la realidad en los tiempos de espera del metro del DF; es decir, no se distribuye el tiempo uniformemente alrededor de la media."
   ]
  },
  {
   "cell_type": "code",
   "execution_count": 953,
   "metadata": {
    "collapsed": false
   },
   "outputs": [
    {
     "data": {
      "text/plain": [
       "(4.823327730403876,0.02014862537637154,1.2649664561991865,0.6619694260824944)"
      ]
     },
     "execution_count": 953,
     "metadata": {},
     "output_type": "execute_result"
    }
   ],
   "source": [
    "# LogNormal\n",
    "# Pareto(a,b)\n",
    "# Rayleigh() <- ¡es la mejor!\n",
    "# Weibull(2,1)\n",
    "a = zeros(10000)\n",
    "for i in 1:10000\n",
    "    a[i] = rand(Rayleigh())\n",
    "end\n",
    "maximum(a),minimum(a),mean(a),std(a)"
   ]
  },
  {
   "cell_type": "code",
   "execution_count": 954,
   "metadata": {
    "collapsed": true
   },
   "outputs": [
    {
     "data": {
      "image/png": "[encoded data removed]",
      "text/plain": [
       "Figure(PyObject <matplotlib.figure.Figure object at 0x12d27be90>)"
      ]
     },
     "metadata": {},
     "output_type": "display_data"
    }
   ],
   "source": [
    "plt.hist(a,bins=100);"
   ]
  },
  {
   "cell_type": "code",
   "execution_count": 957,
   "metadata": {
    "collapsed": false
   },
   "outputs": [
    {
     "data": {
      "text/plain": [
       "140.001"
      ]
     },
     "execution_count": 957,
     "metadata": {},
     "output_type": "execute_result"
    }
   ],
   "source": [
    "tprom_espera = 4*60. #En promedio esperas 4 min a que pase el metro\n",
    "t_viaje = 1*60 #El metro tarda 1 minuto en pasar de una estación a otra\n",
    "tprom_parada = 20. #El metro se para 20 segundos en promedio en cada estación\n",
    "t_tras = 1*60. #Tardas 1 minuto en hacer el trasbordo (parte a pie)\n",
    "normal_edge = t_viaje + tprom_parada\n",
    "transit_edge = t_tras + tprom_espera + 0.1 #los puntos flotantes nos van a ayudar a distinguir\n",
    "express_edge = 2*t_viaje + tprom_parada + 0.001"
   ]
  },
  {
   "cell_type": "code",
   "execution_count": 982,
   "metadata": {
    "collapsed": false
   },
   "outputs": [
    {
     "data": {
      "text/plain": [
       "260"
      ]
     },
     "execution_count": 982,
     "metadata": {},
     "output_type": "execute_result"
    }
   ],
   "source": [
    "length(D_plus[1,:])"
   ]
  },
  {
   "cell_type": "code",
   "execution_count": 983,
   "metadata": {
    "collapsed": false
   },
   "outputs": [
    {
     "data": {
      "text/plain": [
       "Pasajeros_Rayleigh (generic function with 9 methods)"
      ]
     },
     "execution_count": 983,
     "metadata": {},
     "output_type": "execute_result"
    }
   ],
   "source": [
    "function Pasajeros_Rayleigh(N_pasajeros, total_lines=Todas_LineasPlus, D_normal=D_norm, D_express=D_plus, tprom_espera=tprom_espera, t_viaje=t_viaje, tprom_parada=tprom_parada, t_tras=t_tras)\n",
    "    \n",
    "    normal_edge  = t_viaje + tprom_parada\n",
    "    transit_edge = t_tras + tprom_espera + 0.1  \n",
    "    express_edge = 2*t_viaje + tprom_parada + 0.001\n",
    "    \n",
    "    N_est = length(D_express[1,:])\n",
    "    Stations_traveled  = zeros(N_pasajeros) #Esta es la misma para ambas\n",
    "    Time_traveled_norm = zeros(N_pasajeros)\n",
    "    Time_traveled_exp = zeros(N_pasajeros)\n",
    "    Velocidad_norm = zeros(N_pasajeros)\n",
    "    Velocidad_exp = zeros(N_pasajeros)\n",
    "    \n",
    "    M = Length_Lineas(total_lines)\n",
    "    \n",
    "    for pasajero = 1:N_pasajeros\n",
    "        initial_station = rand(1:N_est)\n",
    "        end_station = rand(1:N_est)\n",
    "        while GetStationName(initial_station,total_lines,M) == GetStationName(end_station,total_lines,M)\n",
    "            initial_station = rand(1:N_est)\n",
    "            end_station = rand(1:N_est) \n",
    "        end\n",
    "        \n",
    "        num_est, num_tras_norm, num_exp, num_tras_ex = NormalesTrasbordosyExpress(D_normal, D_express, initial_station, end_station, normal_edge, transit_edge, express_edge)\n",
    "        \n",
    "        #Parte del Metro normal\n",
    "        tiempo_tras_norm = 0\n",
    "        for tras = 1:num_tras_norm\n",
    "            tiempo_tras_norm += tprom_espera*rand(Rayleigh()) + t_tras\n",
    "        end\n",
    "        tiempo_paradas_norm = 0\n",
    "        for parada = 1:num_est\n",
    "            tiempo_paradas_norm += tprom_parada*rand(Rayleigh()) + t_viaje\n",
    "        end\n",
    "        tiempito_norm = tprom_espera*rand(Rayleigh()) + tiempo_tras_norm + tiempo_paradas_norm\n",
    "        Time_traveled_norm[pasajero] = tiempito_norm\n",
    "        Velocidad_norm[pasajero] = num_est/tiempito_norm\n",
    "        \n",
    "        #Parte del Metro Express\n",
    "        tiempo_tras_exp = 0\n",
    "        for tras = 1:num_tras_exp\n",
    "            tiempo_tras_exp += tprom_espera*rand(Rayleigh()) + t_tras\n",
    "        end\n",
    "        tiempo_paradas_exp = 0\n",
    "        for parada = 1:num_exp\n",
    "            tiempo_paradas_exp += tprom_parada*rand(Rayleigh()) + 2*t_viaje #Pues el express tarda el doble en un viaje\n",
    "        end\n",
    "        tiempito_exp = tprom_espera*rand(Rayleigh()) + tiempo_tras_exp + tiempo_paradas_exp\n",
    "        Time_traveled_norm[pasajero] = tiempito_exp\n",
    "        Velocidad_norm[pasajero] = num_est/tiempito_exp\n",
    "        \n",
    "    end\n",
    "    return Stations_traveled, Time_traveled_norm, Velocidad_norm, Time_traveled_exp, Velocidad_exp\n",
    "end"
   ]
  },
  {
   "cell_type": "code",
   "execution_count": 985,
   "metadata": {
    "collapsed": false
   },
   "outputs": [
    {
     "ename": "LoadError",
     "evalue": "`NormalesTrasbordosyExpress` has no method matching NormalesTrasbordosyExpress(::Array{Float64,2}, ::Array{Float64,2}, ::Int64, ::Int64, ::Float64, ::Float64, ::Float64)\nwhile loading In[985], in expression starting on line 1",
     "output_type": "error",
     "traceback": [
      "`NormalesTrasbordosyExpress` has no method matching NormalesTrasbordosyExpress(::Array{Float64,2}, ::Array{Float64,2}, ::Int64, ::Int64, ::Float64, ::Float64, ::Float64)\nwhile loading In[985], in expression starting on line 1",
      "",
      " in Pasajeros_Rayleigh at In[983]:24",
      " in Pasajeros_Rayleigh at In[983]:3 (repeats 2 times)"
     ]
    }
   ],
   "source": [
    "Pasajeros_Rayleigh(1_000)"
   ]
  },
  {
   "cell_type": "code",
   "execution_count": 980,
   "metadata": {
    "collapsed": false
   },
   "outputs": [
    {
     "ename": "LoadError",
     "evalue": "BoundsError()\nwhile loading In[980], in expression starting on line 1",
     "output_type": "error",
     "traceback": [
      "BoundsError()\nwhile loading In[980], in expression starting on line 1",
      "",
      " in GetStationName at /Users/blaskolic/Documents/UNAM/8vo Semestre/T.S Física Computacional III/mis trabajos/proyecto_final/Metro/lineas_metro.txt:131"
     ]
    }
   ],
   "source": [
    "GetStationName(261,Todas_LineasPlus,Length_Lineas(Todas_LineasPlus))"
   ]
  },
  {
   "cell_type": "code",
   "execution_count": 1212,
   "metadata": {
    "collapsed": false
   },
   "outputs": [
    {
     "data": {
      "text/plain": [
       "NormalesTrasbordosyExpress (generic function with 6 methods)"
      ]
     },
     "execution_count": 1212,
     "metadata": {},
     "output_type": "execute_result"
    }
   ],
   "source": [
    "function NormalesTrasbordosyExpress(i, j, D_normal=D_norm, D_express=D_plus, express_edge=2)\n",
    "    #normales\n",
    "    num_tras_norm = round(D_normal[i, j]%1, 1)*10\n",
    "    num_est = round(D_normal[i, j] - num_tras_norm)\n",
    "    #express\n",
    "    num_tras_exp = round(D_express[i, j]%1, 1)*10\n",
    "    num_exp = (D_express[i,j] - round(D_express[i, j],1))*1000\n",
    "    num_est_express = round(D_plus[i,j] - num_tras_exp - num_exp)\n",
    "    return num_est, num_tras_norm, num_est_express, num_tras_exp\n",
    "end"
   ]
  },
  {
   "cell_type": "code",
   "execution_count": 1231,
   "metadata": {
    "collapsed": false
   },
   "outputs": [
    {
     "data": {
      "text/plain": [
       "(8.0,1.0,3.0,1.0)"
      ]
     },
     "execution_count": 1231,
     "metadata": {},
     "output_type": "execute_result"
    }
   ],
   "source": [
    "NormalesTrasbordosyExpress(2,13)"
   ]
  },
  {
   "cell_type": "code",
   "execution_count": 1169,
   "metadata": {
    "collapsed": false
   },
   "outputs": [
    {
     "data": {
      "text/plain": [
       "0.0"
      ]
     },
     "execution_count": 1169,
     "metadata": {},
     "output_type": "execute_result"
    }
   ],
   "source": [
    "round(D_plus[2,72]%0.01,1)"
   ]
  },
  {
   "cell_type": "code",
   "execution_count": 1235,
   "metadata": {
    "collapsed": false
   },
   "outputs": [
    {
     "data": {
      "text/plain": [
       "138"
      ]
     },
     "execution_count": 1235,
     "metadata": {},
     "output_type": "execute_result"
    }
   ],
   "source": [
    "GetStationNumber(\"Chabacano\",9)"
   ]
  },
  {
   "cell_type": "code",
   "execution_count": 1226,
   "metadata": {
    "collapsed": false
   },
   "outputs": [
    {
     "data": {
      "text/plain": [
       "9.1"
      ]
     },
     "execution_count": 1226,
     "metadata": {},
     "output_type": "execute_result"
    }
   ],
   "source": [
    "D_norm[2,72]"
   ]
  },
  {
   "cell_type": "code",
   "execution_count": 1236,
   "metadata": {
    "collapsed": false
   },
   "outputs": [
    {
     "data": {
      "text/plain": [
       "2.001"
      ]
     },
     "execution_count": 1236,
     "metadata": {},
     "output_type": "execute_result"
    }
   ],
   "source": [
    "D_plus[138,13]"
   ]
  },
  {
   "cell_type": "code",
   "execution_count": 1234,
   "metadata": {
    "collapsed": false
   },
   "outputs": [
    {
     "data": {
      "text/plain": [
       "2.001"
      ]
     },
     "execution_count": 1234,
     "metadata": {},
     "output_type": "execute_result"
    }
   ],
   "source": [
    "D_plus[196,197]"
   ]
  },
  {
   "cell_type": "code",
   "execution_count": 1211,
   "metadata": {
    "collapsed": false
   },
   "outputs": [
    {
     "data": {
      "text/plain": [
       "1.2"
      ]
     },
     "execution_count": 1211,
     "metadata": {},
     "output_type": "execute_result"
    }
   ],
   "source": [
    "round(1.23,1)"
   ]
  },
  {
   "cell_type": "code",
   "execution_count": 1192,
   "metadata": {
    "collapsed": false
   },
   "outputs": [
    {
     "data": {
      "text/plain": [
       "0.1"
      ]
     },
     "execution_count": 1192,
     "metadata": {},
     "output_type": "execute_result"
    }
   ],
   "source": [
    "a = 1.0\n",
    "round(a%.1,1)"
   ]
  }
 ],
 "metadata": {
  "kernelspec": {
   "display_name": "Julia 0.3.7",
   "language": "julia",
   "name": "julia 0.3"
  },
  "language_info": {
   "name": "julia",
   "version": "0.3.7"
  }
 },
 "nbformat": 4,
 "nbformat_minor": 0
}
