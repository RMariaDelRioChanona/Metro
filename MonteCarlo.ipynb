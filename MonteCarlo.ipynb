{
 "cells": [
  {
   "cell_type": "markdown",
   "metadata": {},
   "source": [
    " que obtengamos el número de estaciones normales recorridas y los trasbordos. Lo que queremos es lo siguiente: <br>\n",
    "* Tomamos aletoriamente dos estaciones $inicio = rand(0, N)$ $ fin = rand(0, N)$, pedimos $inicio != fin$ con un if.\n",
    "* Calculamos el número de estaciones normale y el número de trasbordos y después hacemos lo siguiente\n",
    "* Cuando un pasajero se sube al metro espera un tiempo $t_{espera}$ a que pase el metro, suponemos que máximo el metro tarda en pasar $t_{max}$ (ej. a lo más tarda 15 minutos, entonces $t_{max} = 15\\times60 s$). Suponemos que la distribución es uniforme (aunque después sería bueno asumir distribución gaussiana o poisson... pero después vemos eso).\n",
    "Entonces $t_{espera} = rand()*t_{max}$. <br>\n",
    "* Cuando el metro se detiene en una estación se detiene a lo menos $t_{parada_min}$ y a lo más $t_{parada_max}$. Entonces por cada estación que pare el metro se debe de tomar en cuenta $t_{parada} = rand(t_{parada_min}, t_{parada_max})$ (o como sea que se ponga en la función) <br>\n",
    "* Cuando el pasajero hace un trasbordo entonces tarda en caminar un tiempo $t_{trasbordo}$ y además debe de esperar a que vuelva a pasar el camión. Volvemos a calcular un $t_{espera} = rand()*t_{max}$.\n",
    "* Finalmente sumamos todo el tiempo y vemos total de estaciones que recorrio y lo guardamos en una lista apropiada. Después vamos con el siguiente pasajero y hacemos lo mismo."
   ]
  },
  {
   "cell_type": "code",
   "execution_count": 3,
   "metadata": {
    "collapsed": false
   },
   "outputs": [
    {
     "data": {
      "text/plain": [
       "140.001"
      ]
     },
     "execution_count": 3,
     "metadata": {},
     "output_type": "execute_result"
    }
   ],
   "source": [
    "tprom_espera = 4*60. #En promedio esperas 4 min a que pase el metro\n",
    "t_viaje = 1*60 #El metro tarda 1 minuto en pasar de una estación a otra\n",
    "tprom_parada = 20. #El metro se para 20 segundos en promedio en cada estación\n",
    "t_tras = 1*60. #Tardas 1 minuto en hacer el trasbordo (parte a pie)\n",
    "normal_edge = t_viaje + tprom_parada\n",
    "transit_edge = t_tras + tprom_espera + 0.1 #los puntos flotantes nos van a ayudar a distinguir\n",
    "express_edge = 2*t_viaje + tprom_parada + 0.001\n"
   ]
  },
  {
   "cell_type": "code",
   "execution_count": 9,
   "metadata": {
    "collapsed": false
   },
   "outputs": [
    {
     "data": {
      "text/plain": [
       "1.0"
      ]
     },
     "execution_count": 9,
     "metadata": {},
     "output_type": "execute_result"
    }
   ],
   "source": [
    "a = 140.001\n",
    "round(a%1, 10)*1000 #para obtener estaciones express"
   ]
  },
  {
   "cell_type": "code",
   "execution_count": 10,
   "metadata": {
    "collapsed": false
   },
   "outputs": [
    {
     "data": {
      "text/plain": [
       "NormalesTrasbordosyExpress (generic function with 1 method)"
      ]
     },
     "execution_count": 10,
     "metadata": {},
     "output_type": "execute_result"
    }
   ],
   "source": [
    "function NormalesTrasbordosyExpress(D_normal, D_express, i, j, normal_edge, transit_edge, express_edge)\n",
    "    num_tras_norm = round(D_normal[i, j]%1, 1)*10\n",
    "    num_est = round((D_normal[i, j] - transit_edge*num_tras)/normal_edge, 1)\n",
    "    num_tras_exp = round(D_express[i, j]%1, 1)*10\n",
    "    num_exp = round(D_express[i, j]%1, 10)*1000\n",
    "    return num_tras_norm, num_est, num_tras_exp, num_exp\n",
    "end"
   ]
  },
  {
   "cell_type": "code",
   "execution_count": null,
   "metadata": {
    "collapsed": true
   },
   "outputs": [],
   "source": []
  },
  {
   "cell_type": "code",
   "execution_count": 11,
   "metadata": {
    "collapsed": false
   },
   "outputs": [
    {
     "data": {
      "text/plain": [
       "PasajerosGaussiana (generic function with 1 method)"
      ]
     },
     "execution_count": 11,
     "metadata": {},
     "output_type": "execute_result"
    }
   ],
   "source": [
    "function PasajerosGaussiana(D_normal, D_express, tprom_espera, t_viaje, tprom_parada, t_tras, N_pasajeros, normal_edge, transit_edge, express_edge)\n",
    "    \n",
    "    N_est = length(DistMatrix[1, :])\n",
    "    Stations_traveled  = zeros(N_pasajeros) #Esta es la misma para ambas\n",
    "    Time_traveled_norm = zeros(N_pasajeros)\n",
    "    Time_traveled_exp = zeros(N_pasajeros)\n",
    "    Velocidad_norm = zeros(N_pasajeros)\n",
    "    Velocidad_exp = zeros(N_pasajeros)\n",
    "    \n",
    "    for pasajero = 1:N_pasajeros\n",
    "        initial_station = rand(1:N_est)\n",
    "        end_station = rand(1:N_est)\n",
    "        while GetStationName(initial_station) == GetStationName(end_station)\n",
    "            initial_station = rand(1:N_est)\n",
    "            end_station = rand(1:N_est) \n",
    "        end\n",
    "        \n",
    "        num_tras_norm, num_est, num_tras_exp, num_exp = NormalesTrasbordosyExpress(D_normal, D_express, initial_station, end_station, normal_edge, transit_edge, express_edge)\n",
    "        \n",
    "        #Parte del Metro normal\n",
    "        tiempo_tras_norm = 0\n",
    "        for tras = 1:num_tras_norm\n",
    "            tiempo_tras_norm += tprom_espera*rand() + t_tras\n",
    "        end\n",
    "        tiempo_paradas_norm = 0\n",
    "        for parada = 1:num_est\n",
    "            tiempo_paradas_norm += tprom_parada*rand() + t_viaje\n",
    "        end\n",
    "        tiempito_norm = tprom_espera*rand() + tiempo_tras_norm + tiempo_paradas_norm\n",
    "        Time_traveled_norm[pasajero] = tiempito_norm\n",
    "        Velocidad_norm[pasajero] = num_est/tiempito_norm\n",
    "        \n",
    "        #Parte del Metro Express\n",
    "        tiempo_tras_exp = 0\n",
    "        for tras = 1:num_tras_exp\n",
    "            tiempo_tras_exp += tprom_espera*rand() + t_tras\n",
    "        end\n",
    "        tiempo_paradas_exp = 0\n",
    "        for parada = 1:num_exp\n",
    "            tiempo_paradas_exp += tprom_parada*rand() + 2*t_viaje #Pues el express tarda el doble en un viaje\n",
    "        end\n",
    "        tiempito_exp = tprom_espera*rand() + tiempo_tras_exp + tiempo_paradas_exp\n",
    "        Time_traveled_norm[pasajero] = tiempito_exp\n",
    "        Velocidad_norm[pasajero] = num_est/tiempito_exp\n",
    "        \n",
    "    end\n",
    "    return Stations_traveled, Time_traveled_norm, Velocidad_norm, Time_traveled_exp, Velocidad_exp\n",
    "end"
   ]
  },
  {
   "cell_type": "code",
   "execution_count": 3,
   "metadata": {
    "collapsed": false
   },
   "outputs": [
    {
     "ename": "LoadError",
     "evalue": "PasajerosMonteCarlo not defined\nwhile loading In[3], in expression starting on line 1",
     "output_type": "error",
     "traceback": [
      "PasajerosMonteCarlo not defined\nwhile loading In[3], in expression starting on line 1",
      ""
     ]
    }
   ],
   "source": [
    "Estaciones, Tiempo, Vel = PasajerosMonteCarlo(D, tprom_espera, t_viaje, tprom_parada, t_tras, 1000000, transit_edge_dist, normal_edge_dist)"
   ]
  },
  {
   "cell_type": "code",
   "execution_count": 4,
   "metadata": {
    "collapsed": false
   },
   "outputs": [
    {
     "ename": "LoadError",
     "evalue": "plot not defined\nwhile loading In[4], in expression starting on line 1",
     "output_type": "error",
     "traceback": [
      "plot not defined\nwhile loading In[4], in expression starting on line 1",
      ""
     ]
    }
   ],
   "source": [
    "plot(Estaciones, Tiempo, \".\")\n",
    "xlabel(\"Estaciones recorridas por el pasajero\")\n",
    "ylabel(\"Tiempo de Recorrido\")"
   ]
  },
  {
   "cell_type": "code",
   "execution_count": null,
   "metadata": {
    "collapsed": true
   },
   "outputs": [],
   "source": [
    "function PasajerosMonteCarlo2(DistMatrix, tprom_espera, t_viaje, tprom_parada, t_tras, N_pasajeros, transit_edge_dist, normal_edge_dist)\n",
    "    N_est = length(DistMatrix[1, :])\n",
    "    Stations_traveled = zeros(N_pasajeros)\n",
    "    Time_traveled = zeros(N_pasajeros)\n",
    "    Velocidad = zeros(N_pasajeros)\n",
    "    for pasajero = 1:N_pasajeros\n",
    "        initial_station = rand(1:N_est)\n",
    "        end_station = rand(1:N_est)\n",
    "        while GetStationName(initial_station) == GetStationName(end_station)\n",
    "            initial_station = rand(1:N_est)\n",
    "            end_station = rand(1:N_est) \n",
    "        end\n",
    "        num_est, num_tras = NormalesyTrasbordos(D, initial_station, end_station, transit_edge_dist, normal_edge_dist)\n",
    "        Stations_traveled[pasajero] = num_est\n",
    "        tiempo_tras = 0\n",
    "        for tras = 1:num_tras\n",
    "            tiempo_tras += tprom_espera*rand(Poisson()) + t_tras\n",
    "        end\n",
    "        tiempo_paradas = 0\n",
    "        for parada = 1:num_est\n",
    "            tiempo_paradas += tprom_parada*rand(Poisson()) + t_viaje\n",
    "        end\n",
    "        tiempito = tprom_espera*rand(Poisson()) + tiempo_tras + tiempo_paradas\n",
    "        Time_traveled[pasajero] = tiempito\n",
    "        Velocidad[pasajero] = num_est/tiempito\n",
    "        \n",
    "    end\n",
    "    return Stations_traveled, Time_traveled, Velocidad\n",
    "end"
   ]
  }
 ],
 "metadata": {
  "kernelspec": {
   "display_name": "Julia 0.3.7",
   "language": "julia",
   "name": "julia 0.3"
  },
  "language_info": {
   "name": "julia",
   "version": "0.3.7"
  }
 },
 "nbformat": 4,
 "nbformat_minor": 0
}
