{
 "cells": [
  {
   "cell_type": "markdown",
   "metadata": {},
   "source": [
    "# Usando las gráficas... "
   ]
  },
  {
   "cell_type": "markdown",
   "metadata": {},
   "source": [
    "<img src=\"Mexico_City_metro.png\"> "
   ]
  },
  {
   "cell_type": "code",
   "execution_count": 44,
   "metadata": {
    "collapsed": false
   },
   "outputs": [],
   "source": [
    "include(\"lineas_metro.txt\")\n",
    "\n",
    "using LightGraphs\n",
    "using GraphLayout\n",
    ";"
   ]
  },
  {
   "cell_type": "code",
   "execution_count": 2,
   "metadata": {
    "collapsed": false
   },
   "outputs": [
    {
     "data": {
      "text/plain": [
       "195"
      ]
     },
     "execution_count": 2,
     "metadata": {},
     "output_type": "execute_result"
    }
   ],
   "source": [
    "#Condiciones iniciales\n",
    "length_inic = Length_Lineas()\n",
    "est_tot_inic = Length_Estaciones()"
   ]
  },
  {
   "cell_type": "markdown",
   "metadata": {},
   "source": [
    "Creamos la función tipo `Graph` **MetroNetwork**. <br>\n",
    "Una **red** será representada por  **vértices** y se conectará a través de **artistas** o **edges**. La notación para una gráfica es <br>\n",
    "`Graph(V,E) = {V::vertices,E::edges}` "
   ]
  },
  {
   "cell_type": "code",
   "execution_count": 3,
   "metadata": {
    "collapsed": false
   },
   "outputs": [
    {
     "data": {
      "text/plain": [
       "Graph (constructor with 7 methods)"
      ]
     },
     "execution_count": 3,
     "metadata": {},
     "output_type": "execute_result"
    }
   ],
   "source": [
    "MetroNetwork(total_lines=Todas_Lineas) = Graph(Length_Estaciones(total_lines))\n",
    "typeof(MetroNetwork())"
   ]
  },
  {
   "cell_type": "markdown",
   "metadata": {},
   "source": [
    "Conectamos por aristas las estaciones de cada línea de metro de manera *independiente*. Es decir, sin unir los trasbordos."
   ]
  },
  {
   "cell_type": "code",
   "execution_count": 4,
   "metadata": {
    "collapsed": false
   },
   "outputs": [
    {
     "data": {
      "text/plain": [
       "ConnectSimpleNetwork (generic function with 2 methods)"
      ]
     },
     "execution_count": 4,
     "metadata": {},
     "output_type": "execute_result"
    }
   ],
   "source": [
    "# Dado el arreglo de líneas de metro, construimos una red\n",
    "# y conectamos sus vértices [estación a estación]\n",
    "# sin tomar en cuenta los trasbordos\n",
    "\n",
    "function ConnectSimpleNetwork(total_lines=Todas_Lineas)\n",
    "    metro_network = MetroNetwork(total_lines)\n",
    "    lines_length  = Length_Lineas(total_lines) \n",
    "    \n",
    "    s = 1\n",
    "    for i = 1:length(lines_length)\n",
    "        for station in s:lines_length[i] + s - 2\n",
    "            add_edge!(metro_network, station, station + 1)\n",
    "            s += 1\n",
    "        end\n",
    "        s += 1\n",
    "    end\n",
    "    return metro_network\n",
    "end"
   ]
  },
  {
   "cell_type": "code",
   "execution_count": 5,
   "metadata": {
    "collapsed": false
   },
   "outputs": [
    {
     "data": {
      "text/plain": [
       "{195, 183} undirected graph"
      ]
     },
     "execution_count": 5,
     "metadata": {},
     "output_type": "execute_result"
    }
   ],
   "source": [
    "#Obs: 195 - 183 = 12 [líneas independientes de la red]\n",
    "metro_network_simple = ConnectSimpleNetwork()"
   ]
  },
  {
   "cell_type": "markdown",
   "metadata": {},
   "source": [
    "Usando la función `GetStationNumber`, y `GetStationName`, hacemos una función que encuentre los puntos de `metro_network_simple` cuyos nombres sean iguales y los una con una arista.\n",
    "Esta arista representa los trasbordos de una estación a otra."
   ]
  },
  {
   "cell_type": "code",
   "execution_count": 6,
   "metadata": {
    "collapsed": false
   },
   "outputs": [
    {
     "data": {
      "text/plain": [
       "ConnectLines (generic function with 2 methods)"
      ]
     },
     "execution_count": 6,
     "metadata": {},
     "output_type": "execute_result"
    }
   ],
   "source": [
    "function ConnectLines(total_lines=Todas_Lineas)\n",
    "    num_est_tot   = Length_Estaciones(total_lines)\n",
    "    lines_length  = Length_Lineas(total_lines)\n",
    "    #metro_network = ConnectSimpleNetwork(total_lines)\n",
    "    metro_network = MetroNetwork(total_lines)\n",
    "    for i = 1:num_est_tot\n",
    "        for j = 1:num_est_tot\n",
    "            if i == j \n",
    "                continue \n",
    "                elseif GetStationName(i, total_lines) == GetStationName(j, total_lines)\n",
    "                if has_edge(metro_network, i, j)\n",
    "                else\n",
    "                    add_edge!(metro_network, i, j)\n",
    "                end\n",
    "            end\n",
    "        end\n",
    "    end\n",
    "    return metro_network\n",
    "end"
   ]
  },
  {
   "cell_type": "code",
   "execution_count": 7,
   "metadata": {
    "collapsed": false
   },
   "outputs": [
    {
     "data": {
      "text/plain": [
       "{195, 37} undirected graph"
      ]
     },
     "execution_count": 7,
     "metadata": {},
     "output_type": "execute_result"
    }
   ],
   "source": [
    "#Obs: 220 - 183 = 37 transbordos en toda la red.\n",
    "metro_network_transfer = ConnectLines()"
   ]
  },
  {
   "cell_type": "markdown",
   "metadata": {},
   "source": [
    "Falta incluir lo de **Weigthed Network** que no lo entendí 100% bien. \n",
    "Sé que hay que darle un distinto \"peso\" para distinguir el tipo de aristas, pero no entiendo bien cómo..."
   ]
  },
  {
   "cell_type": "markdown",
   "metadata": {},
   "source": [
    "Ahora, se le dará un **peso** a las aristas, que cumplirá la función de tiempo de espera, distinguiéndolas en dos tipos: <br> \n",
    " * Arista tipo trasbordo, que denominaremos `transit_edge` <br>\n",
    " * Arista tipo conexión normal, que denominaremos `normal_edge`. \n"
   ]
  },
  {
   "cell_type": "code",
   "execution_count": 8,
   "metadata": {
    "collapsed": false
   },
   "outputs": [
    {
     "data": {
      "text/plain": [
       "ConnectFullNetwork_Weighted (generic function with 4 methods)"
      ]
     },
     "execution_count": 8,
     "metadata": {},
     "output_type": "execute_result"
    }
   ],
   "source": [
    "function ConnectFullNetwork_Weighted(normal_edge=1, transit_edge=1.1,total_lines=Todas_Lineas)\n",
    "    num_est_tot   = Length_Estaciones(total_lines)\n",
    "    lines_length  = Length_Lineas(total_lines)\n",
    "    metro_network = MetroNetwork(total_lines)\n",
    "    edge_dists = zeros(num_est_tot,num_est_tot) #Matriz que guarda las distancias entre aristas\n",
    "    \n",
    "    #ConnectSimpleNetwork, \"pesando\" los ejes\n",
    "    s = 1\n",
    "    for i = 1:length(lines_length)\n",
    "        for station in s:lines_length[i] + s - 2\n",
    "            add_edge!(metro_network, station, station + 1)\n",
    "            edge_dists[station, station + 1] = normal_edge \n",
    "            edge_dists[station + 1, station] = normal_edge\n",
    "            s += 1\n",
    "        end\n",
    "        s += 1\n",
    "    end\n",
    "    \n",
    "    #ConnectLines, pesando los trasbordos \n",
    "    for i = 1:num_est_tot\n",
    "        for j = 1:num_est_tot\n",
    "            if GetStationName(i, total_lines) == GetStationName(j, total_lines)\n",
    "                if i != j\n",
    "                    if has_edge(metro_network, i, j)\n",
    "                    else\n",
    "                        add_edge!(metro_network, i, j)\n",
    "                        edge_dists[i, j] = transit_edge\n",
    "                        edge_dists[j, i] = transit_edge\n",
    "                    end\n",
    "                end\n",
    "            end\n",
    "        end\n",
    "    end\n",
    "    return metro_network, edge_dists\n",
    "end"
   ]
  },
  {
   "cell_type": "markdown",
   "metadata": {},
   "source": [
    "Ahora necesitamos hacer esto más amigable.\n",
    "Es decir, debemos crear una función que, dada una estación inicial y una final, nos diga la distancia de una a otra."
   ]
  },
  {
   "cell_type": "code",
   "execution_count": 42,
   "metadata": {
    "collapsed": false
   },
   "outputs": [],
   "source": [
    "ConnectFullNetwork_Weighted(1,1.1,Todas_Lineas);"
   ]
  },
  {
   "cell_type": "code",
   "execution_count": 14,
   "metadata": {
    "collapsed": false
   },
   "outputs": [
    {
     "data": {
      "text/plain": [
       "MatrixDist (generic function with 2 methods)"
      ]
     },
     "execution_count": 14,
     "metadata": {},
     "output_type": "execute_result"
    }
   ],
   "source": [
    "function MatrixDist(transfer_list, total_lines=Todas_Lineas)\n",
    "    \n",
    "    MetroNetwork_Weighted, Edge_Dist = ConnectFullNetwork_Weighted(1,1.1,total_lines)\n",
    "    \n",
    "    N = Length_Estaciones()\n",
    "    D = dijkstra_shortest_paths(MetroNetwork_Weighted, 1, edge_dists= Edge_Dist).dists;\n",
    "    for i = 2:N\n",
    "        d = dijkstra_shortest_paths(MetroNetwork_Weighted, i, edge_dists= Edge_Dist).dists\n",
    "        D = hcat(D, d)\n",
    "    end\n",
    "\n",
    "    for i = 1:N\n",
    "        for t1 in transfer_list\n",
    "            for t2 in transfer_list\n",
    "                if GetStationName(t1) == GetStationName(t2)\n",
    "                    \n",
    "                    if  D[i,t2] < D[i,t1]\n",
    "                        D[i,t1] = D[i,t2]\n",
    "                    if  D[t2,i] < D[t1,i]\n",
    "                        D[t1,i] = D[t2,i]\n",
    "                    end\n",
    "                    end\n",
    "                end\n",
    "            end\n",
    "        end\n",
    "    end\n",
    "    return D\n",
    "end"
   ]
  },
  {
   "cell_type": "code",
   "execution_count": 41,
   "metadata": {
    "collapsed": false
   },
   "outputs": [
    {
     "name": "stdout",
     "output_type": "stream",
     "text": [
      "elapsed time: 1.346749894 seconds (675609872 bytes allocated, 45.20% gc time)\n"
     ]
    }
   ],
   "source": [
    "@time D = MatrixDist(Transfer_List);"
   ]
  },
  {
   "cell_type": "code",
   "execution_count": 47,
   "metadata": {
    "collapsed": false
   },
   "outputs": [
    {
     "data": {
      "text/plain": [
       "NormalesyTrasbordos (generic function with 3 methods)"
      ]
     },
     "execution_count": 47,
     "metadata": {},
     "output_type": "execute_result"
    }
   ],
   "source": [
    "#Sacamos tupla con número de estaciones recorridas y número de trasbordos tomados.\n",
    "function NormalesyTrasbordos(matrix_dist, est_init, est_final,transit_edge_dist=1.1, normal_edge_dist=1.)\n",
    "    num_tras = round(matrix_dist[est_init, est_final]%1, 1)*10\n",
    "    num_est = round((matrix_dist[est_init, est_final] - transit_edge_dist*num_tras)/normal_edge_dist, 1)\n",
    "    return num_est, num_tras\n",
    "end"
   ]
  },
  {
   "cell_type": "code",
   "execution_count": null,
   "metadata": {
    "collapsed": true
   },
   "outputs": [],
   "source": []
  }
 ],
 "metadata": {
  "kernelspec": {
   "display_name": "Julia 0.3.7",
   "language": "julia",
   "name": "julia 0.3"
  },
  "language_info": {
   "name": "julia",
   "version": "0.3.7"
  }
 },
 "nbformat": 4,
 "nbformat_minor": 0
}
