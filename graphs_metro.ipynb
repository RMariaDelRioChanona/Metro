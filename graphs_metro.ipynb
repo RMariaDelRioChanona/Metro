{
 "cells": [
  {
   "cell_type": "markdown",
   "metadata": {},
   "source": [
    "# Usando las gráficas... "
   ]
  },
  {
   "cell_type": "markdown",
   "metadata": {},
   "source": [
    "<img src=\"Mexico_City_metro.png\"> "
   ]
  },
  {
   "cell_type": "code",
   "execution_count": 15,
   "metadata": {
    "collapsed": false
   },
   "outputs": [],
   "source": [
    "include(\"lineas_metro.txt\")\n",
    "\n",
    "using LightGraphs\n",
    "using GraphLayout\n",
    ";"
   ]
  },
  {
   "cell_type": "code",
   "execution_count": 2,
   "metadata": {
    "collapsed": false
   },
   "outputs": [
    {
     "data": {
      "text/plain": [
       "195"
      ]
     },
     "execution_count": 2,
     "metadata": {},
     "output_type": "execute_result"
    }
   ],
   "source": [
    "#Condiciones iniciales\n",
    "length_inic = Length_Lineas()\n",
    "est_tot_inic = Length_Estaciones()"
   ]
  },
  {
   "cell_type": "markdown",
   "metadata": {},
   "source": [
    "Creamos la función tipo `Graph` **MetroNetwork**. <br>\n",
    "Una **red** será representada por  **vértices** y se conectará a través de **artistas** o **edges**. La notación para una gráfica es <br>\n",
    "`Graph(V,E) = {V::vertices,E::edges}` "
   ]
  },
  {
   "cell_type": "code",
   "execution_count": 3,
   "metadata": {
    "collapsed": false
   },
   "outputs": [
    {
     "data": {
      "text/plain": [
       "Graph (constructor with 7 methods)"
      ]
     },
     "execution_count": 3,
     "metadata": {},
     "output_type": "execute_result"
    }
   ],
   "source": [
    "MetroNetwork(total_lines=Todas_Lineas) = Graph(Length_Estaciones(total_lines))\n",
    "typeof(MetroNetwork())"
   ]
  },
  {
   "cell_type": "markdown",
   "metadata": {},
   "source": [
    "Conectamos por aristas las estaciones de cada línea de metro de manera *independiente*. Es decir, sin unir los trasbordos."
   ]
  },
  {
   "cell_type": "code",
   "execution_count": 4,
   "metadata": {
    "collapsed": false
   },
   "outputs": [
    {
     "data": {
      "text/plain": [
       "ConnectSimpleNetwork (generic function with 2 methods)"
      ]
     },
     "execution_count": 4,
     "metadata": {},
     "output_type": "execute_result"
    }
   ],
   "source": [
    "# Dado el arreglo de líneas de metro, construimos una red\n",
    "# y conectamos sus vértices [estación a estación]\n",
    "# sin tomar en cuenta los trasbordos\n",
    "\n",
    "function ConnectSimpleNetwork(total_lines=Todas_Lineas)\n",
    "    metro_network = MetroNetwork(total_lines)\n",
    "    lines_length  = Length_Lineas(total_lines) \n",
    "    \n",
    "    s = 1\n",
    "    for i = 1:length(lines_length)\n",
    "        for station in s:lines_length[i] + s - 2\n",
    "            add_edge!(metro_network, station, station + 1)\n",
    "            s += 1\n",
    "        end\n",
    "        s += 1\n",
    "    end\n",
    "    return metro_network\n",
    "end"
   ]
  },
  {
   "cell_type": "code",
   "execution_count": 5,
   "metadata": {
    "collapsed": false
   },
   "outputs": [
    {
     "data": {
      "text/plain": [
       "{195, 183} undirected graph"
      ]
     },
     "execution_count": 5,
     "metadata": {},
     "output_type": "execute_result"
    }
   ],
   "source": [
    "#Obs: 195 - 183 = 12 [líneas independientes de la red]\n",
    "metro_network_simple = ConnectSimpleNetwork()"
   ]
  },
  {
   "cell_type": "markdown",
   "metadata": {},
   "source": [
    "Usando la función `GetStationNumber`, y `GetStationName`, hacemos una función que encuentre los puntos de `metro_network_simple` cuyos nombres sean iguales y los una con una arista.\n",
    "Esta arista representa los trasbordos de una estación a otra."
   ]
  },
  {
   "cell_type": "code",
   "execution_count": 6,
   "metadata": {
    "collapsed": false
   },
   "outputs": [
    {
     "data": {
      "text/plain": [
       "ConnectLines (generic function with 2 methods)"
      ]
     },
     "execution_count": 6,
     "metadata": {},
     "output_type": "execute_result"
    }
   ],
   "source": [
    "function ConnectLines(total_lines=Todas_Lineas)\n",
    "    num_est_tot   = Length_Estaciones(total_lines)\n",
    "    lines_length  = Length_Lineas(total_lines)\n",
    "    #metro_network = ConnectSimpleNetwork(total_lines)\n",
    "    metro_network = MetroNetwork(total_lines)\n",
    "    for i = 1:num_est_tot\n",
    "        for j = 1:num_est_tot\n",
    "            if i == j \n",
    "                continue \n",
    "                elseif GetStationName(i, total_lines) == GetStationName(j, total_lines)\n",
    "                if has_edge(metro_network, i, j)\n",
    "                else\n",
    "                    add_edge!(metro_network, i, j)\n",
    "                end\n",
    "            end\n",
    "        end\n",
    "    end\n",
    "    return metro_network\n",
    "end"
   ]
  },
  {
   "cell_type": "code",
   "execution_count": 7,
   "metadata": {
    "collapsed": false
   },
   "outputs": [
    {
     "data": {
      "text/plain": [
       "{195, 37} undirected graph"
      ]
     },
     "execution_count": 7,
     "metadata": {},
     "output_type": "execute_result"
    }
   ],
   "source": [
    "#Obs: 220 - 183 = 37 transbordos en toda la red.\n",
    "metro_network_transfer = ConnectLines()"
   ]
  },
  {
   "cell_type": "markdown",
   "metadata": {},
   "source": [
    "Falta incluir lo de **Weigthed Network** que no lo entendí 100% bien. \n",
    "Sé que hay que darle un distinto \"peso\" para distinguir el tipo de aristas, pero no entiendo bien cómo..."
   ]
  },
  {
   "cell_type": "markdown",
   "metadata": {},
   "source": [
    "Ahora, se le dará un **peso** a las aristas, que cumplirá la función de tiempo de espera, distinguiéndolas en dos tipos: <br> \n",
    " * Arista tipo trasbordo, que denominaremos `transit_edge` <br>\n",
    " * Arista tipo conexión normal, que denominaremos `normal_edge`. \n"
   ]
  },
  {
   "cell_type": "code",
   "execution_count": 8,
   "metadata": {
    "collapsed": false
   },
   "outputs": [
    {
     "data": {
      "text/plain": [
       "ConnectFullNetwork_Weighted (generic function with 4 methods)"
      ]
     },
     "execution_count": 8,
     "metadata": {},
     "output_type": "execute_result"
    }
   ],
   "source": [
    "function ConnectFullNetwork_Weighted(normal_edge=1, transit_edge=1.1,total_lines=Todas_Lineas)\n",
    "    num_est_tot   = Length_Estaciones(total_lines)\n",
    "    lines_length  = Length_Lineas(total_lines)\n",
    "    metro_network = MetroNetwork(total_lines)\n",
    "    #edge_dists; poco eficiente\n",
    "    edge_dists = zeros(num_est_tot,num_est_tot) #Matriz que guarda las distancias entre aristas\n",
    "    \n",
    "    #ConnectSimpleNetwork, \"pesando\" los ejes\n",
    "    s = 1\n",
    "    for i = 1:length(lines_length)\n",
    "        for station in s:lines_length[i] + s - 2\n",
    "            add_edge!(metro_network, station, station + 1)\n",
    "            edge_dists[station, station + 1] = normal_edge\n",
    "            edge_dists[station + 1, station] = normal_edge\n",
    "            s += 1\n",
    "        end\n",
    "        s += 1\n",
    "    end\n",
    "    \n",
    "    #ConnectLines, pesando los trasbordos \n",
    "    for i = 1:num_est_tot\n",
    "        for j = 1:num_est_tot\n",
    "            if GetStationName(i, total_lines) == GetStationName(j, total_lines)\n",
    "                if i != j\n",
    "                    if has_edge(metro_network, i, j)\n",
    "                    else\n",
    "                        add_edge!(metro_network, i, j)\n",
    "                        edge_dists[i, j] = transit_edge\n",
    "                        edge_dists[j, i] = transit_edge\n",
    "                    end\n",
    "                end\n",
    "            end\n",
    "        end\n",
    "    end\n",
    "    return metro_network, edge_dists\n",
    "end"
   ]
  },
  {
   "cell_type": "code",
   "execution_count": 9,
   "metadata": {
    "collapsed": false
   },
   "outputs": [
    {
     "ename": "LoadError",
     "evalue": "normal_edge_dist not defined\nwhile loading In[9], in expression starting on line 1",
     "output_type": "error",
     "traceback": [
      "normal_edge_dist not defined\nwhile loading In[9], in expression starting on line 1",
      ""
     ]
    }
   ],
   "source": [
    "MetroNetwork_Weighted, Edge_Dist = ConnectFullNetwork_Weighted(normal_edge_dist, transit_edge_dist);"
   ]
  },
  {
   "cell_type": "markdown",
   "metadata": {},
   "source": [
    "Ahora necesitamos hacer esto más amigable.\n",
    "Es decir, debemos crear una función que, dada una estación inicial y una final, nos diga la distancia de una a otra."
   ]
  },
  {
   "cell_type": "code",
   "execution_count": 10,
   "metadata": {
    "collapsed": false
   },
   "outputs": [
    {
     "name": "stdout",
     "output_type": "stream",
     "text": [
      "Error, la estación no está en esa línea\n"
     ]
    },
    {
     "data": {
      "text/plain": [
       "true"
      ]
     },
     "execution_count": 10,
     "metadata": {},
     "output_type": "execute_result"
    }
   ],
   "source": [
    "##Obs: si la estación no está en la línea, la función regresa un 0\n",
    "0 == GetStationNumber(\"Tacubaya\",2)"
   ]
  },
  {
   "cell_type": "code",
   "execution_count": 16,
   "metadata": {
    "collapsed": false
   },
   "outputs": [
    {
     "data": {
      "text/plain": [
       "DistanceDestiny (generic function with 2 methods)"
      ]
     },
     "execution_count": 16,
     "metadata": {},
     "output_type": "execute_result"
    }
   ],
   "source": [
    "function DistanceDestiny(est_inic,est_fin,total_lines=Todas_Lineas)\n",
    "    \n",
    "    # La estación inicial puede estar en varias líneas, debemos incluirlas todas\n",
    "    EstacionInic = Float64[]\n",
    "    sizehint(EstacionInic,4)\n",
    "    for i in 1:length(total_lines)\n",
    "        if GetStationNumber(est_inic,i) == 0\n",
    "            continue\n",
    "        else\n",
    "            push!(EstacionInic,GetStationNumber(est_inic,i))\n",
    "        end\n",
    "        EstacionInic = int(EstacionInic)\n",
    "    end\n",
    "    \n",
    "    # La estación final puede estar en varias líneas, debemos incluirlas todas\n",
    "    EstacionFinal = Float64[]\n",
    "    sizehint(EstacionFinal,4)\n",
    "    for i in 1:length(total_lines)\n",
    "        if GetStationNumber(est_fin,i) == 0\n",
    "            continue\n",
    "        else\n",
    "            push!(EstacionFinal,GetStationNumber(est_fin,i))\n",
    "        end\n",
    "        EstacionFinal = int(EstacionFinal)\n",
    "    end\n",
    "   \n",
    "    metro_network,edge_dist = ConnectFullNetwork_Weighted()\n",
    "    \n",
    "    # Vemos las distancias mínimas posibles al empezar en cada opción\n",
    "    distance=Float64[]\n",
    "    sizehint(distance,length(EstacionInic)*length(EstacionFinal))\n",
    "    for j in 1:length(EstacionInic)\n",
    "        for k in 1:length(EstacionFinal)\n",
    "        push!(distance,dijkstra_shortest_paths(metro_network,EstacionInic[j],edge_dists=edge_dist).dists[EstacionFinal[k]])\n",
    "        end\n",
    "    end\n",
    "    return minimum(distance)\n",
    "end"
   ]
  },
  {
   "cell_type": "code",
   "execution_count": 17,
   "metadata": {
    "collapsed": false
   },
   "outputs": [
    {
     "data": {
      "text/plain": [
       "3.0"
      ]
     },
     "execution_count": 17,
     "metadata": {},
     "output_type": "execute_result"
    }
   ],
   "source": [
    "distance = DistanceDestiny(\"Tacubaya\",\"Centro Médico\");\n",
    "distance"
   ]
  },
  {
   "cell_type": "code",
   "execution_count": 32,
   "metadata": {
    "collapsed": false
   },
   "outputs": [
    {
     "data": {
      "text/plain": [
       "({195, 220} undirected graph,\n",
       "195x195 Array{Float64,2}:\n",
       " 0.0  1.0  0.0  0.0  0.0  0.0  0.0  0.0  …  0.0  0.0  0.0  0.0  0.0  0.0  0.0\n",
       " 1.0  0.0  1.0  0.0  0.0  0.0  0.0  0.0     0.0  0.0  0.0  0.0  0.0  0.0  0.0\n",
       " 0.0  1.0  0.0  1.0  0.0  0.0  0.0  0.0     0.0  0.0  0.0  0.0  0.0  0.0  0.0\n",
       " 0.0  0.0  1.0  0.0  1.0  0.0  0.0  0.0     0.0  0.0  0.0  0.0  0.0  0.0  0.0\n",
       " 0.0  0.0  0.0  1.0  0.0  1.0  0.0  0.0     0.0  0.0  0.0  0.0  0.0  0.0  0.0\n",
       " 0.0  0.0  0.0  0.0  1.0  0.0  1.0  0.0  …  0.0  0.0  0.0  0.0  0.0  0.0  0.0\n",
       " 0.0  0.0  0.0  0.0  0.0  1.0  0.0  1.0     0.0  0.0  0.0  0.0  0.0  0.0  0.0\n",
       " 0.0  0.0  0.0  0.0  0.0  0.0  1.0  0.0     0.0  0.0  0.0  0.0  0.0  0.0  0.0\n",
       " 0.0  0.0  0.0  0.0  0.0  0.0  0.0  1.0     0.0  0.0  0.0  0.0  0.0  0.0  0.0\n",
       " 0.0  0.0  0.0  0.0  0.0  0.0  0.0  0.0     0.0  0.0  0.0  0.0  0.0  0.0  0.0\n",
       " 0.0  0.0  0.0  0.0  0.0  0.0  0.0  0.0  …  0.0  0.0  0.0  0.0  0.0  0.0  0.0\n",
       " 0.0  0.0  0.0  0.0  0.0  0.0  0.0  0.0     0.0  0.0  0.0  0.0  0.0  0.0  0.0\n",
       " 0.0  0.0  0.0  0.0  0.0  0.0  0.0  0.0     0.0  0.0  0.0  0.0  0.0  0.0  0.0\n",
       " ⋮                        ⋮              ⋱            ⋮                      \n",
       " 0.0  0.0  0.0  0.0  0.0  0.0  0.0  0.0     0.0  0.0  0.0  0.0  0.0  0.0  0.0\n",
       " 0.0  0.0  0.0  0.0  0.0  0.0  0.0  0.0     0.0  0.0  0.0  0.0  0.0  0.0  0.0\n",
       " 0.0  0.0  0.0  0.0  0.0  0.0  0.0  0.0  …  0.0  0.0  0.0  0.0  0.0  0.0  0.0\n",
       " 0.0  0.0  0.0  0.0  0.0  0.0  0.0  0.0     0.0  0.0  0.0  0.0  0.0  0.0  0.0\n",
       " 0.0  0.0  0.0  0.0  0.0  0.0  0.0  0.0     1.0  0.0  0.0  0.0  0.0  0.0  0.0\n",
       " 0.0  0.0  0.0  0.0  0.0  0.0  0.0  0.0     0.0  1.0  0.0  0.0  0.0  0.0  0.0\n",
       " 0.0  0.0  0.0  0.0  0.0  0.0  0.0  0.0     1.0  0.0  1.0  0.0  0.0  0.0  0.0\n",
       " 0.0  0.0  0.0  0.0  0.0  0.0  0.0  0.0  …  0.0  1.0  0.0  1.0  0.0  0.0  0.0\n",
       " 0.0  0.0  0.0  0.0  0.0  0.0  0.0  0.0     0.0  0.0  1.0  0.0  1.0  0.0  0.0\n",
       " 0.0  0.0  0.0  0.0  0.0  0.0  0.0  0.0     0.0  0.0  0.0  1.0  0.0  1.0  0.0\n",
       " 0.0  0.0  0.0  0.0  0.0  0.0  0.0  0.0     0.0  0.0  0.0  0.0  1.0  0.0  1.0\n",
       " 0.0  0.0  0.0  0.0  0.0  0.0  0.0  0.0     0.0  0.0  0.0  0.0  0.0  1.0  0.0)"
      ]
     },
     "execution_count": 32,
     "metadata": {},
     "output_type": "execute_result"
    }
   ],
   "source": [
    "ConnectFullNetwork_Weighted(1,1.1,Todas_Lineas)"
   ]
  },
  {
   "cell_type": "code",
   "execution_count": 35,
   "metadata": {
    "collapsed": false
   },
   "outputs": [
    {
     "data": {
      "text/plain": [
       "MatrixDist (generic function with 2 methods)"
      ]
     },
     "execution_count": 35,
     "metadata": {},
     "output_type": "execute_result"
    }
   ],
   "source": [
    "function MatrixDist(transfer_list, total_lines=Todas_Lineas)\n",
    "    \n",
    "    MetroNetwork_Weighted, Edge_Dist = ConnectFullNetwork_Weighted(1,1.1,total_lines)\n",
    "    \n",
    "    N = Length_Estaciones()\n",
    "    D = dijkstra_shortest_paths(MetroNetwork_Weighted, 1, edge_dists= Edge_Dist).dists;\n",
    "    for i = 2:N\n",
    "        d = dijkstra_shortest_paths(MetroNetwork_Weighted, i, edge_dists= Edge_Dist).dists\n",
    "        D = hcat(D, d)\n",
    "    end\n",
    "\n",
    "    for i = 1:N\n",
    "        for t1 in transfer_list\n",
    "            for t2 in transfer_list\n",
    "                if GetStationName(t1) == GetStationName(t2)\n",
    "                    \n",
    "                    if  D[i,t2] < D[i,t1]\n",
    "                        D[i,t1] = D[i,t2]\n",
    "                    if  D[t2,i] < D[t1,i]\n",
    "                        D[t1,i] = D[t2,i]\n",
    "                    end\n",
    "                    end\n",
    "                end\n",
    "            end\n",
    "        end\n",
    "    end\n",
    "    return D\n",
    "end"
   ]
  },
  {
   "cell_type": "code",
   "execution_count": 39,
   "metadata": {
    "collapsed": false
   },
   "outputs": [
    {
     "name": "stdout",
     "output_type": "stream",
     "text": [
      "elapsed time: 0.094473484 seconds (59302800 bytes allocated, 50.07% gc time)\n"
     ]
    },
    {
     "data": {
      "text/plain": [
       "195x195 Array{Float64,2}:\n",
       "  0.0   1.0   2.0   3.0   4.0   5.0  …  20.2  21.2  22.2  23.2  24.2  25.2\n",
       "  1.0   0.0   1.0   2.0   3.0   4.0     18.1  19.1  20.1  21.1  22.1  23.1\n",
       "  2.0   1.0   0.0   1.0   2.0   3.0     20.2  21.2  22.2  23.2  24.2  25.2\n",
       "  3.0   2.0   1.0   0.0   1.0   2.0     21.2  22.2  23.2  24.2  25.2  26.2\n",
       "  4.0   3.0   2.0   1.0   0.0   1.0     22.2  23.2  24.2  25.2  26.2  27.2\n",
       "  5.0   4.0   3.0   2.0   1.0   0.0  …  22.2  23.2  24.2  25.2  26.2  27.2\n",
       "  6.0   5.0   4.0   3.0   2.0   1.0     21.2  22.2  23.2  24.2  25.2  26.2\n",
       "  7.0   6.0   5.0   4.0   3.0   2.0     20.2  21.2  22.2  23.2  24.2  25.2\n",
       "  8.0   7.0   6.0   5.0   4.0   3.0     19.2  20.2  21.2  22.2  23.2  24.2\n",
       "  9.0   8.0   7.0   6.0   5.0   4.0     19.2  20.2  21.2  22.2  23.2  24.2\n",
       " 10.0   9.0   8.0   7.0   6.0   5.0  …  18.2  19.2  20.2  21.2  22.2  23.2\n",
       " 11.0  10.0   9.0   8.0   7.0   6.0     19.2  20.2  21.2  22.2  23.2  24.2\n",
       " 12.0  10.2  10.0   9.0   8.0   7.0     18.3  19.3  20.3  21.3  22.3  23.3\n",
       "  ⋮                             ⋮    ⋱         ⋮                          \n",
       " 14.2  12.1  14.2  15.2  16.2  16.2      6.0   7.0   8.0   9.0  10.0  11.0\n",
       " 15.2  13.1  15.2  16.2  17.2  17.2      5.0   6.0   7.0   8.0   9.0  10.0\n",
       " 16.2  14.1  16.2  17.2  18.2  18.2  …   4.0   5.0   6.0   7.0   8.0   9.0\n",
       " 17.2  15.1  17.2  18.2  19.2  19.2      3.0   4.0   5.0   6.0   7.0   8.0\n",
       " 18.2  16.1  18.2  19.2  20.2  20.2      2.0   3.0   4.0   5.0   6.0   7.0\n",
       " 19.2  17.1  19.2  20.2  21.2  21.2      1.0   2.0   3.0   4.0   5.0   6.0\n",
       " 20.2  18.1  20.2  21.2  22.2  22.2      0.0   1.0   2.0   3.0   4.0   5.0\n",
       " 21.2  19.1  21.2  22.2  23.2  23.2  …   1.0   0.0   1.0   2.0   3.0   4.0\n",
       " 22.2  20.1  22.2  23.2  24.2  24.2      2.0   1.0   0.0   1.0   2.0   3.0\n",
       " 23.2  21.1  23.2  24.2  25.2  25.2      3.0   2.0   1.0   0.0   1.0   2.0\n",
       " 24.2  22.1  24.2  25.2  26.2  26.2      4.0   3.0   2.0   1.0   0.0   1.0\n",
       " 25.2  23.1  25.2  26.2  27.2  27.2      5.0   4.0   3.0   2.0   1.0   0.0"
      ]
     },
     "execution_count": 39,
     "metadata": {},
     "output_type": "execute_result"
    }
   ],
   "source": [
    "@time MatrixDist(transfer_list)"
   ]
  },
  {
   "cell_type": "code",
   "execution_count": 26,
   "metadata": {
    "collapsed": false
   },
   "outputs": [
    {
     "data": {
      "text/plain": [
       "3-element Array{Int64,1}:\n",
       "   2\n",
       " 109\n",
       " 133"
      ]
     },
     "execution_count": 26,
     "metadata": {},
     "output_type": "execute_result"
    }
   ],
   "source": [
    "transfer_list = [2,109,133]"
   ]
  },
  {
   "cell_type": "code",
   "execution_count": 44,
   "metadata": {
    "collapsed": false,
    "scrolled": true
   },
   "outputs": [
    {
     "name": "stdout",
     "output_type": "stream",
     "text": [
      "PITO! PITO! PITO! PITO! PITO! PITO! PITO! PITO! PITO! PITO! PITO! PITO! PITO! PITO! PITO! PITO! PITO! PITO! PITO! PITO! PITO! PITO! PITO! PITO! PITO! PITO! PITO! PITO! PITO! PITO! PITO! PITO! PITO! PITO! PITO! PITO! PITO! PITO! PITO! PITO! PITO! PITO! PITO! PITO! PITO! PITO! PITO! PITO! PITO! PITO! PITO! PITO! PITO! PITO! PITO! PITO! PITO! PITO! PITO! PITO! PITO! PITO! PITO! PITO! PITO! PITO! PITO! PITO! PITO! PITO! PITO! PITO! PITO! PITO! PITO! PITO! PITO! PITO! PITO! PITO! PITO! PITO! PITO! PITO! PITO! PITO! PITO! PITO! PITO! PITO! PITO! PITO! PITO! PITO! PITO! PITO! PITO! PITO! PITO! PITO! PITO! PITO! PITO! PITO! PITO! PITO! PITO! PITO! PITO! PITO! PITO! PITO! PITO! PITO! PITO! PITO! PITO! PITO! PITO! PITO! PITO! PITO! PITO! PITO! PITO! PITO! PITO! PITO! PITO! PITO! PITO! PITO! PITO! PITO! PITO! PITO! PITO! PITO! PITO! PITO! PITO! PITO! PITO! PITO! PITO! PITO! PITO! PITO! PITO! PITO! PITO! PITO! PITO! PITO! PITO! PITO! PITO! PITO! PITO! PITO! PITO! PITO! PITO! PITO! PITO! PITO! PITO! PITO! PITO! PITO! PITO! PITO! PITO! PITO! PITO! PITO! PITO! PITO! PITO! PITO! PITO! PITO! PITO! PITO! PITO! PITO! PITO! PITO! PITO! PITO! PITO! PITO! PITO! PITO! PITO! "
     ]
    }
   ],
   "source": [
    "# hacer lista de trasbordos <- MatrixDist\n",
    "# obtener sus nombres <- express\n",
    "for i in 1:Length_Estaciones()\n",
    "    print(\"PITO! \")\n",
    "end"
   ]
  },
  {
   "cell_type": "code",
   "execution_count": 42,
   "metadata": {
    "collapsed": false
   },
   "outputs": [
    {
     "data": {
      "text/plain": [
       "1.0"
      ]
     },
     "execution_count": 42,
     "metadata": {},
     "output_type": "execute_result"
    }
   ],
   "source": [
    "D[109,3]"
   ]
  }
 ],
 "metadata": {
  "kernelspec": {
   "display_name": "Julia 0.3.7",
   "language": "julia",
   "name": "julia 0.3"
  },
  "language_info": {
   "name": "julia",
   "version": "0.3.7"
  }
 },
 "nbformat": 4,
 "nbformat_minor": 0
}
