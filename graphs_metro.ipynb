{
 "cells": [
  {
   "cell_type": "markdown",
   "metadata": {},
   "source": [
    "# Usando las gráficas... "
   ]
  },
  {
   "cell_type": "markdown",
   "metadata": {},
   "source": [
    "<img src=\"Mexico_City_metro.png\"> "
   ]
  },
  {
   "cell_type": "code",
   "execution_count": 2,
   "metadata": {
    "collapsed": false
   },
   "outputs": [],
   "source": [
    "include(\"lineas_metro.txt\")\n",
    "\n",
    "using LightGraphs\n",
    "using GraphLayout\n",
    ";"
   ]
  },
  {
   "cell_type": "markdown",
   "metadata": {},
   "source": [
    "Creamos la función tipo `Graph` **MetroNetwork**. <br>\n",
    "Una **red** será representada por  **vértices** y se conectará a través de **artistas** o **edges**. La notación para una gráfica es <br>\n",
    "`Graph(V,E) = {V::vertices,E::edges}` "
   ]
  },
  {
   "cell_type": "code",
   "execution_count": 52,
   "metadata": {
    "collapsed": false
   },
   "outputs": [
    {
     "data": {
      "text/plain": [
       "MetroNetwork (generic function with 2 methods)"
      ]
     },
     "execution_count": 52,
     "metadata": {},
     "output_type": "execute_result"
    }
   ],
   "source": [
    "MetroNetwork(total_lines=Todas_Lineas) = Graph(Length_Estaciones(total_lines))"
   ]
  },
  {
   "cell_type": "markdown",
   "metadata": {},
   "source": [
    "Conectamos por aristas las estaciones de cada línea de metro de manera *independiente*. Es decir, sin unir los trasbordos."
   ]
  },
  {
   "cell_type": "code",
   "execution_count": 4,
   "metadata": {
    "collapsed": false
   },
   "outputs": [
    {
     "data": {
      "text/plain": [
       "ConnectSimpleNetwork (generic function with 2 methods)"
      ]
     },
     "execution_count": 4,
     "metadata": {},
     "output_type": "execute_result"
    }
   ],
   "source": [
    "# Dado el arreglo de líneas de metro, construimos una red\n",
    "# y conectamos sus vértices [estación a estación]\n",
    "# sin tomar en cuenta los trasbordos\n",
    "\n",
    "function ConnectSimpleNetwork(total_lines=Todas_Lineas)\n",
    "    metro_network = MetroNetwork(total_lines)\n",
    "    lines_length  = Length_Lineas(total_lines) \n",
    "    \n",
    "    s = 1\n",
    "    for i = 1:length(lines_length)\n",
    "        for station in s:lines_length[i] + s - 2\n",
    "            add_edge!(metro_network, station, station + 1)\n",
    "            s += 1\n",
    "        end\n",
    "        s += 1\n",
    "    end\n",
    "    return metro_network\n",
    "end"
   ]
  },
  {
   "cell_type": "markdown",
   "metadata": {},
   "source": [
    "Usando la función `GetStationNumber`, y `GetStationName`, hacemos una función que encuentre los puntos de `metro_network_simple` cuyos nombres sean iguales y los una con una arista.\n",
    "Esta arista representa los trasbordos de una estación a otra."
   ]
  },
  {
   "cell_type": "code",
   "execution_count": 5,
   "metadata": {
    "collapsed": false
   },
   "outputs": [
    {
     "data": {
      "text/plain": [
       "ConnectLines (generic function with 2 methods)"
      ]
     },
     "execution_count": 5,
     "metadata": {},
     "output_type": "execute_result"
    }
   ],
   "source": [
    "function ConnectLines(total_lines=Todas_Lineas)\n",
    "    num_est_tot   = Length_Estaciones(total_lines)\n",
    "    lines_length  = Length_Lineas(total_lines)\n",
    "    #metro_network = ConnectSimpleNetwork(total_lines)\n",
    "    metro_network = MetroNetwork(total_lines)\n",
    "    for i = 1:num_est_tot\n",
    "        for j = 1:num_est_tot\n",
    "            if i == j \n",
    "                continue \n",
    "                elseif GetStationName(i, total_lines) == GetStationName(j, total_lines)\n",
    "                if has_edge(metro_network, i, j)\n",
    "                else\n",
    "                    add_edge!(metro_network, i, j)\n",
    "                end\n",
    "            end\n",
    "        end\n",
    "    end\n",
    "    return metro_network\n",
    "end"
   ]
  },
  {
   "cell_type": "markdown",
   "metadata": {},
   "source": [
    "Falta incluir lo de **Weigthed Network** que no lo entendí 100% bien. \n",
    "Sé que hay que darle un distinto \"peso\" para distinguir el tipo de aristas, pero no entiendo bien cómo..."
   ]
  },
  {
   "cell_type": "markdown",
   "metadata": {},
   "source": [
    "Ahora, se le dará un **peso** a las aristas, que cumplirá la función de tiempo de espera, distinguiéndolas en dos tipos: <br> \n",
    " * Arista tipo trasbordo, que denominaremos `transit_edge` <br>\n",
    " * Arista tipo conexión normal, que denominaremos `normal_edge`. \n"
   ]
  },
  {
   "cell_type": "code",
   "execution_count": 7,
   "metadata": {
    "collapsed": false
   },
   "outputs": [
    {
     "data": {
      "text/plain": [
       "ConnectFullNetwork_Weighted (generic function with 5 methods)"
      ]
     },
     "execution_count": 7,
     "metadata": {},
     "output_type": "execute_result"
    }
   ],
   "source": [
    "function ConnectFullNetwork_Weighted(normal_edge=1, transit_edge=1.1,express_edge=2.01, total_lines=Todas_Lineas)\n",
    "    num_est_tot   = Length_Estaciones(total_lines)\n",
    "    lines_length  = Length_Lineas(total_lines)\n",
    "    metro_network = MetroNetwork(total_lines)\n",
    "    edge_dists = zeros(num_est_tot,num_est_tot) #Matriz que guarda las distancias entre aristas\n",
    "    \n",
    "    #ConnectSimpleNetwork, \"pesando\" los ejes\n",
    "    s = 1\n",
    "    for i = 1:12 #líneas normales\n",
    "        for station in s:lines_length[i] + s - 2\n",
    "            add_edge!(metro_network, station, station + 1)\n",
    "            edge_dists[station, station + 1] = normal_edge \n",
    "            edge_dists[station + 1, station] = normal_edge\n",
    "            s += 1\n",
    "        end\n",
    "        s += 1\n",
    "    end\n",
    "    \n",
    "    if length(total_lines) > 12\n",
    "        s = 196\n",
    "        for i = 13:24 #líneas express\n",
    "            for station in s: lines_length[i] + s - 2\n",
    "                if has_edge(metro_network, station, station + 1)\n",
    "                else\n",
    "                    add_edge!(metro_network, station, station + 1)\n",
    "                    edge_dists[station, station + 1] = express_edge   # ESTO SÍ SE PUEDE HACER A MANO \n",
    "                    edge_dists[station + 1, station] = express_edge\n",
    "                    s += 1\n",
    "                end\n",
    "            end\n",
    "            s += 1\n",
    "        end\n",
    "    end\n",
    "    \n",
    "    #ConnectLines, pesando los trasbordos \n",
    "    for i = 1:num_est_tot\n",
    "        for j = 1:num_est_tot\n",
    "            if GetStationName(i, total_lines) == GetStationName(j, total_lines)\n",
    "                if i != j\n",
    "                    if has_edge(metro_network, i, j)\n",
    "                    else\n",
    "                        add_edge!(metro_network, i, j)\n",
    "                        edge_dists[i, j] = transit_edge\n",
    "                        edge_dists[j, i] = transit_edge\n",
    "                    end\n",
    "                end\n",
    "            end\n",
    "        end\n",
    "    end\n",
    "    return metro_network, edge_dists\n",
    "end"
   ]
  },
  {
   "cell_type": "markdown",
   "metadata": {},
   "source": [
    "##Matriz de Distancias\n",
    "Nos dará la distancia entre dos estaciones haciendo `D[i,j]`, con:\n",
    "\n",
    "`D:` Matriz de $NxN$, con N el tamaño de la red.<br>\n",
    "`i:` i-ésima estación.<br>\n",
    "`j:`j-ésima estación."
   ]
  },
  {
   "cell_type": "code",
   "execution_count": 13,
   "metadata": {
    "collapsed": false
   },
   "outputs": [
    {
     "data": {
      "text/plain": [
       "MatrixDist (generic function with 3 methods)"
      ]
     },
     "execution_count": 13,
     "metadata": {},
     "output_type": "execute_result"
    }
   ],
   "source": [
    "function MatrixDist(transfer_list = transfer_listplus, total_lines = Todas_LineasPlus)\n",
    "    \n",
    "    MetroNetwork_Weighted, Edge_Dist = ConnectFullNetwork_Weighted(1,1.1,2.001,total_lines)\n",
    "    \n",
    "    N = Length_Estaciones(total_lines)\n",
    "    D = dijkstra_shortest_paths(MetroNetwork_Weighted, 1, edge_dists = Edge_Dist).dists;\n",
    "    \n",
    "    M = Length_Lineas(total_lines) #sólo para GetStationName...\n",
    "    for i = 2:N\n",
    "        d = dijkstra_shortest_paths(MetroNetwork_Weighted, i, edge_dists = Edge_Dist).dists\n",
    "        D = hcat(D, d) # Ya está la matriz, ahora hay que corregir los trasbordos.\n",
    "    end\n",
    "        for transfer_1 in transfer_list\n",
    "         for i in 1:N\n",
    "          for transfer_2 in transfer_list\n",
    "\n",
    "            if transfer_1 == transfer_2\n",
    "            elseif GetStationName(transfer_2,total_lines,M) == GetStationName(transfer_1,total_lines,M)\n",
    "                D[transfer_2,i] =  min(D[transfer_1,i],D[transfer_2,i],D[i,transfer_1],D[i,transfer_2])\n",
    "                D[i,transfer_1] =  min(D[transfer_1,i],D[transfer_2,i],D[i,transfer_1],D[i,transfer_2])\n",
    "            end\n",
    "                \n",
    "          end\n",
    "         end\n",
    "        end\n",
    "    return D\n",
    "end"
   ]
  },
  {
   "cell_type": "code",
   "execution_count": 14,
   "metadata": {
    "collapsed": false
   },
   "outputs": [
    {
     "data": {
      "text/plain": [
       "NormalesyTrasbordos (generic function with 3 methods)"
      ]
     },
     "execution_count": 14,
     "metadata": {},
     "output_type": "execute_result"
    }
   ],
   "source": [
    "#Sacamos tupla con número de estaciones recorridas y número de trasbordos tomados.\n",
    "function NormalesyTrasbordos(matrix_dist, est_init, est_final,transit_edge_dist=1.1, normal_edge_dist=1.)\n",
    "    num_tras = round(matrix_dist[est_init, est_final]%1, 1)*10\n",
    "    num_est = round((matrix_dist[est_init, est_final] - transit_edge_dist*num_tras)/normal_edge_dist, 1)\n",
    "    return num_est, num_tras\n",
    "end"
   ]
  },
  {
   "cell_type": "code",
   "execution_count": 15,
   "metadata": {
    "collapsed": false
   },
   "outputs": [
    {
     "data": {
      "text/plain": [
       "NormalesTrasbordosyExpress (generic function with 4 methods)"
      ]
     },
     "execution_count": 15,
     "metadata": {},
     "output_type": "execute_result"
    }
   ],
   "source": [
    "#Sacamos tupla con número de estaciones recorridas y número de trasbordos tomados.\n",
    "function NormalesTrasbordosyExpress(matrix_dist, est_init, est_final,transit_edge_dist=1.1, normal_edge_dist=1., express_edge_dist = 1.001)\n",
    "    num_exp = round(matrix_dist[est_init, est_final]%1, 10)*1000\n",
    "    num_tras = round(matrix_dist[est_init, est_final]%1, 1)*10\n",
    "    num_est = round((matrix_dist[est_init, est_final] - transit_edge_dist*num_tras - express_edge_dist*num_exp)/normal_edge_dist, 1)\n",
    "    return num_est, num_tras, num_exp\n",
    "end"
   ]
  },
  {
   "cell_type": "code",
   "execution_count": 30,
   "metadata": {
    "collapsed": true
   },
   "outputs": [],
   "source": [
    "#Matriz de Distancias para Línea Normal\n",
    "D_norm = MatrixDist(transfer_list,Todas_Lineas) \n",
    "#Matriz de Distancias para Línea Normal+Express\n",
    "D_plus = MatrixDist();"
   ]
  }
 ],
 "metadata": {
  "kernelspec": {
   "display_name": "Julia 0.3.7",
   "language": "julia",
   "name": "julia 0.3"
  },
  "language_info": {
   "name": "julia",
   "version": "0.3.7"
  }
 },
 "nbformat": 4,
 "nbformat_minor": 0
}
