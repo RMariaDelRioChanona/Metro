{
 "cells": [
  {
   "cell_type": "markdown",
   "metadata": {},
   "source": [
    "# Análisis del Sistema de Metro con Método Montecarlo"
   ]
  },
  {
   "cell_type": "markdown",
   "metadata": {},
   "source": [
    "Buscamos analizar el sistema del metro desde el punto de vista de la física estadística. Para esto simularemos pasajeros que estaciones de inicio y fin aleatorias pero que siempre toman el camino más corto."
   ]
  },
  {
   "cell_type": "code",
   "execution_count": 1,
   "metadata": {
    "collapsed": false
   },
   "outputs": [],
   "source": [
    "#using PyCall\n",
    "#@pyimport igraph"
   ]
  },
  {
   "cell_type": "code",
   "execution_count": 9,
   "metadata": {
    "collapsed": false
   },
   "outputs": [],
   "source": [
    "using LightGraphs\n",
    "#using Graphs"
   ]
  },
  {
   "cell_type": "code",
   "execution_count": 3,
   "metadata": {
    "collapsed": false
   },
   "outputs": [],
   "source": [
    "#Graph(3)"
   ]
  },
  {
   "cell_type": "markdown",
   "metadata": {},
   "source": [
    "## La Red del Metro del DF"
   ]
  },
  {
   "cell_type": "code",
   "execution_count": 3,
   "metadata": {
    "collapsed": false
   },
   "outputs": [],
   "source": [
    "Linea1 = String[\"Observatorio\", \"Tacubaya\", \"Juanacatlán\", \"Chapultepec\", \"Sevilla\", \"Insurgentes\", \"Cuauhtémoc\", \"Balderas\", \n",
    "\"Salto del Agua\", \"Isabel la Católica\", \"Pino Suárez\", \"Merced\", \"Candelaria\", \"San Lázaro\", \"Moctezuma\", \"Balbuena\",\n",
    "    \"Boulevard Puerto Aéreo\", \"Gómez Farías\", \"Zaragoza\", \"Pantitlán\" ];\n",
    "Linea2 = String[\"Cuatro Caminos\", \"Panteones\", \"Tacuba\", \"Cuitlahuac\", \"Popotla\", \"Colegio Militar\", \"Normal\", \"San Cosme\", \n",
    "    \"Revolución\", \"Hidalgo\", \"Bellas Artes\", \"Allende\", \"Zócalo\", \"Pino Suárez\", \"San Antonio Abad\", \"Chabacano\", \"Viaducto\",\n",
    "    \"Xola\", \"Villa de Cortés\", \"Nativitas\", \"Portales\", \"Ermita\", \"General Anaya\", \"Tasqueña\"  ]\n",
    "Linea3 = String[\"Indios Verdes\", \"Deportivo 18 de Marzo\", \"Potrero\", \"La Raza\", \"Tlatelolco\", \"Guerrero\", \"Hidalgo\", \"Juárez\",\n",
    "\"Balderas\", \"Niños Héroes\", \"Hospital General\", \"Centro Médico\", \"Etiopía\", \"Eugenia\", \"División del Norte\", \"Zapata\", \n",
    "\"Coyoacán\", \"Viveros\", \"Miguel Angel de Quevedo\", \"Copilco\", \"Universidad\"]\n",
    "Linea4 = String[\"Martín Carrera\", \"Talismán\", \"Bondojito\", \"Consulado\", \"Canal del Norte\", \"Morelos\", \"Candelaria\",\n",
    "    \"Fray Servando\", \"Jamaica\", \"Santa Anita\"]\n",
    "Linea5 = String[\"Pantitlán\", \"Hangares\", \"Terminal Aérea\", \"Oceanía\", \"Aragón\", \"Eduardo Molina\", \"Consulado\", \"Valle Gómez\",\n",
    "\"Misterios\", \"La Raza\", \"Autobuses del Norte\", \"Instituto del Petróleo\", \"Politécnico\"]\n",
    "Linea6 = String[\"El Rosario\", \"Tezozomoc\", \"Azcapotzalco\", \"Ferrería\", \"Norte 45\", \"Vallejo\", \"Instituto del Petróleo\", \n",
    "\"Lindavista\", \"Deportivo 18 de Marzo\", \"La Villa-Basílica\", \"Martín Carrera\"]\n",
    "Linea7 = String[\"El Rosario\", \"Aquiles Sedán\", \"Camarones\", \"Refinería\", \"Tacuba\", \"San Joaquín\", \"Polanco\", \"Auditorio\",\n",
    "\"Constituyentes\", \"Tacubaya\", \"San Pedro de los Pinos\", \"San Antonio\", \"Mixcoac\", \"Barranca del Muerto\"]\n",
    "Linea8 = String[\"Garibaldi\", \"Bellas Artes\", \"San Juan de Letrán\", \"Salto del Agua\", \"Doctores\", \"Obrera\", \"Chabacano\",\n",
    "    \"La Viga\", \"Santa Anita\", \"Coyuya\", \"Iztacalco\", \"Apatlaco\", \"Aculco\", \"Escuadrón 201\", \"Atlalilco\", \"Iztapalapa\",\n",
    "\"Cerro de la Estrella\", \"UAM-I\", \"Constitución de 1917\"];\n",
    "Linea9 = String[\"Tacubaya\", \"Patriotismo\", \"Chilpancingo\", \"Centro Médico\",  \"Lázaro Cárdenas\", \"Chabacano\", \"Jamaica\", \"Mixiuhca\"\n",
    ", \"Velódromo\", \"Ciudad Deportiva\", \"Puebla\", \"Pantitlán\"]\n",
    "LineaA = String[\"Pantitlán\", \"Agrícola Oriental\", \"Canal de San Juan\", \"Tepalcates\", \"Guelatao\", \"Peñón Viejo\", \"Acatitla\",\n",
    "\"Santa Marta\", \"Los Reyes\", \"La Paz\" ]\n",
    "LineaB = String[\"Ciudad Azteca\", \"Plaza Aragón\", \"Olímpica\", \"Ecatepec\", \"Muzquiz\", \"Río de los Remedios\", \"Impulsora\", \n",
    "    \"Nezahualcóyotl\", \"Villa de Aragón\", \"Bosque de Aragón\", \"Deportivo Oceanía\", \"Oceanía\", \"Romero Rubio\", \"R. Flores Magón\",\n",
    "    \"San Lázaro\", \"Morelos\", \"Tepito\", \"Lagunilla\", \"Garibaldi\", \"Guerrero\", \"Buenavista\" ];\n",
    "Linea12 = String[\"Mixcoac\", \"Insurgentes Sur\", \"Hospital 20 de Noviembre\", \"Zapata\", \"Parque de los Venados\", \"Eje Central\",\n",
    "\"Ermita\", \"Mexicaltzingo\", \"Atlalilco\", \"Culhuacán\", \"San Andrés Tomatlán\", \"Lomas Estrella\", \"Calle 11\", \"Perfiférico Oriente\"\n",
    "    , \"Tezonco\", \"Olivos\", \"Nopalera\", \"Zapotitlán\", \"Tlaltenco\", \"Tláhuac\"];"
   ]
  },
  {
   "cell_type": "code",
   "execution_count": 4,
   "metadata": {
    "collapsed": false
   },
   "outputs": [],
   "source": [
    "Lineas = Array{String}[]\n",
    "push!(Lineas, Linea1)\n",
    "push!(Lineas, Linea2)\n",
    "push!(Lineas, Linea3)\n",
    "push!(Lineas, Linea4)\n",
    "push!(Lineas, Linea5)\n",
    "push!(Lineas, Linea6)\n",
    "push!(Lineas, Linea7)\n",
    "push!(Lineas, Linea8)\n",
    "push!(Lineas, Linea9)\n",
    "push!(Lineas, LineaA)\n",
    "push!(Lineas, LineaB)\n",
    "push!(Lineas, Linea12);"
   ]
  },
  {
   "cell_type": "code",
   "execution_count": 5,
   "metadata": {
    "collapsed": false
   },
   "outputs": [
    {
     "data": {
      "text/plain": [
       "1-element Array{Int32,1}:\n",
       " 20"
      ]
     },
     "execution_count": 5,
     "metadata": {},
     "output_type": "execute_result"
    }
   ],
   "source": [
    "stations_lines1 = Int32[length(Linea1)]"
   ]
  },
  {
   "cell_type": "code",
   "execution_count": 67,
   "metadata": {
    "collapsed": false
   },
   "outputs": [],
   "source": [
    "lines_Length = Int32[] #Lista de la longitud de cada línea\n",
    "Stations = String[] #\n",
    "for i = 1:length(Lineas)\n",
    "    push!(lines_Length, length(Lineas[i]))\n",
    "end\n",
    "Lines = length(lines_Length)\n",
    "N = sum(lines_Length);"
   ]
  },
  {
   "cell_type": "code",
   "execution_count": 68,
   "metadata": {
    "collapsed": false
   },
   "outputs": [
    {
     "data": {
      "text/plain": [
       "ConnectSimpleNetwork (generic function with 1 method)"
      ]
     },
     "execution_count": 68,
     "metadata": {},
     "output_type": "execute_result"
    }
   ],
   "source": [
    "MetroNetwork = Graph(N)\n",
    "function ConnectSimpleNetwork(g, stations_lines)\n",
    "    s = 1\n",
    "    for l = 1:length(stations_lines)\n",
    "        for station in s:stations_lines[l] + s - 2\n",
    "            add_edge!(g, station, station + 1)\n",
    "            s += 1\n",
    "        end\n",
    "        s += 1\n",
    "    end\n",
    "    return g\n",
    "end"
   ]
  },
  {
   "cell_type": "code",
   "execution_count": 69,
   "metadata": {
    "collapsed": false
   },
   "outputs": [
    {
     "data": {
      "text/plain": [
       "roof (generic function with 1 method)"
      ]
     },
     "execution_count": 69,
     "metadata": {},
     "output_type": "execute_result"
    }
   ],
   "source": [
    "function roof(x)\n",
    "    return -1*floor(-x)\n",
    "end"
   ]
  },
  {
   "cell_type": "code",
   "execution_count": 70,
   "metadata": {
    "collapsed": false
   },
   "outputs": [],
   "source": [
    "linea = [i for i = 1:12]\n",
    "for i in linea[1:0]\n",
    "    print(i)\n",
    "end"
   ]
  },
  {
   "cell_type": "code",
   "execution_count": 71,
   "metadata": {
    "collapsed": false
   },
   "outputs": [
    {
     "name": "stdout",
     "output_type": "stream",
     "text": [
      "works\n",
      "otraotraotraotraotraotraotraotraotraotraotraotraotraotraotraotraotraotraotra"
     ]
    }
   ],
   "source": [
    "for stat in Linea1\n",
    "    if stat == \"Observatorio\"\n",
    "        println(\"works\")\n",
    "    else\n",
    "        print(\"otra\")\n",
    "    end\n",
    "end"
   ]
  },
  {
   "cell_type": "code",
   "execution_count": 72,
   "metadata": {
    "collapsed": false
   },
   "outputs": [
    {
     "data": {
      "text/plain": [
       "getStationNumber (generic function with 2 methods)"
      ]
     },
     "execution_count": 72,
     "metadata": {},
     "output_type": "execute_result"
    }
   ],
   "source": [
    "function getStationNumber(station_name, line_num, lines)\n",
    "    line = lines[line_num]\n",
    "    if station_name in line\n",
    "    else\n",
    "        println(\"Error, la estación no está en esa línea\")\n",
    "        return \"Error\"\n",
    "    end\n",
    "    ##Acabamos de verificar que la estación esté en la línea\n",
    "    num_1 = 0 \n",
    "    for l in lines[1:line_num - 1]\n",
    "        num_1 += length(l)\n",
    "    end\n",
    "    ##Hasta aquí llegamos a una estación antes de la primera de la lista\n",
    "    num_2 = 0\n",
    "    for station in line\n",
    "        num_2 += 1\n",
    "        if station == station_name\n",
    "            break\n",
    "        end\n",
    "    end\n",
    "    ##Sumamos estaciones de la misma línea hasta llegar a la que queremos\n",
    "    return num_1 + num_2\n",
    "end"
   ]
  },
  {
   "cell_type": "code",
   "execution_count": 73,
   "metadata": {
    "collapsed": false
   },
   "outputs": [
    {
     "name": "stdout",
     "output_type": "stream",
     "text": [
      "5\n",
      "144\n"
     ]
    }
   ],
   "source": [
    "a = getStationNumber(\"Sevilla\", 1, Lineas)\n",
    "b = getStationNumber(\"Pantitlán\", 9, Lineas)\n",
    "println(a)\n",
    "println(b)"
   ]
  },
  {
   "cell_type": "code",
   "execution_count": 198,
   "metadata": {
    "collapsed": false
   },
   "outputs": [
    {
     "data": {
      "text/plain": [
       "getStationName (generic function with 3 methods)"
      ]
     },
     "execution_count": 198,
     "metadata": {},
     "output_type": "execute_result"
    }
   ],
   "source": [
    "function getStationName(station_number, lines , station_length)\n",
    "    num = 0\n",
    "    l = 0\n",
    "    stations_so_far = 0\n",
    "    for i = 1:12 #12 = número de líneas\n",
    "        #println(num)\n",
    "        if  station_number < num\n",
    "            l = i\n",
    "            #println(l)\n",
    "            break\n",
    "        end\n",
    "        #stations_so_far += length(lines[i])\n",
    "        num += length(lines[i - 1])\n",
    "    end\n",
    "    println(l)\n",
    "    println(stations_so_far)\n",
    "    println(num)\n",
    "    dif =  -station_number + num #-stations_so_far\n",
    "    println(dif)\n",
    "    return lines[l][dif]\n",
    "    \n",
    "end"
   ]
  },
  {
   "cell_type": "code",
   "execution_count": 199,
   "metadata": {
    "collapsed": false
   },
   "outputs": [
    {
     "data": {
      "text/plain": [
       "12"
      ]
     },
     "execution_count": 199,
     "metadata": {},
     "output_type": "execute_result"
    }
   ],
   "source": [
    "length(lines_Length)"
   ]
  },
  {
   "cell_type": "code",
   "execution_count": 200,
   "metadata": {
    "collapsed": false
   },
   "outputs": [
    {
     "ename": "LoadError",
     "evalue": "BoundsError()\nwhile loading In[200], in expression starting on line 1",
     "output_type": "error",
     "traceback": [
      "BoundsError()\nwhile loading In[200], in expression starting on line 1",
      ""
     ]
    }
   ],
   "source": [
    "getStationName(5, Lineas, lines_Length)"
   ]
  },
  {
   "cell_type": "code",
   "execution_count": 19,
   "metadata": {
    "collapsed": false
   },
   "outputs": [],
   "source": [
    "function ConnectLines(g, Lines)\n",
    "    for L1 in Lines[1:roof(length(Lines))]\n",
    "        for L2 in Lines\n",
    "            for estacion1 in L1\n",
    "                for estacion2 in L2\n",
    "                    if estacion1 == estacion2\n",
    "                        e1 = getStationNumber(estacion1)\n",
    "                        e2 = getStationNumber(estacion2)\n",
    "                        add_edge!(g, e1, e2)\n",
    "                    end\n",
    "                end\n",
    "            end\n",
    "        end\n",
    "    end\n",
    "end"
   ]
  },
  {
   "cell_type": "code",
   "execution_count": 6,
   "metadata": {
    "collapsed": false
   },
   "outputs": [
    {
     "data": {
      "text/plain": [
       "ConnectLines (generic function with 1 method)"
      ]
     },
     "execution_count": 6,
     "metadata": {},
     "output_type": "execute_result"
    }
   ],
   "source": [
    "function ConnectLines(g)\n",
    "    add_edge!(g, 11, 34)\n",
    "    add_edge!(g, 8, 53)\n",
    "    add_edge!(g, 13, 72)\n",
    "    add_edge!(g, 20, 88)\n",
    "    add_edge!(g, 2, 109)\n",
    "    add_edge!(g, 9, 117)\n",
    "    add_edge!(g, 2, 133)\n",
    "    add_edge!(g, 20, 144)\n",
    "    add_edge!(g, 14, 161)\n",
    "    add_edge!(g, 30, 51) #Linea 2\n",
    "    add_edge!(g, 23, 104)\n",
    "    add_edge!(g, 31, 115)\n",
    "    add_edge!(g, 36, 120)\n",
    "    add_edge!(g, 36, 138)\n",
    "    add_edge!(g, 42, 182)\n",
    "    add_edge!(g, 48, 79) #Linea 3\n",
    "    add_edge!(g, 46, 97)\n",
    "    add_edge!(g, 56, 136)\n",
    "    add_edge!(g, 50, 156)\n",
    "    add_edge!(g, 60, 179)\n",
    "    add_edge!(g, 69, 82) #Linea 4\n",
    "    add_edge!(g, 66, 99)\n",
    "    add_edge!(g, 75, 122)\n",
    "    add_edge!(g, 74, 139)\n",
    "    add_edge!(g, 71, 160)\n",
    "    add_edge!(g, 77, 95) #Linea 5\n",
    "    add_edge!(g, 88, 144)\n",
    "    add_edge!(g, 88, 145)\n",
    "    add_edge!(g, 85, 164)\n",
    "    add_edge!(g, 89, 100) #Linea 6\n",
    "    add_edge!(g, 109, 133)\n",
    "    add_edge!(g, 112, 176)\n",
    "    add_edge!(g, 120, 138) #Linea 8\n",
    "    add_edge!(g, 114, 157)\n",
    "    add_edge!(g, 128, 184)\n",
    "    add_edge!(g, 144, 145) #Linea 9\n",
    "    return g\n",
    "end"
   ]
  },
  {
   "cell_type": "code",
   "execution_count": 7,
   "metadata": {
    "collapsed": false
   },
   "outputs": [],
   "source": [
    "MetroNetwork = ConnectNetwork(MetroNetwork, Stations_Lines)\n",
    "MetroNetwork = ConnectLines(MetroNetwork);"
   ]
  },
  {
   "cell_type": "code",
   "execution_count": 8,
   "metadata": {
    "collapsed": false
   },
   "outputs": [
    {
     "name": "stdout",
     "output_type": "stream",
     "text": [
      "{195, 219} undirected graph"
     ]
    }
   ],
   "source": [
    "#plot(g)\n",
    "print(MetroNetwork)"
   ]
  },
  {
   "cell_type": "code",
   "execution_count": 9,
   "metadata": {
    "collapsed": false
   },
   "outputs": [],
   "source": [
    "distancias_aristas = dijkstra_shortest_paths(MetroNetwork, 1).dists;"
   ]
  },
  {
   "cell_type": "code",
   "execution_count": 10,
   "metadata": {
    "collapsed": false
   },
   "outputs": [
    {
     "data": {
      "text/plain": [
       "Edge_Distance (generic function with 1 method)"
      ]
     },
     "execution_count": 10,
     "metadata": {},
     "output_type": "execute_result"
    }
   ],
   "source": [
    "function Edge_Distance(N, stations_lines, t_travel, t_stop, t_transit, t_wait)\n",
    "    edge_dists = zeros(N, N)\n",
    "    normal_edge = t_travel + t_stop\n",
    "    transit_edge = t_transit + t_wait\n",
    "    s = 1\n",
    "    for l = 1:length(stations_lines)\n",
    "        for station in s:stations_lines[l] + s - 2\n",
    "            edge_dists[station, station + 1] = normal_edge\n",
    "            edge_dists[station + 1, station] = normal_edge\n",
    "            s += 1\n",
    "        end\n",
    "        s += 1\n",
    "    end\n",
    "    edge_dists[11, 34] = transit_edge\n",
    "    edge_dists[8, 53] = transit_edge\n",
    "    edge_dists[13, 72] = transit_edge\n",
    "    edge_dists[20, 88] = transit_edge\n",
    "    edge_dists[2, 109] = transit_edge\n",
    "    edge_dists[9, 117] = transit_edge\n",
    "    edge_dists[2, 133] = transit_edge\n",
    "    edge_dists[20, 144] = transit_edge\n",
    "    edge_dists[14, 161] = transit_edge\n",
    "    edge_dists[30, 51] = transit_edge #Linea 2\n",
    "    edge_dists[23, 104] = transit_edge\n",
    "    edge_dists[31, 115] = transit_edge \n",
    "    edge_dists[36, 120] = transit_edge\n",
    "    edge_dists[36, 138] = transit_edge\n",
    "    edge_dists[42, 182] = transit_edge\n",
    "    edge_dists[48, 79] = transit_edge #Linea 3\n",
    "    edge_dists[46, 97] = transit_edge\n",
    "    edge_dists[56, 136] = transit_edge\n",
    "    edge_dists[50, 156] = transit_edge\n",
    "    edge_dists[60, 179] = transit_edge\n",
    "    edge_dists[69, 82] = transit_edge #Linea 4\n",
    "    edge_dists[66, 99] = transit_edge\n",
    "    edge_dists[75, 122] = transit_edge\n",
    "    edge_dists[74, 139] = transit_edge\n",
    "    edge_dists[71, 160] = transit_edge\n",
    "    edge_dists[77, 95] = transit_edge #Linea 5\n",
    "    edge_dists[88, 144] = transit_edge\n",
    "    edge_dists[88, 145] = transit_edge\n",
    "    edge_dists[85, 164] = transit_edge\n",
    "    edge_dists[89, 100] = transit_edge #Linea 6\n",
    "    edge_dists[109, 133] = transit_edge #Linea 7\n",
    "    edge_dists[112, 176] = transit_edge \n",
    "    edge_dists[120, 138] = transit_edge #linea 8\n",
    "    edge_dists[114, 157] = transit_edge\n",
    "    edge_dists[128, 184] = transit_edge\n",
    "    edge_dists[144, 145] = transit_edge #Linea 9\n",
    "    ### Other edge\n",
    "    edge_dists[34, 11] = transit_edge\n",
    "    edge_dists[53, 8] = transit_edge\n",
    "    edge_dists[72, 13] = transit_edge\n",
    "    edge_dists[88, 20] = transit_edge\n",
    "    edge_dists[109, 2] = transit_edge\n",
    "    edge_dists[117, 9] = transit_edge\n",
    "    edge_dists[133, 2] = transit_edge\n",
    "    edge_dists[144, 20] = transit_edge\n",
    "    edge_dists[161, 14] = transit_edge\n",
    "    edge_dists[51, 30] = transit_edge #Linea 2\n",
    "    edge_dists[104, 23] = transit_edge\n",
    "    edge_dists[115, 31] = transit_edge\n",
    "    edge_dists[120, 36] = transit_edge\n",
    "    edge_dists[138, 36] = transit_edge\n",
    "    edge_dists[182, 42] = transit_edge\n",
    "    edge_dists[79, 48] = transit_edge #Linea 3\n",
    "    edge_dists[97, 46] = transit_edge\n",
    "    edge_dists[136, 56] = transit_edge\n",
    "    edge_dists[156, 50] = transit_edge\n",
    "    edge_dists[179, 60] = transit_edge\n",
    "    edge_dists[82, 69] = transit_edge #Linea 4\n",
    "    edge_dists[99, 66] = transit_edge\n",
    "    edge_dists[122, 75] = transit_edge\n",
    "    edge_dists[139, 79] = transit_edge\n",
    "    edge_dists[160, 71] = transit_edge\n",
    "    edge_dists[95, 77] = transit_edge #Linea 5\n",
    "    edge_dists[144, 88] = transit_edge\n",
    "    edge_dists[145, 88] = transit_edge\n",
    "    edge_dists[164, 85] = transit_edge\n",
    "    edge_dists[100, 89] = transit_edge #Linea 6\n",
    "    edge_dists[133, 109] = transit_edge #Linea 7\n",
    "    edge_dists[176, 112] = transit_edge\n",
    "    edge_dists[138, 120] = transit_edge #Linea 8\n",
    "    edge_dists[157, 114] = transit_edge\n",
    "    edge_dists[184, 128] = transit_edge\n",
    "    edge_dists[145, 144] = transit_edge #Linea 9\n",
    "    return edge_dists\n",
    "end"
   ]
  },
  {
   "cell_type": "code",
   "execution_count": 11,
   "metadata": {
    "collapsed": false
   },
   "outputs": [],
   "source": [
    "t_travel = 120\n",
    "t_stop = 20\n",
    "t_transit = 120.1\n",
    "t_wait = 180\n",
    "edge_dists = Edge_Distance(N, Stations_Lines, t_travel, t_stop, t_transit, t_wait);"
   ]
  },
  {
   "cell_type": "code",
   "execution_count": 25,
   "metadata": {
    "collapsed": false
   },
   "outputs": [],
   "source": [
    "D = dijkstra_shortest_paths(MetroNetwork, 1, edge_dists=edge_dists).dists;"
   ]
  },
  {
   "cell_type": "code",
   "execution_count": 26,
   "metadata": {
    "collapsed": false
   },
   "outputs": [],
   "source": [
    "D = dijkstra_shortest_paths(MetroNetwork, 1, edge_dists=edge_dists).dists\n",
    "for i = 2:195\n",
    "    d = dijkstra_shortest_paths(MetroNetwork, i, edge_dists=edge_dists).dists\n",
    "    D = hcat(D, d)\n",
    "end"
   ]
  },
  {
   "cell_type": "markdown",
   "metadata": {},
   "source": [
    "####Matriz de distancias"
   ]
  },
  {
   "cell_type": "code",
   "execution_count": 6,
   "metadata": {
    "collapsed": false
   },
   "outputs": [
    {
     "ename": "LoadError",
     "evalue": "D not defined\nwhile loading In[6], in expression starting on line 1",
     "output_type": "error",
     "traceback": [
      "D not defined\nwhile loading In[6], in expression starting on line 1",
      ""
     ]
    }
   ],
   "source": [
    "D;"
   ]
  },
  {
   "cell_type": "code",
   "execution_count": 15,
   "metadata": {
    "collapsed": false
   },
   "outputs": [
    {
     "data": {
      "text/plain": [
       "5940.3"
      ]
     },
     "execution_count": 15,
     "metadata": {},
     "output_type": "execute_result"
    }
   ],
   "source": [
    "maximum(D)"
   ]
  },
  {
   "cell_type": "code",
   "execution_count": 16,
   "metadata": {
    "collapsed": false
   },
   "outputs": [
    {
     "data": {
      "text/plain": [
       "4.0"
      ]
     },
     "execution_count": 16,
     "metadata": {},
     "output_type": "execute_result"
    }
   ],
   "source": [
    "round(5.4%1, 1)*10"
   ]
  },
  {
   "cell_type": "markdown",
   "metadata": {},
   "source": [
    "## Método Montecarlo"
   ]
  },
  {
   "cell_type": "code",
   "execution_count": 18,
   "metadata": {
    "collapsed": false
   },
   "outputs": [],
   "source": [
    "using GraphLayout"
   ]
  },
  {
   "cell_type": "code",
   "execution_count": 22,
   "metadata": {
    "collapsed": false
   },
   "outputs": [
    {
     "data": {
      "text/plain": [
       "tiempo (generic function with 1 method)"
      ]
     },
     "execution_count": 22,
     "metadata": {},
     "output_type": "execute_result"
    }
   ],
   "source": [
    "function tiempo(D, start_station, end_station, t_stop, t_transit, t_travel, t_wait)\n",
    "    distance = D[start_station, end_station]\n",
    "    normal_edge = t_travel + t_stop\n",
    "    transit_edge = t_transit + t_wait\n",
    "    n_transit = round(distance%1, 1)*10\n",
    "    n_stations = (distance - n_transit*transit_edge)/normal_edge\n",
    "    #return n_transit, n_stations\n",
    "    t = 0\n",
    "    for i = 1:n_transit\n",
    "        t += rand(t_transit) + rand(t_wait)\n",
    "    end\n",
    "    for i = 1:n_stations\n",
    "        t += rand(t_stop) + t_travel\n",
    "    end\n",
    "    return t\n",
    "end"
   ]
  },
  {
   "cell_type": "code",
   "execution_count": 23,
   "metadata": {
    "collapsed": false
   },
   "outputs": [
    {
     "ename": "LoadError",
     "evalue": "`rand` has no method matching rand(::Float64)\nwhile loading In[23], in expression starting on line 1",
     "output_type": "error",
     "traceback": [
      "`rand` has no method matching rand(::Float64)\nwhile loading In[23], in expression starting on line 1",
      "",
      " in tiempo at In[22]:10"
     ]
    }
   ],
   "source": [
    "tiempo(D, 109, 93, t_stop, t_transit, t_travel, t_wait)"
   ]
  },
  {
   "cell_type": "code",
   "execution_count": 46,
   "metadata": {
    "collapsed": false
   },
   "outputs": [
    {
     "data": {
      "text/plain": [
       "MonteCarloMetro (generic function with 1 method)"
      ]
     },
     "execution_count": 46,
     "metadata": {},
     "output_type": "execute_result"
    }
   ],
   "source": [
    "function MonteCarloMetro(g, p, N, D, t_stop, t_transit, t_travel, t_wait)\n",
    "    time_list = zeros(p)\n",
    "    for i = 1:p\n",
    "        start_station = rand(1:N)\n",
    "        end_station = rand(1:N)\n",
    "        while end_station == start_station\n",
    "            end_station = rand(1:N)\n",
    "        end\n",
    "        time[i] = tiempo(D, start_station, end_station, t_stop, t_transit, t_travel, t_wait)   \n",
    "    end\n",
    "    \n",
    "end"
   ]
  },
  {
   "cell_type": "code",
   "execution_count": 35,
   "metadata": {
    "collapsed": false
   },
   "outputs": [],
   "source": [
    "#diameter(MetroNetwork)\n",
    "#diameter(MetroNetwork, [edge_dists])"
   ]
  },
  {
   "cell_type": "code",
   "execution_count": 36,
   "metadata": {
    "collapsed": false
   },
   "outputs": [],
   "source": [
    "h = MetroNetwork\n",
    "am = full(adjacency_matrix(h))\n",
    "loc_x, loc_y = layout_spring_adj(am)\n",
    "draw_layout_adj(am, loc_x, loc_y, filename=\"metro.svg\")"
   ]
  },
  {
   "cell_type": "code",
   "execution_count": null,
   "metadata": {
    "collapsed": false
   },
   "outputs": [],
   "source": []
  },
  {
   "cell_type": "code",
   "execution_count": 18,
   "metadata": {
    "collapsed": false
   },
   "outputs": [
    {
     "ename": "LoadError",
     "evalue": "floyd_warshall not defined\nwhile loading In[18], in expression starting on line 2",
     "output_type": "error",
     "traceback": [
      "floyd_warshall not defined\nwhile loading In[18], in expression starting on line 2",
      ""
     ]
    }
   ],
   "source": [
    "distancias_aristas=dijkstra_shortest_paths(MetroNetwork, 1).dists;\n",
    "floyd_warshall(distancias_aristas)"
   ]
  },
  {
   "cell_type": "code",
   "execution_count": 84,
   "metadata": {
    "collapsed": false
   },
   "outputs": [
    {
     "data": {
      "text/plain": [
       "Array{Float64,1}"
      ]
     },
     "execution_count": 84,
     "metadata": {},
     "output_type": "execute_result"
    }
   ],
   "source": [
    "typeof(distancias_aristas)"
   ]
  },
  {
   "cell_type": "code",
   "execution_count": null,
   "metadata": {
    "collapsed": false
   },
   "outputs": [],
   "source": [
    "floyd_warshall(a)"
   ]
  },
  {
   "cell_type": "code",
   "execution_count": 73,
   "metadata": {
    "collapsed": false
   },
   "outputs": [],
   "source": [
    "plot(MetroNetwork)"
   ]
  },
  {
   "cell_type": "code",
   "execution_count": 52,
   "metadata": {
    "collapsed": false
   },
   "outputs": [
    {
     "ename": "LoadError",
     "evalue": "`floyd_warshall` has no method matching floyd_warshall(::Function)\nwhile loading In[52], in expression starting on line 1",
     "output_type": "error",
     "traceback": [
      "`floyd_warshall` has no method matching floyd_warshall(::Function)\nwhile loading In[52], in expression starting on line 1",
      ""
     ]
    }
   ],
   "source": [
    "floyd_warshall(edges)"
   ]
  },
  {
   "cell_type": "code",
   "execution_count": 51,
   "metadata": {
    "collapsed": false
   },
   "outputs": [
    {
     "data": {
      "text/plain": [
       "413-element Array{Edge{Int64},1}:\n",
       " edge [1]: 1 -- 2      \n",
       " edge [2]: 2 -- 3      \n",
       " edge [3]: 3 -- 4      \n",
       " edge [4]: 4 -- 5      \n",
       " edge [5]: 5 -- 6      \n",
       " edge [6]: 6 -- 7      \n",
       " edge [7]: 7 -- 8      \n",
       " edge [8]: 8 -- 9      \n",
       " edge [9]: 9 -- 10     \n",
       " edge [10]: 10 -- 11   \n",
       " edge [11]: 11 -- 12   \n",
       " edge [12]: 12 -- 13   \n",
       " edge [13]: 13 -- 14   \n",
       " ⋮                     \n",
       " edge [402]: 74 -- 139 \n",
       " edge [403]: 71 -- 159 \n",
       " edge [404]: 77 -- 95  \n",
       " edge [405]: 88 -- 144 \n",
       " edge [406]: 88 -- 145 \n",
       " edge [407]: 85 -- 164 \n",
       " edge [408]: 89 -- 100 \n",
       " edge [409]: 112 -- 176\n",
       " edge [410]: 120 -- 138\n",
       " edge [411]: 114 -- 157\n",
       " edge [412]: 128 -- 184\n",
       " edge [413]: 144 -- 145"
      ]
     },
     "execution_count": 51,
     "metadata": {},
     "output_type": "execute_result"
    }
   ],
   "source": [
    "edges(MetroNetwork)"
   ]
  },
  {
   "cell_type": "code",
   "execution_count": 8,
   "metadata": {
    "collapsed": false
   },
   "outputs": [
    {
     "data": {
      "text/plain": [
       "edge [1]: 1 -- 2"
      ]
     },
     "execution_count": 8,
     "metadata": {},
     "output_type": "execute_result"
    }
   ],
   "source": [
    "add_edge!(g, 1, 2)"
   ]
  },
  {
   "cell_type": "code",
   "execution_count": 13,
   "metadata": {
    "collapsed": false
   },
   "outputs": [
    {
     "data": {
      "text/plain": [
       "edge [1]: 1 -- 2"
      ]
     },
     "execution_count": 13,
     "metadata": {},
     "output_type": "execute_result"
    }
   ],
   "source": [
    "add_edge!(g, 1, 2)"
   ]
  },
  {
   "cell_type": "code",
   "execution_count": null,
   "metadata": {
    "collapsed": false
   },
   "outputs": [],
   "source": [
    "graph()"
   ]
  },
  {
   "cell_type": "code",
   "execution_count": 34,
   "metadata": {
    "collapsed": false
   },
   "outputs": [
    {
     "data": {
      "text/plain": [
       "Undirected Graph (3 vertices, 0 edges)"
      ]
     },
     "execution_count": 34,
     "metadata": {},
     "output_type": "execute_result"
    }
   ],
   "source": [
    "h = graph([1, 2, 3], [] , is_directed=false )"
   ]
  },
  {
   "cell_type": "code",
   "execution_count": 36,
   "metadata": {
    "collapsed": false
   },
   "outputs": [
    {
     "ename": "LoadError",
     "evalue": "`add_edge!` has no method matching add_edge!(::GenericGraph{Int64,None,Array{Int64,1},Array{None,1},Array{Array{None,1},1}}, ::Int64, ::Int64, ::Edge{Int64})\nwhile loading In[36], in expression starting on line 1",
     "output_type": "error",
     "traceback": [
      "`add_edge!` has no method matching add_edge!(::GenericGraph{Int64,None,Array{Int64,1},Array{None,1},Array{Array{None,1},1}}, ::Int64, ::Int64, ::Edge{Int64})\nwhile loading In[36], in expression starting on line 1",
      "",
      " in add_edge! at /home/rm/.julia/v0.4/Graphs/src/graph.jl:120"
     ]
    }
   ],
   "source": [
    "add_edge!(h, 1, 2)"
   ]
  },
  {
   "cell_type": "code",
   "execution_count": 64,
   "metadata": {
    "collapsed": false
   },
   "outputs": [
    {
     "ename": "LoadError",
     "evalue": "g1_wedges not defined\nwhile loading In[64], in expression starting on line 15",
     "output_type": "error",
     "traceback": [
      "g1_wedges not defined\nwhile loading In[64], in expression starting on line 15",
      ""
     ]
    }
   ],
   "source": [
    "g = simple_inclist(5)\n",
    "\n",
    "inputs = [       # each element is (u, v, dist)\n",
    "    (1, 2, 10.),\n",
    "    (1, 3, 5.),\n",
    "    (2, 3, 2.),\n",
    "    (3, 2, 3.),\n",
    "    (2, 4, 1.),\n",
    "    (3, 5, 2.),\n",
    "    (4, 5, 4.),\n",
    "    (5, 4, 6.),\n",
    "    (5, 1, 7.),\n",
    "    (3, 4, 9.) ]\n",
    "\n",
    "ne = length(g1_wedges)\n",
    "dists = zeros(ne)\n",
    "\n",
    "for i = 1 : ne\n",
    "    a = inputs[i]\n",
    "    add_edge!(g1, a[1], a[2])   # add edge\n",
    "    dists[i] = a[3]             # set distance\n",
    "end\n",
    "\n",
    "r = dijkstra_shortest_paths(g, dists, 1)\n",
    "\n",
    "@assert r.parents == [1, 3, 1, 2, 3]\n",
    "@assert r.dists == [0., 8., 5., 9., 7.]"
   ]
  },
  {
   "cell_type": "code",
   "execution_count": null,
   "metadata": {
    "collapsed": false
   },
   "outputs": [],
   "source": []
  }
 ],
 "metadata": {
  "kernelspec": {
   "display_name": "Julia 0.3.7",
   "language": "julia",
   "name": "julia 0.3"
  },
  "language_info": {
   "name": "julia",
   "version": "0.3.7"
  }
 },
 "nbformat": 4,
 "nbformat_minor": 0
}
